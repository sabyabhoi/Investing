{
 "cells": [
  {
   "cell_type": "code",
   "execution_count": 1,
   "metadata": {},
   "outputs": [],
   "source": [
    "import pandas as pd\n",
    "import yfinance as yf\n",
    "import numpy as np\n",
    "import matplotlib.pyplot as plt \n",
    "import seaborn as sns\n",
    "\n",
    "import os \n",
    "import datetime as dt\n",
    "\n",
    "import utils "
   ]
  },
  {
   "cell_type": "code",
   "execution_count": 2,
   "metadata": {},
   "outputs": [],
   "source": [
    "DATA_PATH = '../../data/stocks'"
   ]
  },
  {
   "cell_type": "code",
   "execution_count": 3,
   "metadata": {},
   "outputs": [
    {
     "data": {
      "text/plain": [
       "['CPSEETF.NS',\n",
       " 'MOM100.NS',\n",
       " 'ICICIB22.NS',\n",
       " 'MON100.NS',\n",
       " 'GOLDBEES.NS',\n",
       " 'NIFTYBEES.NS',\n",
       " 'HDFCSML250.NS']"
      ]
     },
     "execution_count": 3,
     "metadata": {},
     "output_type": "execute_result"
    }
   ],
   "source": [
    "tickers = ['CPSEETF', \n",
    "           'MOM100', \n",
    "            'ICICIB22', \n",
    "           'MON100', \n",
    "           'GOLDBEES',\n",
    "           'NIFTYBEES',\n",
    "           'HDFCSML250']\n",
    "tickers = [t + '.NS' for t in tickers]\n",
    "tickers"
   ]
  },
  {
   "cell_type": "code",
   "execution_count": 4,
   "metadata": {},
   "outputs": [],
   "source": [
    "df = utils.download_and_cache(tickers, DATA_PATH)\n",
    "nifty50 = utils.download_and_cache(['^NSEI'], DATA_PATH)"
   ]
  },
  {
   "cell_type": "code",
   "execution_count": 5,
   "metadata": {},
   "outputs": [
    {
     "data": {
      "text/html": [
       "<div>\n",
       "<style scoped>\n",
       "    .dataframe tbody tr th:only-of-type {\n",
       "        vertical-align: middle;\n",
       "    }\n",
       "\n",
       "    .dataframe tbody tr th {\n",
       "        vertical-align: top;\n",
       "    }\n",
       "\n",
       "    .dataframe thead th {\n",
       "        text-align: right;\n",
       "    }\n",
       "</style>\n",
       "<table border=\"1\" class=\"dataframe\">\n",
       "  <thead>\n",
       "    <tr style=\"text-align: right;\">\n",
       "      <th></th>\n",
       "      <th>CPSEETF.NS</th>\n",
       "      <th>MOM100.NS</th>\n",
       "      <th>ICICIB22.NS</th>\n",
       "      <th>MON100.NS</th>\n",
       "      <th>GOLDBEES.NS</th>\n",
       "      <th>NIFTYBEES.NS</th>\n",
       "      <th>HDFCSML250.NS</th>\n",
       "    </tr>\n",
       "    <tr>\n",
       "      <th>Date</th>\n",
       "      <th></th>\n",
       "      <th></th>\n",
       "      <th></th>\n",
       "      <th></th>\n",
       "      <th></th>\n",
       "      <th></th>\n",
       "      <th></th>\n",
       "    </tr>\n",
       "  </thead>\n",
       "  <tbody>\n",
       "    <tr>\n",
       "      <th>2023-02-21</th>\n",
       "      <td>39.029999</td>\n",
       "      <td>32.470001</td>\n",
       "      <td>58.529999</td>\n",
       "      <td>99.750000</td>\n",
       "      <td>48.259998</td>\n",
       "      <td>195.259995</td>\n",
       "      <td>93.480003</td>\n",
       "    </tr>\n",
       "    <tr>\n",
       "      <th>2023-02-22</th>\n",
       "      <td>38.619999</td>\n",
       "      <td>32.009998</td>\n",
       "      <td>57.970001</td>\n",
       "      <td>97.959999</td>\n",
       "      <td>48.160000</td>\n",
       "      <td>192.509995</td>\n",
       "      <td>92.019997</td>\n",
       "    </tr>\n",
       "    <tr>\n",
       "      <th>2023-02-23</th>\n",
       "      <td>38.639999</td>\n",
       "      <td>31.959999</td>\n",
       "      <td>58.110001</td>\n",
       "      <td>98.419998</td>\n",
       "      <td>47.860001</td>\n",
       "      <td>192.009995</td>\n",
       "      <td>90.589996</td>\n",
       "    </tr>\n",
       "    <tr>\n",
       "      <th>2023-02-24</th>\n",
       "      <td>39.049999</td>\n",
       "      <td>31.980000</td>\n",
       "      <td>58.060001</td>\n",
       "      <td>98.510002</td>\n",
       "      <td>47.779999</td>\n",
       "      <td>191.460007</td>\n",
       "      <td>90.589996</td>\n",
       "    </tr>\n",
       "    <tr>\n",
       "      <th>2023-02-27</th>\n",
       "      <td>39.430000</td>\n",
       "      <td>31.600000</td>\n",
       "      <td>58.070000</td>\n",
       "      <td>98.019997</td>\n",
       "      <td>47.439999</td>\n",
       "      <td>190.559998</td>\n",
       "      <td>89.970001</td>\n",
       "    </tr>\n",
       "    <tr>\n",
       "      <th>...</th>\n",
       "      <td>...</td>\n",
       "      <td>...</td>\n",
       "      <td>...</td>\n",
       "      <td>...</td>\n",
       "      <td>...</td>\n",
       "      <td>...</td>\n",
       "      <td>...</td>\n",
       "    </tr>\n",
       "    <tr>\n",
       "      <th>2024-08-19</th>\n",
       "      <td>102.830002</td>\n",
       "      <td>62.090000</td>\n",
       "      <td>116.680000</td>\n",
       "      <td>158.699997</td>\n",
       "      <td>60.340000</td>\n",
       "      <td>274.429993</td>\n",
       "      <td>177.070007</td>\n",
       "    </tr>\n",
       "    <tr>\n",
       "      <th>2024-08-20</th>\n",
       "      <td>102.699997</td>\n",
       "      <td>62.290001</td>\n",
       "      <td>117.410004</td>\n",
       "      <td>161.130005</td>\n",
       "      <td>60.669998</td>\n",
       "      <td>275.829987</td>\n",
       "      <td>178.440002</td>\n",
       "    </tr>\n",
       "    <tr>\n",
       "      <th>2024-08-21</th>\n",
       "      <td>102.739998</td>\n",
       "      <td>62.560001</td>\n",
       "      <td>117.769997</td>\n",
       "      <td>160.699997</td>\n",
       "      <td>60.380001</td>\n",
       "      <td>276.119995</td>\n",
       "      <td>179.759995</td>\n",
       "    </tr>\n",
       "    <tr>\n",
       "      <th>2024-08-22</th>\n",
       "      <td>102.190002</td>\n",
       "      <td>63.169998</td>\n",
       "      <td>117.470001</td>\n",
       "      <td>161.380005</td>\n",
       "      <td>60.450001</td>\n",
       "      <td>276.480011</td>\n",
       "      <td>181.270004</td>\n",
       "    </tr>\n",
       "    <tr>\n",
       "      <th>2024-08-23</th>\n",
       "      <td>102.370003</td>\n",
       "      <td>62.790001</td>\n",
       "      <td>117.379997</td>\n",
       "      <td>159.750000</td>\n",
       "      <td>60.250000</td>\n",
       "      <td>276.600006</td>\n",
       "      <td>181.210007</td>\n",
       "    </tr>\n",
       "  </tbody>\n",
       "</table>\n",
       "<p>367 rows × 7 columns</p>\n",
       "</div>"
      ],
      "text/plain": [
       "            CPSEETF.NS  MOM100.NS  ICICIB22.NS   MON100.NS  GOLDBEES.NS  \\\n",
       "Date                                                                      \n",
       "2023-02-21   39.029999  32.470001    58.529999   99.750000    48.259998   \n",
       "2023-02-22   38.619999  32.009998    57.970001   97.959999    48.160000   \n",
       "2023-02-23   38.639999  31.959999    58.110001   98.419998    47.860001   \n",
       "2023-02-24   39.049999  31.980000    58.060001   98.510002    47.779999   \n",
       "2023-02-27   39.430000  31.600000    58.070000   98.019997    47.439999   \n",
       "...                ...        ...          ...         ...          ...   \n",
       "2024-08-19  102.830002  62.090000   116.680000  158.699997    60.340000   \n",
       "2024-08-20  102.699997  62.290001   117.410004  161.130005    60.669998   \n",
       "2024-08-21  102.739998  62.560001   117.769997  160.699997    60.380001   \n",
       "2024-08-22  102.190002  63.169998   117.470001  161.380005    60.450001   \n",
       "2024-08-23  102.370003  62.790001   117.379997  159.750000    60.250000   \n",
       "\n",
       "            NIFTYBEES.NS  HDFCSML250.NS  \n",
       "Date                                     \n",
       "2023-02-21    195.259995      93.480003  \n",
       "2023-02-22    192.509995      92.019997  \n",
       "2023-02-23    192.009995      90.589996  \n",
       "2023-02-24    191.460007      90.589996  \n",
       "2023-02-27    190.559998      89.970001  \n",
       "...                  ...            ...  \n",
       "2024-08-19    274.429993     177.070007  \n",
       "2024-08-20    275.829987     178.440002  \n",
       "2024-08-21    276.119995     179.759995  \n",
       "2024-08-22    276.480011     181.270004  \n",
       "2024-08-23    276.600006     181.210007  \n",
       "\n",
       "[367 rows x 7 columns]"
      ]
     },
     "execution_count": 5,
     "metadata": {},
     "output_type": "execute_result"
    }
   ],
   "source": [
    "df_close = pd.concat([df[k]\n",
    " .query('Volume > 0')\n",
    " .Close.rename(k) for k in df.keys()], axis=1).dropna()\n",
    "\n",
    "df_close"
   ]
  },
  {
   "cell_type": "code",
   "execution_count": 6,
   "metadata": {},
   "outputs": [
    {
     "data": {
      "text/html": [
       "<div>\n",
       "<style scoped>\n",
       "    .dataframe tbody tr th:only-of-type {\n",
       "        vertical-align: middle;\n",
       "    }\n",
       "\n",
       "    .dataframe tbody tr th {\n",
       "        vertical-align: top;\n",
       "    }\n",
       "\n",
       "    .dataframe thead th {\n",
       "        text-align: right;\n",
       "    }\n",
       "</style>\n",
       "<table border=\"1\" class=\"dataframe\">\n",
       "  <thead>\n",
       "    <tr style=\"text-align: right;\">\n",
       "      <th></th>\n",
       "      <th>CPSEETF.NS</th>\n",
       "      <th>MOM100.NS</th>\n",
       "      <th>ICICIB22.NS</th>\n",
       "      <th>MON100.NS</th>\n",
       "      <th>GOLDBEES.NS</th>\n",
       "      <th>NIFTYBEES.NS</th>\n",
       "      <th>HDFCSML250.NS</th>\n",
       "    </tr>\n",
       "    <tr>\n",
       "      <th>Date</th>\n",
       "      <th></th>\n",
       "      <th></th>\n",
       "      <th></th>\n",
       "      <th></th>\n",
       "      <th></th>\n",
       "      <th></th>\n",
       "      <th></th>\n",
       "    </tr>\n",
       "  </thead>\n",
       "  <tbody>\n",
       "  </tbody>\n",
       "</table>\n",
       "</div>"
      ],
      "text/plain": [
       "Empty DataFrame\n",
       "Columns: [CPSEETF.NS, MOM100.NS, ICICIB22.NS, MON100.NS, GOLDBEES.NS, NIFTYBEES.NS, HDFCSML250.NS]\n",
       "Index: []"
      ]
     },
     "execution_count": 6,
     "metadata": {},
     "output_type": "execute_result"
    }
   ],
   "source": [
    "df_ret = df_close.pct_change().dropna()\n",
    "df_ret.loc[df_ret.gt(1).any(axis=1)]"
   ]
  },
  {
   "cell_type": "code",
   "execution_count": 25,
   "metadata": {},
   "outputs": [
    {
     "data": {
      "text/html": [
       "<div>\n",
       "<style scoped>\n",
       "    .dataframe tbody tr th:only-of-type {\n",
       "        vertical-align: middle;\n",
       "    }\n",
       "\n",
       "    .dataframe tbody tr th {\n",
       "        vertical-align: top;\n",
       "    }\n",
       "\n",
       "    .dataframe thead th {\n",
       "        text-align: right;\n",
       "    }\n",
       "</style>\n",
       "<table border=\"1\" class=\"dataframe\">\n",
       "  <thead>\n",
       "    <tr style=\"text-align: right;\">\n",
       "      <th></th>\n",
       "      <th>CPSEETF.NS</th>\n",
       "      <th>MOM100.NS</th>\n",
       "      <th>ICICIB22.NS</th>\n",
       "      <th>MON100.NS</th>\n",
       "      <th>GOLDBEES.NS</th>\n",
       "      <th>NIFTYBEES.NS</th>\n",
       "      <th>HDFCSML250.NS</th>\n",
       "    </tr>\n",
       "    <tr>\n",
       "      <th>Date</th>\n",
       "      <th></th>\n",
       "      <th></th>\n",
       "      <th></th>\n",
       "      <th></th>\n",
       "      <th></th>\n",
       "      <th></th>\n",
       "      <th></th>\n",
       "    </tr>\n",
       "  </thead>\n",
       "  <tbody>\n",
       "  </tbody>\n",
       "</table>\n",
       "</div>"
      ],
      "text/plain": [
       "Empty DataFrame\n",
       "Columns: [CPSEETF.NS, MOM100.NS, ICICIB22.NS, MON100.NS, GOLDBEES.NS, NIFTYBEES.NS, HDFCSML250.NS]\n",
       "Index: []"
      ]
     },
     "execution_count": 25,
     "metadata": {},
     "output_type": "execute_result"
    }
   ],
   "source": [
    "df_close.loc['2021-06-17':'2021-06-18', 'MON100.NS'] *= 10\n",
    "df_close.loc['2019-12-19':'2019-12-20', ['GOLDBEES.NS']] *= 100\n",
    "df_close.loc['2019-12-19':'2019-12-20', ['NIFTYBEES.NS']] *= 10\n",
    "df_ret = df_close.pct_change().dropna()\n",
    "df_ret.loc[df_ret.gt(1).any(axis=1)]"
   ]
  },
  {
   "cell_type": "code",
   "execution_count": 26,
   "metadata": {},
   "outputs": [
    {
     "data": {
      "text/plain": [
       "<Axes: >"
      ]
     },
     "execution_count": 26,
     "metadata": {},
     "output_type": "execute_result"
    },
    {
     "data": {
      "image/png": "[encoded data removed]",
      "text/plain": [
       "<Figure size 640x480 with 2 Axes>"
      ]
     },
     "metadata": {},
     "output_type": "display_data"
    }
   ],
   "source": [
    "sns.heatmap(df_close.corr(), annot=True, vmax=1, vmin=0)"
   ]
  },
  {
   "cell_type": "markdown",
   "metadata": {},
   "source": [
    "## Optimization"
   ]
  },
  {
   "cell_type": "code",
   "execution_count": 27,
   "metadata": {},
   "outputs": [],
   "source": [
    "from skfolio import Population, RiskMeasure, BasePortfolio, MultiPeriodPortfolio\n",
    "from skfolio.optimization import (\n",
    "    EqualWeighted, \n",
    "    InverseVolatility, \n",
    "    ObjectiveFunction, \n",
    "    MeanRisk,\n",
    "    HierarchicalRiskParity,\n",
    "    NestedClustersOptimization,\n",
    "    RiskBudgeting)\n",
    "\n",
    "from sklearn.model_selection import train_test_split"
   ]
  },
  {
   "cell_type": "code",
   "execution_count": 28,
   "metadata": {},
   "outputs": [
    {
     "data": {
      "text/plain": [
       "Date\n",
       "2013-01-22   -0.005557\n",
       "2013-01-23    0.000959\n",
       "2013-01-24   -0.005773\n",
       "2013-01-25    0.009187\n",
       "2013-01-28    0.000025\n",
       "                ...   \n",
       "2024-08-19    0.001284\n",
       "2024-08-20    0.005136\n",
       "2024-08-21    0.002889\n",
       "2024-08-22    0.001667\n",
       "2024-08-23    0.000470\n",
       "Name: Close, Length: 2816, dtype: float64"
      ]
     },
     "execution_count": 28,
     "metadata": {},
     "output_type": "execute_result"
    }
   ],
   "source": [
    "df_nse = nifty50['^NSEI'].query('Volume > 0')['Close'].pct_change().dropna()\n",
    "df_nse"
   ]
  },
  {
   "cell_type": "code",
   "execution_count": 29,
   "metadata": {},
   "outputs": [
    {
     "data": {
      "text/plain": [
       "Date\n",
       "2024-03-12    0.000137\n",
       "2024-03-13   -0.015133\n",
       "2024-03-14    0.006771\n",
       "2024-03-15   -0.005567\n",
       "2024-03-18    0.001469\n",
       "                ...   \n",
       "2024-08-19    0.001284\n",
       "2024-08-20    0.005136\n",
       "2024-08-21    0.002889\n",
       "2024-08-22    0.001667\n",
       "2024-08-23    0.000470\n",
       "Name: Close, Length: 106, dtype: float64"
      ]
     },
     "execution_count": 29,
     "metadata": {},
     "output_type": "execute_result"
    }
   ],
   "source": [
    "df_train, df_test = train_test_split(df_ret, test_size=0.3, shuffle=False)\n",
    "df_nse_test = df_nse.loc[df_test.index[0].strftime('%Y-%m-%d'):]\n",
    "\n",
    "df_nse_test"
   ]
  },
  {
   "cell_type": "code",
   "execution_count": 30,
   "metadata": {},
   "outputs": [],
   "source": [
    "benchmark = BasePortfolio(returns=df_nse_test, observations=df_nse_test.index, name='NIFTY50')"
   ]
  },
  {
   "cell_type": "code",
   "execution_count": 31,
   "metadata": {},
   "outputs": [
    {
     "data": {
      "text/html": [
       "<style>#sk-container-id-5 {\n",
       "  /* Definition of color scheme common for light and dark mode */\n",
       "  --sklearn-color-text: black;\n",
       "  --sklearn-color-line: gray;\n",
       "  /* Definition of color scheme for unfitted estimators */\n",
       "  --sklearn-color-unfitted-level-0: #fff5e6;\n",
       "  --sklearn-color-unfitted-level-1: #f6e4d2;\n",
       "  --sklearn-color-unfitted-level-2: #ffe0b3;\n",
       "  --sklearn-color-unfitted-level-3: chocolate;\n",
       "  /* Definition of color scheme for fitted estimators */\n",
       "  --sklearn-color-fitted-level-0: #f0f8ff;\n",
       "  --sklearn-color-fitted-level-1: #d4ebff;\n",
       "  --sklearn-color-fitted-level-2: #b3dbfd;\n",
       "  --sklearn-color-fitted-level-3: cornflowerblue;\n",
       "\n",
       "  /* Specific color for light theme */\n",
       "  --sklearn-color-text-on-default-background: var(--sg-text-color, var(--theme-code-foreground, var(--jp-content-font-color1, black)));\n",
       "  --sklearn-color-background: var(--sg-background-color, var(--theme-background, var(--jp-layout-color0, white)));\n",
       "  --sklearn-color-border-box: var(--sg-text-color, var(--theme-code-foreground, var(--jp-content-font-color1, black)));\n",
       "  --sklearn-color-icon: #696969;\n",
       "\n",
       "  @media (prefers-color-scheme: dark) {\n",
       "    /* Redefinition of color scheme for dark theme */\n",
       "    --sklearn-color-text-on-default-background: var(--sg-text-color, var(--theme-code-foreground, var(--jp-content-font-color1, white)));\n",
       "    --sklearn-color-background: var(--sg-background-color, var(--theme-background, var(--jp-layout-color0, #111)));\n",
       "    --sklearn-color-border-box: var(--sg-text-color, var(--theme-code-foreground, var(--jp-content-font-color1, white)));\n",
       "    --sklearn-color-icon: #878787;\n",
       "  }\n",
       "}\n",
       "\n",
       "#sk-container-id-5 {\n",
       "  color: var(--sklearn-color-text);\n",
       "}\n",
       "\n",
       "#sk-container-id-5 pre {\n",
       "  padding: 0;\n",
       "}\n",
       "\n",
       "#sk-container-id-5 input.sk-hidden--visually {\n",
       "  border: 0;\n",
       "  clip: rect(1px 1px 1px 1px);\n",
       "  clip: rect(1px, 1px, 1px, 1px);\n",
       "  height: 1px;\n",
       "  margin: -1px;\n",
       "  overflow: hidden;\n",
       "  padding: 0;\n",
       "  position: absolute;\n",
       "  width: 1px;\n",
       "}\n",
       "\n",
       "#sk-container-id-5 div.sk-dashed-wrapped {\n",
       "  border: 1px dashed var(--sklearn-color-line);\n",
       "  margin: 0 0.4em 0.5em 0.4em;\n",
       "  box-sizing: border-box;\n",
       "  padding-bottom: 0.4em;\n",
       "  background-color: var(--sklearn-color-background);\n",
       "}\n",
       "\n",
       "#sk-container-id-5 div.sk-container {\n",
       "  /* jupyter's `normalize.less` sets `[hidden] { display: none; }`\n",
       "     but bootstrap.min.css set `[hidden] { display: none !important; }`\n",
       "     so we also need the `!important` here to be able to override the\n",
       "     default hidden behavior on the sphinx rendered scikit-learn.org.\n",
       "     See: https://github.com/scikit-learn/scikit-learn/issues/21755 */\n",
       "  display: inline-block !important;\n",
       "  position: relative;\n",
       "}\n",
       "\n",
       "#sk-container-id-5 div.sk-text-repr-fallback {\n",
       "  display: none;\n",
       "}\n",
       "\n",
       "div.sk-parallel-item,\n",
       "div.sk-serial,\n",
       "div.sk-item {\n",
       "  /* draw centered vertical line to link estimators */\n",
       "  background-image: linear-gradient(var(--sklearn-color-text-on-default-background), var(--sklearn-color-text-on-default-background));\n",
       "  background-size: 2px 100%;\n",
       "  background-repeat: no-repeat;\n",
       "  background-position: center center;\n",
       "}\n",
       "\n",
       "/* Parallel-specific style estimator block */\n",
       "\n",
       "#sk-container-id-5 div.sk-parallel-item::after {\n",
       "  content: \"\";\n",
       "  width: 100%;\n",
       "  border-bottom: 2px solid var(--sklearn-color-text-on-default-background);\n",
       "  flex-grow: 1;\n",
       "}\n",
       "\n",
       "#sk-container-id-5 div.sk-parallel {\n",
       "  display: flex;\n",
       "  align-items: stretch;\n",
       "  justify-content: center;\n",
       "  background-color: var(--sklearn-color-background);\n",
       "  position: relative;\n",
       "}\n",
       "\n",
       "#sk-container-id-5 div.sk-parallel-item {\n",
       "  display: flex;\n",
       "  flex-direction: column;\n",
       "}\n",
       "\n",
       "#sk-container-id-5 div.sk-parallel-item:first-child::after {\n",
       "  align-self: flex-end;\n",
       "  width: 50%;\n",
       "}\n",
       "\n",
       "#sk-container-id-5 div.sk-parallel-item:last-child::after {\n",
       "  align-self: flex-start;\n",
       "  width: 50%;\n",
       "}\n",
       "\n",
       "#sk-container-id-5 div.sk-parallel-item:only-child::after {\n",
       "  width: 0;\n",
       "}\n",
       "\n",
       "/* Serial-specific style estimator block */\n",
       "\n",
       "#sk-container-id-5 div.sk-serial {\n",
       "  display: flex;\n",
       "  flex-direction: column;\n",
       "  align-items: center;\n",
       "  background-color: var(--sklearn-color-background);\n",
       "  padding-right: 1em;\n",
       "  padding-left: 1em;\n",
       "}\n",
       "\n",
       "\n",
       "/* Toggleable style: style used for estimator/Pipeline/ColumnTransformer box that is\n",
       "clickable and can be expanded/collapsed.\n",
       "- Pipeline and ColumnTransformer use this feature and define the default style\n",
       "- Estimators will overwrite some part of the style using the `sk-estimator` class\n",
       "*/\n",
       "\n",
       "/* Pipeline and ColumnTransformer style (default) */\n",
       "\n",
       "#sk-container-id-5 div.sk-toggleable {\n",
       "  /* Default theme specific background. It is overwritten whether we have a\n",
       "  specific estimator or a Pipeline/ColumnTransformer */\n",
       "  background-color: var(--sklearn-color-background);\n",
       "}\n",
       "\n",
       "/* Toggleable label */\n",
       "#sk-container-id-5 label.sk-toggleable__label {\n",
       "  cursor: pointer;\n",
       "  display: block;\n",
       "  width: 100%;\n",
       "  margin-bottom: 0;\n",
       "  padding: 0.5em;\n",
       "  box-sizing: border-box;\n",
       "  text-align: center;\n",
       "}\n",
       "\n",
       "#sk-container-id-5 label.sk-toggleable__label-arrow:before {\n",
       "  /* Arrow on the left of the label */\n",
       "  content: \"▸\";\n",
       "  float: left;\n",
       "  margin-right: 0.25em;\n",
       "  color: var(--sklearn-color-icon);\n",
       "}\n",
       "\n",
       "#sk-container-id-5 label.sk-toggleable__label-arrow:hover:before {\n",
       "  color: var(--sklearn-color-text);\n",
       "}\n",
       "\n",
       "/* Toggleable content - dropdown */\n",
       "\n",
       "#sk-container-id-5 div.sk-toggleable__content {\n",
       "  max-height: 0;\n",
       "  max-width: 0;\n",
       "  overflow: hidden;\n",
       "  text-align: left;\n",
       "  /* unfitted */\n",
       "  background-color: var(--sklearn-color-unfitted-level-0);\n",
       "}\n",
       "\n",
       "#sk-container-id-5 div.sk-toggleable__content.fitted {\n",
       "  /* fitted */\n",
       "  background-color: var(--sklearn-color-fitted-level-0);\n",
       "}\n",
       "\n",
       "#sk-container-id-5 div.sk-toggleable__content pre {\n",
       "  margin: 0.2em;\n",
       "  border-radius: 0.25em;\n",
       "  color: var(--sklearn-color-text);\n",
       "  /* unfitted */\n",
       "  background-color: var(--sklearn-color-unfitted-level-0);\n",
       "}\n",
       "\n",
       "#sk-container-id-5 div.sk-toggleable__content.fitted pre {\n",
       "  /* unfitted */\n",
       "  background-color: var(--sklearn-color-fitted-level-0);\n",
       "}\n",
       "\n",
       "#sk-container-id-5 input.sk-toggleable__control:checked~div.sk-toggleable__content {\n",
       "  /* Expand drop-down */\n",
       "  max-height: 200px;\n",
       "  max-width: 100%;\n",
       "  overflow: auto;\n",
       "}\n",
       "\n",
       "#sk-container-id-5 input.sk-toggleable__control:checked~label.sk-toggleable__label-arrow:before {\n",
       "  content: \"▾\";\n",
       "}\n",
       "\n",
       "/* Pipeline/ColumnTransformer-specific style */\n",
       "\n",
       "#sk-container-id-5 div.sk-label input.sk-toggleable__control:checked~label.sk-toggleable__label {\n",
       "  color: var(--sklearn-color-text);\n",
       "  background-color: var(--sklearn-color-unfitted-level-2);\n",
       "}\n",
       "\n",
       "#sk-container-id-5 div.sk-label.fitted input.sk-toggleable__control:checked~label.sk-toggleable__label {\n",
       "  background-color: var(--sklearn-color-fitted-level-2);\n",
       "}\n",
       "\n",
       "/* Estimator-specific style */\n",
       "\n",
       "/* Colorize estimator box */\n",
       "#sk-container-id-5 div.sk-estimator input.sk-toggleable__control:checked~label.sk-toggleable__label {\n",
       "  /* unfitted */\n",
       "  background-color: var(--sklearn-color-unfitted-level-2);\n",
       "}\n",
       "\n",
       "#sk-container-id-5 div.sk-estimator.fitted input.sk-toggleable__control:checked~label.sk-toggleable__label {\n",
       "  /* fitted */\n",
       "  background-color: var(--sklearn-color-fitted-level-2);\n",
       "}\n",
       "\n",
       "#sk-container-id-5 div.sk-label label.sk-toggleable__label,\n",
       "#sk-container-id-5 div.sk-label label {\n",
       "  /* The background is the default theme color */\n",
       "  color: var(--sklearn-color-text-on-default-background);\n",
       "}\n",
       "\n",
       "/* On hover, darken the color of the background */\n",
       "#sk-container-id-5 div.sk-label:hover label.sk-toggleable__label {\n",
       "  color: var(--sklearn-color-text);\n",
       "  background-color: var(--sklearn-color-unfitted-level-2);\n",
       "}\n",
       "\n",
       "/* Label box, darken color on hover, fitted */\n",
       "#sk-container-id-5 div.sk-label.fitted:hover label.sk-toggleable__label.fitted {\n",
       "  color: var(--sklearn-color-text);\n",
       "  background-color: var(--sklearn-color-fitted-level-2);\n",
       "}\n",
       "\n",
       "/* Estimator label */\n",
       "\n",
       "#sk-container-id-5 div.sk-label label {\n",
       "  font-family: monospace;\n",
       "  font-weight: bold;\n",
       "  display: inline-block;\n",
       "  line-height: 1.2em;\n",
       "}\n",
       "\n",
       "#sk-container-id-5 div.sk-label-container {\n",
       "  text-align: center;\n",
       "}\n",
       "\n",
       "/* Estimator-specific */\n",
       "#sk-container-id-5 div.sk-estimator {\n",
       "  font-family: monospace;\n",
       "  border: 1px dotted var(--sklearn-color-border-box);\n",
       "  border-radius: 0.25em;\n",
       "  box-sizing: border-box;\n",
       "  margin-bottom: 0.5em;\n",
       "  /* unfitted */\n",
       "  background-color: var(--sklearn-color-unfitted-level-0);\n",
       "}\n",
       "\n",
       "#sk-container-id-5 div.sk-estimator.fitted {\n",
       "  /* fitted */\n",
       "  background-color: var(--sklearn-color-fitted-level-0);\n",
       "}\n",
       "\n",
       "/* on hover */\n",
       "#sk-container-id-5 div.sk-estimator:hover {\n",
       "  /* unfitted */\n",
       "  background-color: var(--sklearn-color-unfitted-level-2);\n",
       "}\n",
       "\n",
       "#sk-container-id-5 div.sk-estimator.fitted:hover {\n",
       "  /* fitted */\n",
       "  background-color: var(--sklearn-color-fitted-level-2);\n",
       "}\n",
       "\n",
       "/* Specification for estimator info (e.g. \"i\" and \"?\") */\n",
       "\n",
       "/* Common style for \"i\" and \"?\" */\n",
       "\n",
       ".sk-estimator-doc-link,\n",
       "a:link.sk-estimator-doc-link,\n",
       "a:visited.sk-estimator-doc-link {\n",
       "  float: right;\n",
       "  font-size: smaller;\n",
       "  line-height: 1em;\n",
       "  font-family: monospace;\n",
       "  background-color: var(--sklearn-color-background);\n",
       "  border-radius: 1em;\n",
       "  height: 1em;\n",
       "  width: 1em;\n",
       "  text-decoration: none !important;\n",
       "  margin-left: 1ex;\n",
       "  /* unfitted */\n",
       "  border: var(--sklearn-color-unfitted-level-1) 1pt solid;\n",
       "  color: var(--sklearn-color-unfitted-level-1);\n",
       "}\n",
       "\n",
       ".sk-estimator-doc-link.fitted,\n",
       "a:link.sk-estimator-doc-link.fitted,\n",
       "a:visited.sk-estimator-doc-link.fitted {\n",
       "  /* fitted */\n",
       "  border: var(--sklearn-color-fitted-level-1) 1pt solid;\n",
       "  color: var(--sklearn-color-fitted-level-1);\n",
       "}\n",
       "\n",
       "/* On hover */\n",
       "div.sk-estimator:hover .sk-estimator-doc-link:hover,\n",
       ".sk-estimator-doc-link:hover,\n",
       "div.sk-label-container:hover .sk-estimator-doc-link:hover,\n",
       ".sk-estimator-doc-link:hover {\n",
       "  /* unfitted */\n",
       "  background-color: var(--sklearn-color-unfitted-level-3);\n",
       "  color: var(--sklearn-color-background);\n",
       "  text-decoration: none;\n",
       "}\n",
       "\n",
       "div.sk-estimator.fitted:hover .sk-estimator-doc-link.fitted:hover,\n",
       ".sk-estimator-doc-link.fitted:hover,\n",
       "div.sk-label-container:hover .sk-estimator-doc-link.fitted:hover,\n",
       ".sk-estimator-doc-link.fitted:hover {\n",
       "  /* fitted */\n",
       "  background-color: var(--sklearn-color-fitted-level-3);\n",
       "  color: var(--sklearn-color-background);\n",
       "  text-decoration: none;\n",
       "}\n",
       "\n",
       "/* Span, style for the box shown on hovering the info icon */\n",
       ".sk-estimator-doc-link span {\n",
       "  display: none;\n",
       "  z-index: 9999;\n",
       "  position: relative;\n",
       "  font-weight: normal;\n",
       "  right: .2ex;\n",
       "  padding: .5ex;\n",
       "  margin: .5ex;\n",
       "  width: min-content;\n",
       "  min-width: 20ex;\n",
       "  max-width: 50ex;\n",
       "  color: var(--sklearn-color-text);\n",
       "  box-shadow: 2pt 2pt 4pt #999;\n",
       "  /* unfitted */\n",
       "  background: var(--sklearn-color-unfitted-level-0);\n",
       "  border: .5pt solid var(--sklearn-color-unfitted-level-3);\n",
       "}\n",
       "\n",
       ".sk-estimator-doc-link.fitted span {\n",
       "  /* fitted */\n",
       "  background: var(--sklearn-color-fitted-level-0);\n",
       "  border: var(--sklearn-color-fitted-level-3);\n",
       "}\n",
       "\n",
       ".sk-estimator-doc-link:hover span {\n",
       "  display: block;\n",
       "}\n",
       "\n",
       "/* \"?\"-specific style due to the `<a>` HTML tag */\n",
       "\n",
       "#sk-container-id-5 a.estimator_doc_link {\n",
       "  float: right;\n",
       "  font-size: 1rem;\n",
       "  line-height: 1em;\n",
       "  font-family: monospace;\n",
       "  background-color: var(--sklearn-color-background);\n",
       "  border-radius: 1rem;\n",
       "  height: 1rem;\n",
       "  width: 1rem;\n",
       "  text-decoration: none;\n",
       "  /* unfitted */\n",
       "  color: var(--sklearn-color-unfitted-level-1);\n",
       "  border: var(--sklearn-color-unfitted-level-1) 1pt solid;\n",
       "}\n",
       "\n",
       "#sk-container-id-5 a.estimator_doc_link.fitted {\n",
       "  /* fitted */\n",
       "  border: var(--sklearn-color-fitted-level-1) 1pt solid;\n",
       "  color: var(--sklearn-color-fitted-level-1);\n",
       "}\n",
       "\n",
       "/* On hover */\n",
       "#sk-container-id-5 a.estimator_doc_link:hover {\n",
       "  /* unfitted */\n",
       "  background-color: var(--sklearn-color-unfitted-level-3);\n",
       "  color: var(--sklearn-color-background);\n",
       "  text-decoration: none;\n",
       "}\n",
       "\n",
       "#sk-container-id-5 a.estimator_doc_link.fitted:hover {\n",
       "  /* fitted */\n",
       "  background-color: var(--sklearn-color-fitted-level-3);\n",
       "}\n",
       "</style><div id=\"sk-container-id-5\" class=\"sk-top-container\"><div class=\"sk-text-repr-fallback\"><pre>EqualWeighted()</pre><b>In a Jupyter environment, please rerun this cell to show the HTML representation or trust the notebook. <br />On GitHub, the HTML representation is unable to render, please try loading this page with nbviewer.org.</b></div><div class=\"sk-container\" hidden><div class=\"sk-item\"><div class=\"sk-estimator fitted sk-toggleable\"><input class=\"sk-toggleable__control sk-hidden--visually\" id=\"sk-estimator-id-5\" type=\"checkbox\" checked><label for=\"sk-estimator-id-5\" class=\"sk-toggleable__label fitted sk-toggleable__label-arrow fitted\">&nbsp;EqualWeighted<span class=\"sk-estimator-doc-link fitted\">i<span>Fitted</span></span></label><div class=\"sk-toggleable__content fitted\"><pre>EqualWeighted()</pre></div> </div></div></div></div>"
      ],
      "text/plain": [
       "EqualWeighted()"
      ]
     },
     "execution_count": 31,
     "metadata": {},
     "output_type": "execute_result"
    }
   ],
   "source": [
    "model_equwt = EqualWeighted()\n",
    "model_equwt.fit(df_train)"
   ]
  },
  {
   "cell_type": "code",
   "execution_count": 32,
   "metadata": {},
   "outputs": [
    {
     "data": {
      "text/html": [
       "<style>#sk-container-id-6 {\n",
       "  /* Definition of color scheme common for light and dark mode */\n",
       "  --sklearn-color-text: black;\n",
       "  --sklearn-color-line: gray;\n",
       "  /* Definition of color scheme for unfitted estimators */\n",
       "  --sklearn-color-unfitted-level-0: #fff5e6;\n",
       "  --sklearn-color-unfitted-level-1: #f6e4d2;\n",
       "  --sklearn-color-unfitted-level-2: #ffe0b3;\n",
       "  --sklearn-color-unfitted-level-3: chocolate;\n",
       "  /* Definition of color scheme for fitted estimators */\n",
       "  --sklearn-color-fitted-level-0: #f0f8ff;\n",
       "  --sklearn-color-fitted-level-1: #d4ebff;\n",
       "  --sklearn-color-fitted-level-2: #b3dbfd;\n",
       "  --sklearn-color-fitted-level-3: cornflowerblue;\n",
       "\n",
       "  /* Specific color for light theme */\n",
       "  --sklearn-color-text-on-default-background: var(--sg-text-color, var(--theme-code-foreground, var(--jp-content-font-color1, black)));\n",
       "  --sklearn-color-background: var(--sg-background-color, var(--theme-background, var(--jp-layout-color0, white)));\n",
       "  --sklearn-color-border-box: var(--sg-text-color, var(--theme-code-foreground, var(--jp-content-font-color1, black)));\n",
       "  --sklearn-color-icon: #696969;\n",
       "\n",
       "  @media (prefers-color-scheme: dark) {\n",
       "    /* Redefinition of color scheme for dark theme */\n",
       "    --sklearn-color-text-on-default-background: var(--sg-text-color, var(--theme-code-foreground, var(--jp-content-font-color1, white)));\n",
       "    --sklearn-color-background: var(--sg-background-color, var(--theme-background, var(--jp-layout-color0, #111)));\n",
       "    --sklearn-color-border-box: var(--sg-text-color, var(--theme-code-foreground, var(--jp-content-font-color1, white)));\n",
       "    --sklearn-color-icon: #878787;\n",
       "  }\n",
       "}\n",
       "\n",
       "#sk-container-id-6 {\n",
       "  color: var(--sklearn-color-text);\n",
       "}\n",
       "\n",
       "#sk-container-id-6 pre {\n",
       "  padding: 0;\n",
       "}\n",
       "\n",
       "#sk-container-id-6 input.sk-hidden--visually {\n",
       "  border: 0;\n",
       "  clip: rect(1px 1px 1px 1px);\n",
       "  clip: rect(1px, 1px, 1px, 1px);\n",
       "  height: 1px;\n",
       "  margin: -1px;\n",
       "  overflow: hidden;\n",
       "  padding: 0;\n",
       "  position: absolute;\n",
       "  width: 1px;\n",
       "}\n",
       "\n",
       "#sk-container-id-6 div.sk-dashed-wrapped {\n",
       "  border: 1px dashed var(--sklearn-color-line);\n",
       "  margin: 0 0.4em 0.5em 0.4em;\n",
       "  box-sizing: border-box;\n",
       "  padding-bottom: 0.4em;\n",
       "  background-color: var(--sklearn-color-background);\n",
       "}\n",
       "\n",
       "#sk-container-id-6 div.sk-container {\n",
       "  /* jupyter's `normalize.less` sets `[hidden] { display: none; }`\n",
       "     but bootstrap.min.css set `[hidden] { display: none !important; }`\n",
       "     so we also need the `!important` here to be able to override the\n",
       "     default hidden behavior on the sphinx rendered scikit-learn.org.\n",
       "     See: https://github.com/scikit-learn/scikit-learn/issues/21755 */\n",
       "  display: inline-block !important;\n",
       "  position: relative;\n",
       "}\n",
       "\n",
       "#sk-container-id-6 div.sk-text-repr-fallback {\n",
       "  display: none;\n",
       "}\n",
       "\n",
       "div.sk-parallel-item,\n",
       "div.sk-serial,\n",
       "div.sk-item {\n",
       "  /* draw centered vertical line to link estimators */\n",
       "  background-image: linear-gradient(var(--sklearn-color-text-on-default-background), var(--sklearn-color-text-on-default-background));\n",
       "  background-size: 2px 100%;\n",
       "  background-repeat: no-repeat;\n",
       "  background-position: center center;\n",
       "}\n",
       "\n",
       "/* Parallel-specific style estimator block */\n",
       "\n",
       "#sk-container-id-6 div.sk-parallel-item::after {\n",
       "  content: \"\";\n",
       "  width: 100%;\n",
       "  border-bottom: 2px solid var(--sklearn-color-text-on-default-background);\n",
       "  flex-grow: 1;\n",
       "}\n",
       "\n",
       "#sk-container-id-6 div.sk-parallel {\n",
       "  display: flex;\n",
       "  align-items: stretch;\n",
       "  justify-content: center;\n",
       "  background-color: var(--sklearn-color-background);\n",
       "  position: relative;\n",
       "}\n",
       "\n",
       "#sk-container-id-6 div.sk-parallel-item {\n",
       "  display: flex;\n",
       "  flex-direction: column;\n",
       "}\n",
       "\n",
       "#sk-container-id-6 div.sk-parallel-item:first-child::after {\n",
       "  align-self: flex-end;\n",
       "  width: 50%;\n",
       "}\n",
       "\n",
       "#sk-container-id-6 div.sk-parallel-item:last-child::after {\n",
       "  align-self: flex-start;\n",
       "  width: 50%;\n",
       "}\n",
       "\n",
       "#sk-container-id-6 div.sk-parallel-item:only-child::after {\n",
       "  width: 0;\n",
       "}\n",
       "\n",
       "/* Serial-specific style estimator block */\n",
       "\n",
       "#sk-container-id-6 div.sk-serial {\n",
       "  display: flex;\n",
       "  flex-direction: column;\n",
       "  align-items: center;\n",
       "  background-color: var(--sklearn-color-background);\n",
       "  padding-right: 1em;\n",
       "  padding-left: 1em;\n",
       "}\n",
       "\n",
       "\n",
       "/* Toggleable style: style used for estimator/Pipeline/ColumnTransformer box that is\n",
       "clickable and can be expanded/collapsed.\n",
       "- Pipeline and ColumnTransformer use this feature and define the default style\n",
       "- Estimators will overwrite some part of the style using the `sk-estimator` class\n",
       "*/\n",
       "\n",
       "/* Pipeline and ColumnTransformer style (default) */\n",
       "\n",
       "#sk-container-id-6 div.sk-toggleable {\n",
       "  /* Default theme specific background. It is overwritten whether we have a\n",
       "  specific estimator or a Pipeline/ColumnTransformer */\n",
       "  background-color: var(--sklearn-color-background);\n",
       "}\n",
       "\n",
       "/* Toggleable label */\n",
       "#sk-container-id-6 label.sk-toggleable__label {\n",
       "  cursor: pointer;\n",
       "  display: block;\n",
       "  width: 100%;\n",
       "  margin-bottom: 0;\n",
       "  padding: 0.5em;\n",
       "  box-sizing: border-box;\n",
       "  text-align: center;\n",
       "}\n",
       "\n",
       "#sk-container-id-6 label.sk-toggleable__label-arrow:before {\n",
       "  /* Arrow on the left of the label */\n",
       "  content: \"▸\";\n",
       "  float: left;\n",
       "  margin-right: 0.25em;\n",
       "  color: var(--sklearn-color-icon);\n",
       "}\n",
       "\n",
       "#sk-container-id-6 label.sk-toggleable__label-arrow:hover:before {\n",
       "  color: var(--sklearn-color-text);\n",
       "}\n",
       "\n",
       "/* Toggleable content - dropdown */\n",
       "\n",
       "#sk-container-id-6 div.sk-toggleable__content {\n",
       "  max-height: 0;\n",
       "  max-width: 0;\n",
       "  overflow: hidden;\n",
       "  text-align: left;\n",
       "  /* unfitted */\n",
       "  background-color: var(--sklearn-color-unfitted-level-0);\n",
       "}\n",
       "\n",
       "#sk-container-id-6 div.sk-toggleable__content.fitted {\n",
       "  /* fitted */\n",
       "  background-color: var(--sklearn-color-fitted-level-0);\n",
       "}\n",
       "\n",
       "#sk-container-id-6 div.sk-toggleable__content pre {\n",
       "  margin: 0.2em;\n",
       "  border-radius: 0.25em;\n",
       "  color: var(--sklearn-color-text);\n",
       "  /* unfitted */\n",
       "  background-color: var(--sklearn-color-unfitted-level-0);\n",
       "}\n",
       "\n",
       "#sk-container-id-6 div.sk-toggleable__content.fitted pre {\n",
       "  /* unfitted */\n",
       "  background-color: var(--sklearn-color-fitted-level-0);\n",
       "}\n",
       "\n",
       "#sk-container-id-6 input.sk-toggleable__control:checked~div.sk-toggleable__content {\n",
       "  /* Expand drop-down */\n",
       "  max-height: 200px;\n",
       "  max-width: 100%;\n",
       "  overflow: auto;\n",
       "}\n",
       "\n",
       "#sk-container-id-6 input.sk-toggleable__control:checked~label.sk-toggleable__label-arrow:before {\n",
       "  content: \"▾\";\n",
       "}\n",
       "\n",
       "/* Pipeline/ColumnTransformer-specific style */\n",
       "\n",
       "#sk-container-id-6 div.sk-label input.sk-toggleable__control:checked~label.sk-toggleable__label {\n",
       "  color: var(--sklearn-color-text);\n",
       "  background-color: var(--sklearn-color-unfitted-level-2);\n",
       "}\n",
       "\n",
       "#sk-container-id-6 div.sk-label.fitted input.sk-toggleable__control:checked~label.sk-toggleable__label {\n",
       "  background-color: var(--sklearn-color-fitted-level-2);\n",
       "}\n",
       "\n",
       "/* Estimator-specific style */\n",
       "\n",
       "/* Colorize estimator box */\n",
       "#sk-container-id-6 div.sk-estimator input.sk-toggleable__control:checked~label.sk-toggleable__label {\n",
       "  /* unfitted */\n",
       "  background-color: var(--sklearn-color-unfitted-level-2);\n",
       "}\n",
       "\n",
       "#sk-container-id-6 div.sk-estimator.fitted input.sk-toggleable__control:checked~label.sk-toggleable__label {\n",
       "  /* fitted */\n",
       "  background-color: var(--sklearn-color-fitted-level-2);\n",
       "}\n",
       "\n",
       "#sk-container-id-6 div.sk-label label.sk-toggleable__label,\n",
       "#sk-container-id-6 div.sk-label label {\n",
       "  /* The background is the default theme color */\n",
       "  color: var(--sklearn-color-text-on-default-background);\n",
       "}\n",
       "\n",
       "/* On hover, darken the color of the background */\n",
       "#sk-container-id-6 div.sk-label:hover label.sk-toggleable__label {\n",
       "  color: var(--sklearn-color-text);\n",
       "  background-color: var(--sklearn-color-unfitted-level-2);\n",
       "}\n",
       "\n",
       "/* Label box, darken color on hover, fitted */\n",
       "#sk-container-id-6 div.sk-label.fitted:hover label.sk-toggleable__label.fitted {\n",
       "  color: var(--sklearn-color-text);\n",
       "  background-color: var(--sklearn-color-fitted-level-2);\n",
       "}\n",
       "\n",
       "/* Estimator label */\n",
       "\n",
       "#sk-container-id-6 div.sk-label label {\n",
       "  font-family: monospace;\n",
       "  font-weight: bold;\n",
       "  display: inline-block;\n",
       "  line-height: 1.2em;\n",
       "}\n",
       "\n",
       "#sk-container-id-6 div.sk-label-container {\n",
       "  text-align: center;\n",
       "}\n",
       "\n",
       "/* Estimator-specific */\n",
       "#sk-container-id-6 div.sk-estimator {\n",
       "  font-family: monospace;\n",
       "  border: 1px dotted var(--sklearn-color-border-box);\n",
       "  border-radius: 0.25em;\n",
       "  box-sizing: border-box;\n",
       "  margin-bottom: 0.5em;\n",
       "  /* unfitted */\n",
       "  background-color: var(--sklearn-color-unfitted-level-0);\n",
       "}\n",
       "\n",
       "#sk-container-id-6 div.sk-estimator.fitted {\n",
       "  /* fitted */\n",
       "  background-color: var(--sklearn-color-fitted-level-0);\n",
       "}\n",
       "\n",
       "/* on hover */\n",
       "#sk-container-id-6 div.sk-estimator:hover {\n",
       "  /* unfitted */\n",
       "  background-color: var(--sklearn-color-unfitted-level-2);\n",
       "}\n",
       "\n",
       "#sk-container-id-6 div.sk-estimator.fitted:hover {\n",
       "  /* fitted */\n",
       "  background-color: var(--sklearn-color-fitted-level-2);\n",
       "}\n",
       "\n",
       "/* Specification for estimator info (e.g. \"i\" and \"?\") */\n",
       "\n",
       "/* Common style for \"i\" and \"?\" */\n",
       "\n",
       ".sk-estimator-doc-link,\n",
       "a:link.sk-estimator-doc-link,\n",
       "a:visited.sk-estimator-doc-link {\n",
       "  float: right;\n",
       "  font-size: smaller;\n",
       "  line-height: 1em;\n",
       "  font-family: monospace;\n",
       "  background-color: var(--sklearn-color-background);\n",
       "  border-radius: 1em;\n",
       "  height: 1em;\n",
       "  width: 1em;\n",
       "  text-decoration: none !important;\n",
       "  margin-left: 1ex;\n",
       "  /* unfitted */\n",
       "  border: var(--sklearn-color-unfitted-level-1) 1pt solid;\n",
       "  color: var(--sklearn-color-unfitted-level-1);\n",
       "}\n",
       "\n",
       ".sk-estimator-doc-link.fitted,\n",
       "a:link.sk-estimator-doc-link.fitted,\n",
       "a:visited.sk-estimator-doc-link.fitted {\n",
       "  /* fitted */\n",
       "  border: var(--sklearn-color-fitted-level-1) 1pt solid;\n",
       "  color: var(--sklearn-color-fitted-level-1);\n",
       "}\n",
       "\n",
       "/* On hover */\n",
       "div.sk-estimator:hover .sk-estimator-doc-link:hover,\n",
       ".sk-estimator-doc-link:hover,\n",
       "div.sk-label-container:hover .sk-estimator-doc-link:hover,\n",
       ".sk-estimator-doc-link:hover {\n",
       "  /* unfitted */\n",
       "  background-color: var(--sklearn-color-unfitted-level-3);\n",
       "  color: var(--sklearn-color-background);\n",
       "  text-decoration: none;\n",
       "}\n",
       "\n",
       "div.sk-estimator.fitted:hover .sk-estimator-doc-link.fitted:hover,\n",
       ".sk-estimator-doc-link.fitted:hover,\n",
       "div.sk-label-container:hover .sk-estimator-doc-link.fitted:hover,\n",
       ".sk-estimator-doc-link.fitted:hover {\n",
       "  /* fitted */\n",
       "  background-color: var(--sklearn-color-fitted-level-3);\n",
       "  color: var(--sklearn-color-background);\n",
       "  text-decoration: none;\n",
       "}\n",
       "\n",
       "/* Span, style for the box shown on hovering the info icon */\n",
       ".sk-estimator-doc-link span {\n",
       "  display: none;\n",
       "  z-index: 9999;\n",
       "  position: relative;\n",
       "  font-weight: normal;\n",
       "  right: .2ex;\n",
       "  padding: .5ex;\n",
       "  margin: .5ex;\n",
       "  width: min-content;\n",
       "  min-width: 20ex;\n",
       "  max-width: 50ex;\n",
       "  color: var(--sklearn-color-text);\n",
       "  box-shadow: 2pt 2pt 4pt #999;\n",
       "  /* unfitted */\n",
       "  background: var(--sklearn-color-unfitted-level-0);\n",
       "  border: .5pt solid var(--sklearn-color-unfitted-level-3);\n",
       "}\n",
       "\n",
       ".sk-estimator-doc-link.fitted span {\n",
       "  /* fitted */\n",
       "  background: var(--sklearn-color-fitted-level-0);\n",
       "  border: var(--sklearn-color-fitted-level-3);\n",
       "}\n",
       "\n",
       ".sk-estimator-doc-link:hover span {\n",
       "  display: block;\n",
       "}\n",
       "\n",
       "/* \"?\"-specific style due to the `<a>` HTML tag */\n",
       "\n",
       "#sk-container-id-6 a.estimator_doc_link {\n",
       "  float: right;\n",
       "  font-size: 1rem;\n",
       "  line-height: 1em;\n",
       "  font-family: monospace;\n",
       "  background-color: var(--sklearn-color-background);\n",
       "  border-radius: 1rem;\n",
       "  height: 1rem;\n",
       "  width: 1rem;\n",
       "  text-decoration: none;\n",
       "  /* unfitted */\n",
       "  color: var(--sklearn-color-unfitted-level-1);\n",
       "  border: var(--sklearn-color-unfitted-level-1) 1pt solid;\n",
       "}\n",
       "\n",
       "#sk-container-id-6 a.estimator_doc_link.fitted {\n",
       "  /* fitted */\n",
       "  border: var(--sklearn-color-fitted-level-1) 1pt solid;\n",
       "  color: var(--sklearn-color-fitted-level-1);\n",
       "}\n",
       "\n",
       "/* On hover */\n",
       "#sk-container-id-6 a.estimator_doc_link:hover {\n",
       "  /* unfitted */\n",
       "  background-color: var(--sklearn-color-unfitted-level-3);\n",
       "  color: var(--sklearn-color-background);\n",
       "  text-decoration: none;\n",
       "}\n",
       "\n",
       "#sk-container-id-6 a.estimator_doc_link.fitted:hover {\n",
       "  /* fitted */\n",
       "  background-color: var(--sklearn-color-fitted-level-3);\n",
       "}\n",
       "</style><div id=\"sk-container-id-6\" class=\"sk-top-container\"><div class=\"sk-text-repr-fallback\"><pre>InverseVolatility()</pre><b>In a Jupyter environment, please rerun this cell to show the HTML representation or trust the notebook. <br />On GitHub, the HTML representation is unable to render, please try loading this page with nbviewer.org.</b></div><div class=\"sk-container\" hidden><div class=\"sk-item\"><div class=\"sk-estimator fitted sk-toggleable\"><input class=\"sk-toggleable__control sk-hidden--visually\" id=\"sk-estimator-id-6\" type=\"checkbox\" checked><label for=\"sk-estimator-id-6\" class=\"sk-toggleable__label fitted sk-toggleable__label-arrow fitted\">&nbsp;InverseVolatility<span class=\"sk-estimator-doc-link fitted\">i<span>Fitted</span></span></label><div class=\"sk-toggleable__content fitted\"><pre>InverseVolatility()</pre></div> </div></div></div></div>"
      ],
      "text/plain": [
       "InverseVolatility()"
      ]
     },
     "execution_count": 32,
     "metadata": {},
     "output_type": "execute_result"
    }
   ],
   "source": [
    "model_minvar = InverseVolatility()\n",
    "model_minvar.fit(df_train)"
   ]
  },
  {
   "cell_type": "code",
   "execution_count": 33,
   "metadata": {},
   "outputs": [
    {
     "data": {
      "text/html": [
       "<style>#sk-container-id-7 {\n",
       "  /* Definition of color scheme common for light and dark mode */\n",
       "  --sklearn-color-text: black;\n",
       "  --sklearn-color-line: gray;\n",
       "  /* Definition of color scheme for unfitted estimators */\n",
       "  --sklearn-color-unfitted-level-0: #fff5e6;\n",
       "  --sklearn-color-unfitted-level-1: #f6e4d2;\n",
       "  --sklearn-color-unfitted-level-2: #ffe0b3;\n",
       "  --sklearn-color-unfitted-level-3: chocolate;\n",
       "  /* Definition of color scheme for fitted estimators */\n",
       "  --sklearn-color-fitted-level-0: #f0f8ff;\n",
       "  --sklearn-color-fitted-level-1: #d4ebff;\n",
       "  --sklearn-color-fitted-level-2: #b3dbfd;\n",
       "  --sklearn-color-fitted-level-3: cornflowerblue;\n",
       "\n",
       "  /* Specific color for light theme */\n",
       "  --sklearn-color-text-on-default-background: var(--sg-text-color, var(--theme-code-foreground, var(--jp-content-font-color1, black)));\n",
       "  --sklearn-color-background: var(--sg-background-color, var(--theme-background, var(--jp-layout-color0, white)));\n",
       "  --sklearn-color-border-box: var(--sg-text-color, var(--theme-code-foreground, var(--jp-content-font-color1, black)));\n",
       "  --sklearn-color-icon: #696969;\n",
       "\n",
       "  @media (prefers-color-scheme: dark) {\n",
       "    /* Redefinition of color scheme for dark theme */\n",
       "    --sklearn-color-text-on-default-background: var(--sg-text-color, var(--theme-code-foreground, var(--jp-content-font-color1, white)));\n",
       "    --sklearn-color-background: var(--sg-background-color, var(--theme-background, var(--jp-layout-color0, #111)));\n",
       "    --sklearn-color-border-box: var(--sg-text-color, var(--theme-code-foreground, var(--jp-content-font-color1, white)));\n",
       "    --sklearn-color-icon: #878787;\n",
       "  }\n",
       "}\n",
       "\n",
       "#sk-container-id-7 {\n",
       "  color: var(--sklearn-color-text);\n",
       "}\n",
       "\n",
       "#sk-container-id-7 pre {\n",
       "  padding: 0;\n",
       "}\n",
       "\n",
       "#sk-container-id-7 input.sk-hidden--visually {\n",
       "  border: 0;\n",
       "  clip: rect(1px 1px 1px 1px);\n",
       "  clip: rect(1px, 1px, 1px, 1px);\n",
       "  height: 1px;\n",
       "  margin: -1px;\n",
       "  overflow: hidden;\n",
       "  padding: 0;\n",
       "  position: absolute;\n",
       "  width: 1px;\n",
       "}\n",
       "\n",
       "#sk-container-id-7 div.sk-dashed-wrapped {\n",
       "  border: 1px dashed var(--sklearn-color-line);\n",
       "  margin: 0 0.4em 0.5em 0.4em;\n",
       "  box-sizing: border-box;\n",
       "  padding-bottom: 0.4em;\n",
       "  background-color: var(--sklearn-color-background);\n",
       "}\n",
       "\n",
       "#sk-container-id-7 div.sk-container {\n",
       "  /* jupyter's `normalize.less` sets `[hidden] { display: none; }`\n",
       "     but bootstrap.min.css set `[hidden] { display: none !important; }`\n",
       "     so we also need the `!important` here to be able to override the\n",
       "     default hidden behavior on the sphinx rendered scikit-learn.org.\n",
       "     See: https://github.com/scikit-learn/scikit-learn/issues/21755 */\n",
       "  display: inline-block !important;\n",
       "  position: relative;\n",
       "}\n",
       "\n",
       "#sk-container-id-7 div.sk-text-repr-fallback {\n",
       "  display: none;\n",
       "}\n",
       "\n",
       "div.sk-parallel-item,\n",
       "div.sk-serial,\n",
       "div.sk-item {\n",
       "  /* draw centered vertical line to link estimators */\n",
       "  background-image: linear-gradient(var(--sklearn-color-text-on-default-background), var(--sklearn-color-text-on-default-background));\n",
       "  background-size: 2px 100%;\n",
       "  background-repeat: no-repeat;\n",
       "  background-position: center center;\n",
       "}\n",
       "\n",
       "/* Parallel-specific style estimator block */\n",
       "\n",
       "#sk-container-id-7 div.sk-parallel-item::after {\n",
       "  content: \"\";\n",
       "  width: 100%;\n",
       "  border-bottom: 2px solid var(--sklearn-color-text-on-default-background);\n",
       "  flex-grow: 1;\n",
       "}\n",
       "\n",
       "#sk-container-id-7 div.sk-parallel {\n",
       "  display: flex;\n",
       "  align-items: stretch;\n",
       "  justify-content: center;\n",
       "  background-color: var(--sklearn-color-background);\n",
       "  position: relative;\n",
       "}\n",
       "\n",
       "#sk-container-id-7 div.sk-parallel-item {\n",
       "  display: flex;\n",
       "  flex-direction: column;\n",
       "}\n",
       "\n",
       "#sk-container-id-7 div.sk-parallel-item:first-child::after {\n",
       "  align-self: flex-end;\n",
       "  width: 50%;\n",
       "}\n",
       "\n",
       "#sk-container-id-7 div.sk-parallel-item:last-child::after {\n",
       "  align-self: flex-start;\n",
       "  width: 50%;\n",
       "}\n",
       "\n",
       "#sk-container-id-7 div.sk-parallel-item:only-child::after {\n",
       "  width: 0;\n",
       "}\n",
       "\n",
       "/* Serial-specific style estimator block */\n",
       "\n",
       "#sk-container-id-7 div.sk-serial {\n",
       "  display: flex;\n",
       "  flex-direction: column;\n",
       "  align-items: center;\n",
       "  background-color: var(--sklearn-color-background);\n",
       "  padding-right: 1em;\n",
       "  padding-left: 1em;\n",
       "}\n",
       "\n",
       "\n",
       "/* Toggleable style: style used for estimator/Pipeline/ColumnTransformer box that is\n",
       "clickable and can be expanded/collapsed.\n",
       "- Pipeline and ColumnTransformer use this feature and define the default style\n",
       "- Estimators will overwrite some part of the style using the `sk-estimator` class\n",
       "*/\n",
       "\n",
       "/* Pipeline and ColumnTransformer style (default) */\n",
       "\n",
       "#sk-container-id-7 div.sk-toggleable {\n",
       "  /* Default theme specific background. It is overwritten whether we have a\n",
       "  specific estimator or a Pipeline/ColumnTransformer */\n",
       "  background-color: var(--sklearn-color-background);\n",
       "}\n",
       "\n",
       "/* Toggleable label */\n",
       "#sk-container-id-7 label.sk-toggleable__label {\n",
       "  cursor: pointer;\n",
       "  display: block;\n",
       "  width: 100%;\n",
       "  margin-bottom: 0;\n",
       "  padding: 0.5em;\n",
       "  box-sizing: border-box;\n",
       "  text-align: center;\n",
       "}\n",
       "\n",
       "#sk-container-id-7 label.sk-toggleable__label-arrow:before {\n",
       "  /* Arrow on the left of the label */\n",
       "  content: \"▸\";\n",
       "  float: left;\n",
       "  margin-right: 0.25em;\n",
       "  color: var(--sklearn-color-icon);\n",
       "}\n",
       "\n",
       "#sk-container-id-7 label.sk-toggleable__label-arrow:hover:before {\n",
       "  color: var(--sklearn-color-text);\n",
       "}\n",
       "\n",
       "/* Toggleable content - dropdown */\n",
       "\n",
       "#sk-container-id-7 div.sk-toggleable__content {\n",
       "  max-height: 0;\n",
       "  max-width: 0;\n",
       "  overflow: hidden;\n",
       "  text-align: left;\n",
       "  /* unfitted */\n",
       "  background-color: var(--sklearn-color-unfitted-level-0);\n",
       "}\n",
       "\n",
       "#sk-container-id-7 div.sk-toggleable__content.fitted {\n",
       "  /* fitted */\n",
       "  background-color: var(--sklearn-color-fitted-level-0);\n",
       "}\n",
       "\n",
       "#sk-container-id-7 div.sk-toggleable__content pre {\n",
       "  margin: 0.2em;\n",
       "  border-radius: 0.25em;\n",
       "  color: var(--sklearn-color-text);\n",
       "  /* unfitted */\n",
       "  background-color: var(--sklearn-color-unfitted-level-0);\n",
       "}\n",
       "\n",
       "#sk-container-id-7 div.sk-toggleable__content.fitted pre {\n",
       "  /* unfitted */\n",
       "  background-color: var(--sklearn-color-fitted-level-0);\n",
       "}\n",
       "\n",
       "#sk-container-id-7 input.sk-toggleable__control:checked~div.sk-toggleable__content {\n",
       "  /* Expand drop-down */\n",
       "  max-height: 200px;\n",
       "  max-width: 100%;\n",
       "  overflow: auto;\n",
       "}\n",
       "\n",
       "#sk-container-id-7 input.sk-toggleable__control:checked~label.sk-toggleable__label-arrow:before {\n",
       "  content: \"▾\";\n",
       "}\n",
       "\n",
       "/* Pipeline/ColumnTransformer-specific style */\n",
       "\n",
       "#sk-container-id-7 div.sk-label input.sk-toggleable__control:checked~label.sk-toggleable__label {\n",
       "  color: var(--sklearn-color-text);\n",
       "  background-color: var(--sklearn-color-unfitted-level-2);\n",
       "}\n",
       "\n",
       "#sk-container-id-7 div.sk-label.fitted input.sk-toggleable__control:checked~label.sk-toggleable__label {\n",
       "  background-color: var(--sklearn-color-fitted-level-2);\n",
       "}\n",
       "\n",
       "/* Estimator-specific style */\n",
       "\n",
       "/* Colorize estimator box */\n",
       "#sk-container-id-7 div.sk-estimator input.sk-toggleable__control:checked~label.sk-toggleable__label {\n",
       "  /* unfitted */\n",
       "  background-color: var(--sklearn-color-unfitted-level-2);\n",
       "}\n",
       "\n",
       "#sk-container-id-7 div.sk-estimator.fitted input.sk-toggleable__control:checked~label.sk-toggleable__label {\n",
       "  /* fitted */\n",
       "  background-color: var(--sklearn-color-fitted-level-2);\n",
       "}\n",
       "\n",
       "#sk-container-id-7 div.sk-label label.sk-toggleable__label,\n",
       "#sk-container-id-7 div.sk-label label {\n",
       "  /* The background is the default theme color */\n",
       "  color: var(--sklearn-color-text-on-default-background);\n",
       "}\n",
       "\n",
       "/* On hover, darken the color of the background */\n",
       "#sk-container-id-7 div.sk-label:hover label.sk-toggleable__label {\n",
       "  color: var(--sklearn-color-text);\n",
       "  background-color: var(--sklearn-color-unfitted-level-2);\n",
       "}\n",
       "\n",
       "/* Label box, darken color on hover, fitted */\n",
       "#sk-container-id-7 div.sk-label.fitted:hover label.sk-toggleable__label.fitted {\n",
       "  color: var(--sklearn-color-text);\n",
       "  background-color: var(--sklearn-color-fitted-level-2);\n",
       "}\n",
       "\n",
       "/* Estimator label */\n",
       "\n",
       "#sk-container-id-7 div.sk-label label {\n",
       "  font-family: monospace;\n",
       "  font-weight: bold;\n",
       "  display: inline-block;\n",
       "  line-height: 1.2em;\n",
       "}\n",
       "\n",
       "#sk-container-id-7 div.sk-label-container {\n",
       "  text-align: center;\n",
       "}\n",
       "\n",
       "/* Estimator-specific */\n",
       "#sk-container-id-7 div.sk-estimator {\n",
       "  font-family: monospace;\n",
       "  border: 1px dotted var(--sklearn-color-border-box);\n",
       "  border-radius: 0.25em;\n",
       "  box-sizing: border-box;\n",
       "  margin-bottom: 0.5em;\n",
       "  /* unfitted */\n",
       "  background-color: var(--sklearn-color-unfitted-level-0);\n",
       "}\n",
       "\n",
       "#sk-container-id-7 div.sk-estimator.fitted {\n",
       "  /* fitted */\n",
       "  background-color: var(--sklearn-color-fitted-level-0);\n",
       "}\n",
       "\n",
       "/* on hover */\n",
       "#sk-container-id-7 div.sk-estimator:hover {\n",
       "  /* unfitted */\n",
       "  background-color: var(--sklearn-color-unfitted-level-2);\n",
       "}\n",
       "\n",
       "#sk-container-id-7 div.sk-estimator.fitted:hover {\n",
       "  /* fitted */\n",
       "  background-color: var(--sklearn-color-fitted-level-2);\n",
       "}\n",
       "\n",
       "/* Specification for estimator info (e.g. \"i\" and \"?\") */\n",
       "\n",
       "/* Common style for \"i\" and \"?\" */\n",
       "\n",
       ".sk-estimator-doc-link,\n",
       "a:link.sk-estimator-doc-link,\n",
       "a:visited.sk-estimator-doc-link {\n",
       "  float: right;\n",
       "  font-size: smaller;\n",
       "  line-height: 1em;\n",
       "  font-family: monospace;\n",
       "  background-color: var(--sklearn-color-background);\n",
       "  border-radius: 1em;\n",
       "  height: 1em;\n",
       "  width: 1em;\n",
       "  text-decoration: none !important;\n",
       "  margin-left: 1ex;\n",
       "  /* unfitted */\n",
       "  border: var(--sklearn-color-unfitted-level-1) 1pt solid;\n",
       "  color: var(--sklearn-color-unfitted-level-1);\n",
       "}\n",
       "\n",
       ".sk-estimator-doc-link.fitted,\n",
       "a:link.sk-estimator-doc-link.fitted,\n",
       "a:visited.sk-estimator-doc-link.fitted {\n",
       "  /* fitted */\n",
       "  border: var(--sklearn-color-fitted-level-1) 1pt solid;\n",
       "  color: var(--sklearn-color-fitted-level-1);\n",
       "}\n",
       "\n",
       "/* On hover */\n",
       "div.sk-estimator:hover .sk-estimator-doc-link:hover,\n",
       ".sk-estimator-doc-link:hover,\n",
       "div.sk-label-container:hover .sk-estimator-doc-link:hover,\n",
       ".sk-estimator-doc-link:hover {\n",
       "  /* unfitted */\n",
       "  background-color: var(--sklearn-color-unfitted-level-3);\n",
       "  color: var(--sklearn-color-background);\n",
       "  text-decoration: none;\n",
       "}\n",
       "\n",
       "div.sk-estimator.fitted:hover .sk-estimator-doc-link.fitted:hover,\n",
       ".sk-estimator-doc-link.fitted:hover,\n",
       "div.sk-label-container:hover .sk-estimator-doc-link.fitted:hover,\n",
       ".sk-estimator-doc-link.fitted:hover {\n",
       "  /* fitted */\n",
       "  background-color: var(--sklearn-color-fitted-level-3);\n",
       "  color: var(--sklearn-color-background);\n",
       "  text-decoration: none;\n",
       "}\n",
       "\n",
       "/* Span, style for the box shown on hovering the info icon */\n",
       ".sk-estimator-doc-link span {\n",
       "  display: none;\n",
       "  z-index: 9999;\n",
       "  position: relative;\n",
       "  font-weight: normal;\n",
       "  right: .2ex;\n",
       "  padding: .5ex;\n",
       "  margin: .5ex;\n",
       "  width: min-content;\n",
       "  min-width: 20ex;\n",
       "  max-width: 50ex;\n",
       "  color: var(--sklearn-color-text);\n",
       "  box-shadow: 2pt 2pt 4pt #999;\n",
       "  /* unfitted */\n",
       "  background: var(--sklearn-color-unfitted-level-0);\n",
       "  border: .5pt solid var(--sklearn-color-unfitted-level-3);\n",
       "}\n",
       "\n",
       ".sk-estimator-doc-link.fitted span {\n",
       "  /* fitted */\n",
       "  background: var(--sklearn-color-fitted-level-0);\n",
       "  border: var(--sklearn-color-fitted-level-3);\n",
       "}\n",
       "\n",
       ".sk-estimator-doc-link:hover span {\n",
       "  display: block;\n",
       "}\n",
       "\n",
       "/* \"?\"-specific style due to the `<a>` HTML tag */\n",
       "\n",
       "#sk-container-id-7 a.estimator_doc_link {\n",
       "  float: right;\n",
       "  font-size: 1rem;\n",
       "  line-height: 1em;\n",
       "  font-family: monospace;\n",
       "  background-color: var(--sklearn-color-background);\n",
       "  border-radius: 1rem;\n",
       "  height: 1rem;\n",
       "  width: 1rem;\n",
       "  text-decoration: none;\n",
       "  /* unfitted */\n",
       "  color: var(--sklearn-color-unfitted-level-1);\n",
       "  border: var(--sklearn-color-unfitted-level-1) 1pt solid;\n",
       "}\n",
       "\n",
       "#sk-container-id-7 a.estimator_doc_link.fitted {\n",
       "  /* fitted */\n",
       "  border: var(--sklearn-color-fitted-level-1) 1pt solid;\n",
       "  color: var(--sklearn-color-fitted-level-1);\n",
       "}\n",
       "\n",
       "/* On hover */\n",
       "#sk-container-id-7 a.estimator_doc_link:hover {\n",
       "  /* unfitted */\n",
       "  background-color: var(--sklearn-color-unfitted-level-3);\n",
       "  color: var(--sklearn-color-background);\n",
       "  text-decoration: none;\n",
       "}\n",
       "\n",
       "#sk-container-id-7 a.estimator_doc_link.fitted:hover {\n",
       "  /* fitted */\n",
       "  background-color: var(--sklearn-color-fitted-level-3);\n",
       "}\n",
       "</style><div id=\"sk-container-id-7\" class=\"sk-top-container\"><div class=\"sk-text-repr-fallback\"><pre>MeanRisk(portfolio_params={&#x27;name&#x27;: &#x27;Min CVaR&#x27;}, risk_measure=CVaR)</pre><b>In a Jupyter environment, please rerun this cell to show the HTML representation or trust the notebook. <br />On GitHub, the HTML representation is unable to render, please try loading this page with nbviewer.org.</b></div><div class=\"sk-container\" hidden><div class=\"sk-item\"><div class=\"sk-estimator fitted sk-toggleable\"><input class=\"sk-toggleable__control sk-hidden--visually\" id=\"sk-estimator-id-7\" type=\"checkbox\" checked><label for=\"sk-estimator-id-7\" class=\"sk-toggleable__label fitted sk-toggleable__label-arrow fitted\">&nbsp;MeanRisk<span class=\"sk-estimator-doc-link fitted\">i<span>Fitted</span></span></label><div class=\"sk-toggleable__content fitted\"><pre>MeanRisk(portfolio_params={&#x27;name&#x27;: &#x27;Min CVaR&#x27;}, risk_measure=CVaR)</pre></div> </div></div></div></div>"
      ],
      "text/plain": [
       "MeanRisk(portfolio_params={'name': 'Min CVaR'}, risk_measure=CVaR)"
      ]
     },
     "execution_count": 33,
     "metadata": {},
     "output_type": "execute_result"
    }
   ],
   "source": [
    "model_mincvar = MeanRisk(\n",
    "    risk_measure = RiskMeasure.CVAR,\n",
    "    objective_function = ObjectiveFunction.MINIMIZE_RISK,\n",
    "    portfolio_params = dict(name='Min CVaR')\n",
    ")\n",
    "model_mincvar.fit(df_train)"
   ]
  },
  {
   "cell_type": "code",
   "execution_count": 34,
   "metadata": {},
   "outputs": [
    {
     "data": {
      "text/html": [
       "<style>#sk-container-id-8 {\n",
       "  /* Definition of color scheme common for light and dark mode */\n",
       "  --sklearn-color-text: black;\n",
       "  --sklearn-color-line: gray;\n",
       "  /* Definition of color scheme for unfitted estimators */\n",
       "  --sklearn-color-unfitted-level-0: #fff5e6;\n",
       "  --sklearn-color-unfitted-level-1: #f6e4d2;\n",
       "  --sklearn-color-unfitted-level-2: #ffe0b3;\n",
       "  --sklearn-color-unfitted-level-3: chocolate;\n",
       "  /* Definition of color scheme for fitted estimators */\n",
       "  --sklearn-color-fitted-level-0: #f0f8ff;\n",
       "  --sklearn-color-fitted-level-1: #d4ebff;\n",
       "  --sklearn-color-fitted-level-2: #b3dbfd;\n",
       "  --sklearn-color-fitted-level-3: cornflowerblue;\n",
       "\n",
       "  /* Specific color for light theme */\n",
       "  --sklearn-color-text-on-default-background: var(--sg-text-color, var(--theme-code-foreground, var(--jp-content-font-color1, black)));\n",
       "  --sklearn-color-background: var(--sg-background-color, var(--theme-background, var(--jp-layout-color0, white)));\n",
       "  --sklearn-color-border-box: var(--sg-text-color, var(--theme-code-foreground, var(--jp-content-font-color1, black)));\n",
       "  --sklearn-color-icon: #696969;\n",
       "\n",
       "  @media (prefers-color-scheme: dark) {\n",
       "    /* Redefinition of color scheme for dark theme */\n",
       "    --sklearn-color-text-on-default-background: var(--sg-text-color, var(--theme-code-foreground, var(--jp-content-font-color1, white)));\n",
       "    --sklearn-color-background: var(--sg-background-color, var(--theme-background, var(--jp-layout-color0, #111)));\n",
       "    --sklearn-color-border-box: var(--sg-text-color, var(--theme-code-foreground, var(--jp-content-font-color1, white)));\n",
       "    --sklearn-color-icon: #878787;\n",
       "  }\n",
       "}\n",
       "\n",
       "#sk-container-id-8 {\n",
       "  color: var(--sklearn-color-text);\n",
       "}\n",
       "\n",
       "#sk-container-id-8 pre {\n",
       "  padding: 0;\n",
       "}\n",
       "\n",
       "#sk-container-id-8 input.sk-hidden--visually {\n",
       "  border: 0;\n",
       "  clip: rect(1px 1px 1px 1px);\n",
       "  clip: rect(1px, 1px, 1px, 1px);\n",
       "  height: 1px;\n",
       "  margin: -1px;\n",
       "  overflow: hidden;\n",
       "  padding: 0;\n",
       "  position: absolute;\n",
       "  width: 1px;\n",
       "}\n",
       "\n",
       "#sk-container-id-8 div.sk-dashed-wrapped {\n",
       "  border: 1px dashed var(--sklearn-color-line);\n",
       "  margin: 0 0.4em 0.5em 0.4em;\n",
       "  box-sizing: border-box;\n",
       "  padding-bottom: 0.4em;\n",
       "  background-color: var(--sklearn-color-background);\n",
       "}\n",
       "\n",
       "#sk-container-id-8 div.sk-container {\n",
       "  /* jupyter's `normalize.less` sets `[hidden] { display: none; }`\n",
       "     but bootstrap.min.css set `[hidden] { display: none !important; }`\n",
       "     so we also need the `!important` here to be able to override the\n",
       "     default hidden behavior on the sphinx rendered scikit-learn.org.\n",
       "     See: https://github.com/scikit-learn/scikit-learn/issues/21755 */\n",
       "  display: inline-block !important;\n",
       "  position: relative;\n",
       "}\n",
       "\n",
       "#sk-container-id-8 div.sk-text-repr-fallback {\n",
       "  display: none;\n",
       "}\n",
       "\n",
       "div.sk-parallel-item,\n",
       "div.sk-serial,\n",
       "div.sk-item {\n",
       "  /* draw centered vertical line to link estimators */\n",
       "  background-image: linear-gradient(var(--sklearn-color-text-on-default-background), var(--sklearn-color-text-on-default-background));\n",
       "  background-size: 2px 100%;\n",
       "  background-repeat: no-repeat;\n",
       "  background-position: center center;\n",
       "}\n",
       "\n",
       "/* Parallel-specific style estimator block */\n",
       "\n",
       "#sk-container-id-8 div.sk-parallel-item::after {\n",
       "  content: \"\";\n",
       "  width: 100%;\n",
       "  border-bottom: 2px solid var(--sklearn-color-text-on-default-background);\n",
       "  flex-grow: 1;\n",
       "}\n",
       "\n",
       "#sk-container-id-8 div.sk-parallel {\n",
       "  display: flex;\n",
       "  align-items: stretch;\n",
       "  justify-content: center;\n",
       "  background-color: var(--sklearn-color-background);\n",
       "  position: relative;\n",
       "}\n",
       "\n",
       "#sk-container-id-8 div.sk-parallel-item {\n",
       "  display: flex;\n",
       "  flex-direction: column;\n",
       "}\n",
       "\n",
       "#sk-container-id-8 div.sk-parallel-item:first-child::after {\n",
       "  align-self: flex-end;\n",
       "  width: 50%;\n",
       "}\n",
       "\n",
       "#sk-container-id-8 div.sk-parallel-item:last-child::after {\n",
       "  align-self: flex-start;\n",
       "  width: 50%;\n",
       "}\n",
       "\n",
       "#sk-container-id-8 div.sk-parallel-item:only-child::after {\n",
       "  width: 0;\n",
       "}\n",
       "\n",
       "/* Serial-specific style estimator block */\n",
       "\n",
       "#sk-container-id-8 div.sk-serial {\n",
       "  display: flex;\n",
       "  flex-direction: column;\n",
       "  align-items: center;\n",
       "  background-color: var(--sklearn-color-background);\n",
       "  padding-right: 1em;\n",
       "  padding-left: 1em;\n",
       "}\n",
       "\n",
       "\n",
       "/* Toggleable style: style used for estimator/Pipeline/ColumnTransformer box that is\n",
       "clickable and can be expanded/collapsed.\n",
       "- Pipeline and ColumnTransformer use this feature and define the default style\n",
       "- Estimators will overwrite some part of the style using the `sk-estimator` class\n",
       "*/\n",
       "\n",
       "/* Pipeline and ColumnTransformer style (default) */\n",
       "\n",
       "#sk-container-id-8 div.sk-toggleable {\n",
       "  /* Default theme specific background. It is overwritten whether we have a\n",
       "  specific estimator or a Pipeline/ColumnTransformer */\n",
       "  background-color: var(--sklearn-color-background);\n",
       "}\n",
       "\n",
       "/* Toggleable label */\n",
       "#sk-container-id-8 label.sk-toggleable__label {\n",
       "  cursor: pointer;\n",
       "  display: block;\n",
       "  width: 100%;\n",
       "  margin-bottom: 0;\n",
       "  padding: 0.5em;\n",
       "  box-sizing: border-box;\n",
       "  text-align: center;\n",
       "}\n",
       "\n",
       "#sk-container-id-8 label.sk-toggleable__label-arrow:before {\n",
       "  /* Arrow on the left of the label */\n",
       "  content: \"▸\";\n",
       "  float: left;\n",
       "  margin-right: 0.25em;\n",
       "  color: var(--sklearn-color-icon);\n",
       "}\n",
       "\n",
       "#sk-container-id-8 label.sk-toggleable__label-arrow:hover:before {\n",
       "  color: var(--sklearn-color-text);\n",
       "}\n",
       "\n",
       "/* Toggleable content - dropdown */\n",
       "\n",
       "#sk-container-id-8 div.sk-toggleable__content {\n",
       "  max-height: 0;\n",
       "  max-width: 0;\n",
       "  overflow: hidden;\n",
       "  text-align: left;\n",
       "  /* unfitted */\n",
       "  background-color: var(--sklearn-color-unfitted-level-0);\n",
       "}\n",
       "\n",
       "#sk-container-id-8 div.sk-toggleable__content.fitted {\n",
       "  /* fitted */\n",
       "  background-color: var(--sklearn-color-fitted-level-0);\n",
       "}\n",
       "\n",
       "#sk-container-id-8 div.sk-toggleable__content pre {\n",
       "  margin: 0.2em;\n",
       "  border-radius: 0.25em;\n",
       "  color: var(--sklearn-color-text);\n",
       "  /* unfitted */\n",
       "  background-color: var(--sklearn-color-unfitted-level-0);\n",
       "}\n",
       "\n",
       "#sk-container-id-8 div.sk-toggleable__content.fitted pre {\n",
       "  /* unfitted */\n",
       "  background-color: var(--sklearn-color-fitted-level-0);\n",
       "}\n",
       "\n",
       "#sk-container-id-8 input.sk-toggleable__control:checked~div.sk-toggleable__content {\n",
       "  /* Expand drop-down */\n",
       "  max-height: 200px;\n",
       "  max-width: 100%;\n",
       "  overflow: auto;\n",
       "}\n",
       "\n",
       "#sk-container-id-8 input.sk-toggleable__control:checked~label.sk-toggleable__label-arrow:before {\n",
       "  content: \"▾\";\n",
       "}\n",
       "\n",
       "/* Pipeline/ColumnTransformer-specific style */\n",
       "\n",
       "#sk-container-id-8 div.sk-label input.sk-toggleable__control:checked~label.sk-toggleable__label {\n",
       "  color: var(--sklearn-color-text);\n",
       "  background-color: var(--sklearn-color-unfitted-level-2);\n",
       "}\n",
       "\n",
       "#sk-container-id-8 div.sk-label.fitted input.sk-toggleable__control:checked~label.sk-toggleable__label {\n",
       "  background-color: var(--sklearn-color-fitted-level-2);\n",
       "}\n",
       "\n",
       "/* Estimator-specific style */\n",
       "\n",
       "/* Colorize estimator box */\n",
       "#sk-container-id-8 div.sk-estimator input.sk-toggleable__control:checked~label.sk-toggleable__label {\n",
       "  /* unfitted */\n",
       "  background-color: var(--sklearn-color-unfitted-level-2);\n",
       "}\n",
       "\n",
       "#sk-container-id-8 div.sk-estimator.fitted input.sk-toggleable__control:checked~label.sk-toggleable__label {\n",
       "  /* fitted */\n",
       "  background-color: var(--sklearn-color-fitted-level-2);\n",
       "}\n",
       "\n",
       "#sk-container-id-8 div.sk-label label.sk-toggleable__label,\n",
       "#sk-container-id-8 div.sk-label label {\n",
       "  /* The background is the default theme color */\n",
       "  color: var(--sklearn-color-text-on-default-background);\n",
       "}\n",
       "\n",
       "/* On hover, darken the color of the background */\n",
       "#sk-container-id-8 div.sk-label:hover label.sk-toggleable__label {\n",
       "  color: var(--sklearn-color-text);\n",
       "  background-color: var(--sklearn-color-unfitted-level-2);\n",
       "}\n",
       "\n",
       "/* Label box, darken color on hover, fitted */\n",
       "#sk-container-id-8 div.sk-label.fitted:hover label.sk-toggleable__label.fitted {\n",
       "  color: var(--sklearn-color-text);\n",
       "  background-color: var(--sklearn-color-fitted-level-2);\n",
       "}\n",
       "\n",
       "/* Estimator label */\n",
       "\n",
       "#sk-container-id-8 div.sk-label label {\n",
       "  font-family: monospace;\n",
       "  font-weight: bold;\n",
       "  display: inline-block;\n",
       "  line-height: 1.2em;\n",
       "}\n",
       "\n",
       "#sk-container-id-8 div.sk-label-container {\n",
       "  text-align: center;\n",
       "}\n",
       "\n",
       "/* Estimator-specific */\n",
       "#sk-container-id-8 div.sk-estimator {\n",
       "  font-family: monospace;\n",
       "  border: 1px dotted var(--sklearn-color-border-box);\n",
       "  border-radius: 0.25em;\n",
       "  box-sizing: border-box;\n",
       "  margin-bottom: 0.5em;\n",
       "  /* unfitted */\n",
       "  background-color: var(--sklearn-color-unfitted-level-0);\n",
       "}\n",
       "\n",
       "#sk-container-id-8 div.sk-estimator.fitted {\n",
       "  /* fitted */\n",
       "  background-color: var(--sklearn-color-fitted-level-0);\n",
       "}\n",
       "\n",
       "/* on hover */\n",
       "#sk-container-id-8 div.sk-estimator:hover {\n",
       "  /* unfitted */\n",
       "  background-color: var(--sklearn-color-unfitted-level-2);\n",
       "}\n",
       "\n",
       "#sk-container-id-8 div.sk-estimator.fitted:hover {\n",
       "  /* fitted */\n",
       "  background-color: var(--sklearn-color-fitted-level-2);\n",
       "}\n",
       "\n",
       "/* Specification for estimator info (e.g. \"i\" and \"?\") */\n",
       "\n",
       "/* Common style for \"i\" and \"?\" */\n",
       "\n",
       ".sk-estimator-doc-link,\n",
       "a:link.sk-estimator-doc-link,\n",
       "a:visited.sk-estimator-doc-link {\n",
       "  float: right;\n",
       "  font-size: smaller;\n",
       "  line-height: 1em;\n",
       "  font-family: monospace;\n",
       "  background-color: var(--sklearn-color-background);\n",
       "  border-radius: 1em;\n",
       "  height: 1em;\n",
       "  width: 1em;\n",
       "  text-decoration: none !important;\n",
       "  margin-left: 1ex;\n",
       "  /* unfitted */\n",
       "  border: var(--sklearn-color-unfitted-level-1) 1pt solid;\n",
       "  color: var(--sklearn-color-unfitted-level-1);\n",
       "}\n",
       "\n",
       ".sk-estimator-doc-link.fitted,\n",
       "a:link.sk-estimator-doc-link.fitted,\n",
       "a:visited.sk-estimator-doc-link.fitted {\n",
       "  /* fitted */\n",
       "  border: var(--sklearn-color-fitted-level-1) 1pt solid;\n",
       "  color: var(--sklearn-color-fitted-level-1);\n",
       "}\n",
       "\n",
       "/* On hover */\n",
       "div.sk-estimator:hover .sk-estimator-doc-link:hover,\n",
       ".sk-estimator-doc-link:hover,\n",
       "div.sk-label-container:hover .sk-estimator-doc-link:hover,\n",
       ".sk-estimator-doc-link:hover {\n",
       "  /* unfitted */\n",
       "  background-color: var(--sklearn-color-unfitted-level-3);\n",
       "  color: var(--sklearn-color-background);\n",
       "  text-decoration: none;\n",
       "}\n",
       "\n",
       "div.sk-estimator.fitted:hover .sk-estimator-doc-link.fitted:hover,\n",
       ".sk-estimator-doc-link.fitted:hover,\n",
       "div.sk-label-container:hover .sk-estimator-doc-link.fitted:hover,\n",
       ".sk-estimator-doc-link.fitted:hover {\n",
       "  /* fitted */\n",
       "  background-color: var(--sklearn-color-fitted-level-3);\n",
       "  color: var(--sklearn-color-background);\n",
       "  text-decoration: none;\n",
       "}\n",
       "\n",
       "/* Span, style for the box shown on hovering the info icon */\n",
       ".sk-estimator-doc-link span {\n",
       "  display: none;\n",
       "  z-index: 9999;\n",
       "  position: relative;\n",
       "  font-weight: normal;\n",
       "  right: .2ex;\n",
       "  padding: .5ex;\n",
       "  margin: .5ex;\n",
       "  width: min-content;\n",
       "  min-width: 20ex;\n",
       "  max-width: 50ex;\n",
       "  color: var(--sklearn-color-text);\n",
       "  box-shadow: 2pt 2pt 4pt #999;\n",
       "  /* unfitted */\n",
       "  background: var(--sklearn-color-unfitted-level-0);\n",
       "  border: .5pt solid var(--sklearn-color-unfitted-level-3);\n",
       "}\n",
       "\n",
       ".sk-estimator-doc-link.fitted span {\n",
       "  /* fitted */\n",
       "  background: var(--sklearn-color-fitted-level-0);\n",
       "  border: var(--sklearn-color-fitted-level-3);\n",
       "}\n",
       "\n",
       ".sk-estimator-doc-link:hover span {\n",
       "  display: block;\n",
       "}\n",
       "\n",
       "/* \"?\"-specific style due to the `<a>` HTML tag */\n",
       "\n",
       "#sk-container-id-8 a.estimator_doc_link {\n",
       "  float: right;\n",
       "  font-size: 1rem;\n",
       "  line-height: 1em;\n",
       "  font-family: monospace;\n",
       "  background-color: var(--sklearn-color-background);\n",
       "  border-radius: 1rem;\n",
       "  height: 1rem;\n",
       "  width: 1rem;\n",
       "  text-decoration: none;\n",
       "  /* unfitted */\n",
       "  color: var(--sklearn-color-unfitted-level-1);\n",
       "  border: var(--sklearn-color-unfitted-level-1) 1pt solid;\n",
       "}\n",
       "\n",
       "#sk-container-id-8 a.estimator_doc_link.fitted {\n",
       "  /* fitted */\n",
       "  border: var(--sklearn-color-fitted-level-1) 1pt solid;\n",
       "  color: var(--sklearn-color-fitted-level-1);\n",
       "}\n",
       "\n",
       "/* On hover */\n",
       "#sk-container-id-8 a.estimator_doc_link:hover {\n",
       "  /* unfitted */\n",
       "  background-color: var(--sklearn-color-unfitted-level-3);\n",
       "  color: var(--sklearn-color-background);\n",
       "  text-decoration: none;\n",
       "}\n",
       "\n",
       "#sk-container-id-8 a.estimator_doc_link.fitted:hover {\n",
       "  /* fitted */\n",
       "  background-color: var(--sklearn-color-fitted-level-3);\n",
       "}\n",
       "</style><div id=\"sk-container-id-8\" class=\"sk-top-container\"><div class=\"sk-text-repr-fallback\"><pre>HierarchicalRiskParity(portfolio_params={&#x27;name&#x27;: &#x27;Hierarchical Clustering&#x27;},\n",
       "                       risk_measure=CVaR)</pre><b>In a Jupyter environment, please rerun this cell to show the HTML representation or trust the notebook. <br />On GitHub, the HTML representation is unable to render, please try loading this page with nbviewer.org.</b></div><div class=\"sk-container\" hidden><div class=\"sk-item\"><div class=\"sk-estimator fitted sk-toggleable\"><input class=\"sk-toggleable__control sk-hidden--visually\" id=\"sk-estimator-id-8\" type=\"checkbox\" checked><label for=\"sk-estimator-id-8\" class=\"sk-toggleable__label fitted sk-toggleable__label-arrow fitted\">&nbsp;HierarchicalRiskParity<span class=\"sk-estimator-doc-link fitted\">i<span>Fitted</span></span></label><div class=\"sk-toggleable__content fitted\"><pre>HierarchicalRiskParity(portfolio_params={&#x27;name&#x27;: &#x27;Hierarchical Clustering&#x27;},\n",
       "                       risk_measure=CVaR)</pre></div> </div></div></div></div>"
      ],
      "text/plain": [
       "HierarchicalRiskParity(portfolio_params={'name': 'Hierarchical Clustering'},\n",
       "                       risk_measure=CVaR)"
      ]
     },
     "execution_count": 34,
     "metadata": {},
     "output_type": "execute_result"
    }
   ],
   "source": [
    "model_hier_cluster = HierarchicalRiskParity(\n",
    "    risk_measure = RiskMeasure.CVAR,\n",
    "    portfolio_params = dict(name = 'Hierarchical Clustering')\n",
    ")\n",
    "model_hier_cluster.fit(df_train)"
   ]
  },
  {
   "cell_type": "code",
   "execution_count": 35,
   "metadata": {},
   "outputs": [
    {
     "data": {
      "application/vnd.plotly.v1+json": {
       "config": {
        "plotlyServerURL": "https://plot.ly"
       },
       "data": [
        {
         "hovertemplate": "variable=EqualWeighted<br>index=%{x}<br>value=%{y}<extra></extra>",
         "legendgroup": "EqualWeighted",
         "line": {
          "color": "#636efa",
          "dash": "solid"
         },
         "marker": {
          "symbol": "circle"
         },
         "mode": "lines",
         "name": "EqualWeighted",
         "orientation": "v",
         "showlegend": true,
         "type": "scatter",
         "x": [
          "2024-03-12T00:00:00",
          "2024-03-13T00:00:00",
          "2024-03-14T00:00:00",
          "2024-03-15T00:00:00",
          "2024-03-18T00:00:00",
          "2024-03-19T00:00:00",
          "2024-03-20T00:00:00",
          "2024-03-21T00:00:00",
          "2024-03-22T00:00:00",
          "2024-03-26T00:00:00",
          "2024-03-27T00:00:00",
          "2024-03-28T00:00:00",
          "2024-04-01T00:00:00",
          "2024-04-02T00:00:00",
          "2024-04-03T00:00:00",
          "2024-04-04T00:00:00",
          "2024-04-05T00:00:00",
          "2024-04-08T00:00:00",
          "2024-04-09T00:00:00",
          "2024-04-10T00:00:00",
          "2024-04-12T00:00:00",
          "2024-04-15T00:00:00",
          "2024-04-16T00:00:00",
          "2024-04-18T00:00:00",
          "2024-04-19T00:00:00",
          "2024-04-22T00:00:00",
          "2024-04-23T00:00:00",
          "2024-04-24T00:00:00",
          "2024-04-25T00:00:00",
          "2024-04-26T00:00:00",
          "2024-04-29T00:00:00",
          "2024-04-30T00:00:00",
          "2024-05-02T00:00:00",
          "2024-05-03T00:00:00",
          "2024-05-06T00:00:00",
          "2024-05-07T00:00:00",
          "2024-05-08T00:00:00",
          "2024-05-09T00:00:00",
          "2024-05-10T00:00:00",
          "2024-05-13T00:00:00",
          "2024-05-14T00:00:00",
          "2024-05-15T00:00:00",
          "2024-05-16T00:00:00",
          "2024-05-17T00:00:00",
          "2024-05-21T00:00:00",
          "2024-05-22T00:00:00",
          "2024-05-23T00:00:00",
          "2024-05-24T00:00:00",
          "2024-05-27T00:00:00",
          "2024-05-28T00:00:00",
          "2024-05-29T00:00:00",
          "2024-05-30T00:00:00",
          "2024-05-31T00:00:00",
          "2024-06-03T00:00:00",
          "2024-06-04T00:00:00",
          "2024-06-05T00:00:00",
          "2024-06-06T00:00:00",
          "2024-06-07T00:00:00",
          "2024-06-10T00:00:00",
          "2024-06-11T00:00:00",
          "2024-06-12T00:00:00",
          "2024-06-13T00:00:00",
          "2024-06-14T00:00:00",
          "2024-06-18T00:00:00",
          "2024-06-19T00:00:00",
          "2024-06-20T00:00:00",
          "2024-06-21T00:00:00",
          "2024-06-24T00:00:00",
          "2024-06-25T00:00:00",
          "2024-06-26T00:00:00",
          "2024-06-27T00:00:00",
          "2024-06-28T00:00:00",
          "2024-07-01T00:00:00",
          "2024-07-02T00:00:00",
          "2024-07-03T00:00:00",
          "2024-07-04T00:00:00",
          "2024-07-05T00:00:00",
          "2024-07-08T00:00:00",
          "2024-07-09T00:00:00",
          "2024-07-10T00:00:00",
          "2024-07-11T00:00:00",
          "2024-07-12T00:00:00",
          "2024-07-15T00:00:00",
          "2024-07-16T00:00:00",
          "2024-07-18T00:00:00",
          "2024-07-19T00:00:00",
          "2024-07-22T00:00:00",
          "2024-07-23T00:00:00",
          "2024-07-24T00:00:00",
          "2024-07-25T00:00:00",
          "2024-07-26T00:00:00",
          "2024-07-29T00:00:00",
          "2024-07-30T00:00:00",
          "2024-07-31T00:00:00",
          "2024-08-01T00:00:00",
          "2024-08-02T00:00:00",
          "2024-08-05T00:00:00",
          "2024-08-06T00:00:00",
          "2024-08-07T00:00:00",
          "2024-08-08T00:00:00",
          "2024-08-09T00:00:00",
          "2024-08-12T00:00:00",
          "2024-08-13T00:00:00",
          "2024-08-14T00:00:00",
          "2024-08-16T00:00:00",
          "2024-08-19T00:00:00",
          "2024-08-20T00:00:00",
          "2024-08-21T00:00:00",
          "2024-08-22T00:00:00",
          "2024-08-23T00:00:00"
         ],
         "xaxis": "x",
         "y": [
          989.4865935492651,
          960.3946538755467,
          970.4437486013536,
          963.8862025081634,
          962.8338332925504,
          954.1640771369382,
          956.9684654009397,
          976.7339447349871,
          981.1143549182567,
          983.9658928489463,
          984.559006810956,
          991.3933374230439,
          1007.8293620210377,
          1013.410452376663,
          1017.5409266222664,
          1019.7797391260154,
          1021.3261101924629,
          1028.7019423883437,
          1027.8379682392842,
          1034.9001962537166,
          1033.9584276957194,
          1023.5789588755213,
          1023.5242485082218,
          1016.5254551247249,
          1014.3545212276003,
          1019.9375055534541,
          1021.0860910701931,
          1028.2476931372842,
          1033.8876514566066,
          1040.5023751193864,
          1043.507183845761,
          1043.6614192335448,
          1046.6101255858969,
          1045.164078119392,
          1039.4016145929284,
          1028.228840090149,
          1033.6749337549948,
          1017.1487395602575,
          1027.10484969588,
          1023.7474095511639,
          1032.3432706087901,
          1042.0428056519252,
          1048.868621423091,
          1054.7068548690581,
          1069.9496962641244,
          1073.4047904702904,
          1075.4866759349106,
          1075.4611279147216,
          1075.7563019723239,
          1070.1741774098084,
          1068.4055313202834,
          1057.842490267218,
          1064.8119381200588,
          1094.5795919361447,
          1047.035299340294,
          1040.736523120718,
          1062.8665268499672,
          1077.024657971179,
          1078.3189027290239,
          1085.7283810443075,
          1095.2971052322873,
          1103.888174989499,
          1107.1573395167723,
          1114.5209475810716,
          1109.4814337845394,
          1113.9224407163802,
          1111.6534919220421,
          1109.882173424011,
          1109.4273444452613,
          1111.3256809894988,
          1113.570866995699,
          1119.2769065068678,
          1121.8438682262256,
          1124.1485160631871,
          1131.6575224574071,
          1138.0103011175197,
          1147.2900048604681,
          1152.15952975873,
          1155.4168028455754,
          1153.729913676554,
          1159.542861460159,
          1157.7268210736904,
          1167.3802835015824,
          1168.8517607277838,
          1163.6473670035857,
          1141.8320507820958,
          1145.570329784552,
          1137.1091040482058,
          1141.0280376099074,
          1137.456404072691,
          1150.212285006459,
          1153.7206738482892,
          1157.7116206850958,
          1160.9276811304233,
          1165.6015170368912,
          1152.979644704705,
          1117.061268808952,
          1108.2505105080613,
          1129.8339131896093,
          1121.8740942887734,
          1135.3875003427852,
          1135.461070067298,
          1129.377775840973,
          1127.4852576627925,
          1144.9126403525986,
          1152.571089457653,
          1159.4589780010617,
          1160.9149892591915,
          1163.7252082225143,
          1160.6785506888748
         ],
         "yaxis": "y"
        },
        {
         "hovertemplate": "variable=InverseVolatility<br>index=%{x}<br>value=%{y}<extra></extra>",
         "legendgroup": "InverseVolatility",
         "line": {
          "color": "#EF553B",
          "dash": "solid"
         },
         "marker": {
          "symbol": "circle"
         },
         "mode": "lines",
         "name": "InverseVolatility",
         "orientation": "v",
         "showlegend": true,
         "type": "scatter",
         "x": [
          "2024-03-12T00:00:00",
          "2024-03-13T00:00:00",
          "2024-03-14T00:00:00",
          "2024-03-15T00:00:00",
          "2024-03-18T00:00:00",
          "2024-03-19T00:00:00",
          "2024-03-20T00:00:00",
          "2024-03-21T00:00:00",
          "2024-03-22T00:00:00",
          "2024-03-26T00:00:00",
          "2024-03-27T00:00:00",
          "2024-03-28T00:00:00",
          "2024-04-01T00:00:00",
          "2024-04-02T00:00:00",
          "2024-04-03T00:00:00",
          "2024-04-04T00:00:00",
          "2024-04-05T00:00:00",
          "2024-04-08T00:00:00",
          "2024-04-09T00:00:00",
          "2024-04-10T00:00:00",
          "2024-04-12T00:00:00",
          "2024-04-15T00:00:00",
          "2024-04-16T00:00:00",
          "2024-04-18T00:00:00",
          "2024-04-19T00:00:00",
          "2024-04-22T00:00:00",
          "2024-04-23T00:00:00",
          "2024-04-24T00:00:00",
          "2024-04-25T00:00:00",
          "2024-04-26T00:00:00",
          "2024-04-29T00:00:00",
          "2024-04-30T00:00:00",
          "2024-05-02T00:00:00",
          "2024-05-03T00:00:00",
          "2024-05-06T00:00:00",
          "2024-05-07T00:00:00",
          "2024-05-08T00:00:00",
          "2024-05-09T00:00:00",
          "2024-05-10T00:00:00",
          "2024-05-13T00:00:00",
          "2024-05-14T00:00:00",
          "2024-05-15T00:00:00",
          "2024-05-16T00:00:00",
          "2024-05-17T00:00:00",
          "2024-05-21T00:00:00",
          "2024-05-22T00:00:00",
          "2024-05-23T00:00:00",
          "2024-05-24T00:00:00",
          "2024-05-27T00:00:00",
          "2024-05-28T00:00:00",
          "2024-05-29T00:00:00",
          "2024-05-30T00:00:00",
          "2024-05-31T00:00:00",
          "2024-06-03T00:00:00",
          "2024-06-04T00:00:00",
          "2024-06-05T00:00:00",
          "2024-06-06T00:00:00",
          "2024-06-07T00:00:00",
          "2024-06-10T00:00:00",
          "2024-06-11T00:00:00",
          "2024-06-12T00:00:00",
          "2024-06-13T00:00:00",
          "2024-06-14T00:00:00",
          "2024-06-18T00:00:00",
          "2024-06-19T00:00:00",
          "2024-06-20T00:00:00",
          "2024-06-21T00:00:00",
          "2024-06-24T00:00:00",
          "2024-06-25T00:00:00",
          "2024-06-26T00:00:00",
          "2024-06-27T00:00:00",
          "2024-06-28T00:00:00",
          "2024-07-01T00:00:00",
          "2024-07-02T00:00:00",
          "2024-07-03T00:00:00",
          "2024-07-04T00:00:00",
          "2024-07-05T00:00:00",
          "2024-07-08T00:00:00",
          "2024-07-09T00:00:00",
          "2024-07-10T00:00:00",
          "2024-07-11T00:00:00",
          "2024-07-12T00:00:00",
          "2024-07-15T00:00:00",
          "2024-07-16T00:00:00",
          "2024-07-18T00:00:00",
          "2024-07-19T00:00:00",
          "2024-07-22T00:00:00",
          "2024-07-23T00:00:00",
          "2024-07-24T00:00:00",
          "2024-07-25T00:00:00",
          "2024-07-26T00:00:00",
          "2024-07-29T00:00:00",
          "2024-07-30T00:00:00",
          "2024-07-31T00:00:00",
          "2024-08-01T00:00:00",
          "2024-08-02T00:00:00",
          "2024-08-05T00:00:00",
          "2024-08-06T00:00:00",
          "2024-08-07T00:00:00",
          "2024-08-08T00:00:00",
          "2024-08-09T00:00:00",
          "2024-08-12T00:00:00",
          "2024-08-13T00:00:00",
          "2024-08-14T00:00:00",
          "2024-08-16T00:00:00",
          "2024-08-19T00:00:00",
          "2024-08-20T00:00:00",
          "2024-08-21T00:00:00",
          "2024-08-22T00:00:00",
          "2024-08-23T00:00:00"
         ],
         "xaxis": "x",
         "y": [
          990.6529855052363,
          964.2424714573443,
          973.7414345927067,
          967.7395827033608,
          966.4853287414095,
          958.2938532025806,
          960.7191318809499,
          979.6048244600864,
          983.1654796146438,
          985.8506065896304,
          986.6044153986135,
          993.3216417414237,
          1009.7720629343294,
          1015.0003865986514,
          1018.6482321749381,
          1021.3617767775314,
          1022.537402681829,
          1030.4574486223569,
          1029.9263154867908,
          1036.4106205139715,
          1036.3265679413676,
          1025.3958380543188,
          1025.4181744178875,
          1019.1279490405614,
          1017.6186485448479,
          1022.8638803592748,
          1023.0039732911309,
          1029.5270515559998,
          1034.8326105697274,
          1040.9313597341836,
          1044.1706525186873,
          1043.7305430321328,
          1046.18536322478,
          1043.8477752057845,
          1039.1246708309332,
          1029.1601307897704,
          1033.589254512985,
          1018.4026522341741,
          1028.4671064467068,
          1025.1063484668723,
          1032.9494634411922,
          1041.7772942750034,
          1048.6523606854287,
          1053.8616483518767,
          1067.267924837849,
          1070.3266879954986,
          1072.3556545774704,
          1071.645965598908,
          1072.3498280082902,
          1067.673205864356,
          1065.5925631490043,
          1055.3944714281918,
          1062.1802469836568,
          1088.2457939697495,
          1047.20428262146,
          1041.8106676793295,
          1062.4831194539286,
          1075.89927558151,
          1075.9306559010076,
          1082.8103310424804,
          1091.3770812242424,
          1099.4808770854968,
          1102.5056460893431,
          1108.8345110349615,
          1104.8751448218786,
          1109.5006799522466,
          1107.858330633893,
          1105.5633841711724,
          1105.906448284244,
          1107.6491520170991,
          1109.813921447692,
          1115.2452879620023,
          1118.0414334621148,
          1120.2312042358137,
          1127.2478869611527,
          1133.0671397799601,
          1141.149895741662,
          1144.9921255529698,
          1148.0147657886569,
          1146.3934962426176,
          1151.3520468772113,
          1150.2350970874147,
          1158.8404148636748,
          1160.8414326593947,
          1157.275559142919,
          1137.3024176302722,
          1139.990245105513,
          1131.0230925101323,
          1133.655994674317,
          1129.836668565574,
          1142.8138965952426,
          1144.9125931215672,
          1147.8180691584098,
          1151.21641621025,
          1155.2085991143451,
          1144.2479451051518,
          1110.391416826416,
          1101.9523232869856,
          1120.9317004395687,
          1113.8324810994652,
          1126.601394491167,
          1127.1307045699264,
          1121.7736780042565,
          1120.516580001981,
          1137.0647384007025,
          1144.7280245225982,
          1151.6622671781058,
          1152.8546816573958,
          1155.9188523961943,
          1152.8571462479958
         ],
         "yaxis": "y"
        },
        {
         "hovertemplate": "variable=Min CVaR<br>index=%{x}<br>value=%{y}<extra></extra>",
         "legendgroup": "Min CVaR",
         "line": {
          "color": "#00cc96",
          "dash": "solid"
         },
         "marker": {
          "symbol": "circle"
         },
         "mode": "lines",
         "name": "Min CVaR",
         "orientation": "v",
         "showlegend": true,
         "type": "scatter",
         "x": [
          "2024-03-12T00:00:00",
          "2024-03-13T00:00:00",
          "2024-03-14T00:00:00",
          "2024-03-15T00:00:00",
          "2024-03-18T00:00:00",
          "2024-03-19T00:00:00",
          "2024-03-20T00:00:00",
          "2024-03-21T00:00:00",
          "2024-03-22T00:00:00",
          "2024-03-26T00:00:00",
          "2024-03-27T00:00:00",
          "2024-03-28T00:00:00",
          "2024-04-01T00:00:00",
          "2024-04-02T00:00:00",
          "2024-04-03T00:00:00",
          "2024-04-04T00:00:00",
          "2024-04-05T00:00:00",
          "2024-04-08T00:00:00",
          "2024-04-09T00:00:00",
          "2024-04-10T00:00:00",
          "2024-04-12T00:00:00",
          "2024-04-15T00:00:00",
          "2024-04-16T00:00:00",
          "2024-04-18T00:00:00",
          "2024-04-19T00:00:00",
          "2024-04-22T00:00:00",
          "2024-04-23T00:00:00",
          "2024-04-24T00:00:00",
          "2024-04-25T00:00:00",
          "2024-04-26T00:00:00",
          "2024-04-29T00:00:00",
          "2024-04-30T00:00:00",
          "2024-05-02T00:00:00",
          "2024-05-03T00:00:00",
          "2024-05-06T00:00:00",
          "2024-05-07T00:00:00",
          "2024-05-08T00:00:00",
          "2024-05-09T00:00:00",
          "2024-05-10T00:00:00",
          "2024-05-13T00:00:00",
          "2024-05-14T00:00:00",
          "2024-05-15T00:00:00",
          "2024-05-16T00:00:00",
          "2024-05-17T00:00:00",
          "2024-05-21T00:00:00",
          "2024-05-22T00:00:00",
          "2024-05-23T00:00:00",
          "2024-05-24T00:00:00",
          "2024-05-27T00:00:00",
          "2024-05-28T00:00:00",
          "2024-05-29T00:00:00",
          "2024-05-30T00:00:00",
          "2024-05-31T00:00:00",
          "2024-06-03T00:00:00",
          "2024-06-04T00:00:00",
          "2024-06-05T00:00:00",
          "2024-06-06T00:00:00",
          "2024-06-07T00:00:00",
          "2024-06-10T00:00:00",
          "2024-06-11T00:00:00",
          "2024-06-12T00:00:00",
          "2024-06-13T00:00:00",
          "2024-06-14T00:00:00",
          "2024-06-18T00:00:00",
          "2024-06-19T00:00:00",
          "2024-06-20T00:00:00",
          "2024-06-21T00:00:00",
          "2024-06-24T00:00:00",
          "2024-06-25T00:00:00",
          "2024-06-26T00:00:00",
          "2024-06-27T00:00:00",
          "2024-06-28T00:00:00",
          "2024-07-01T00:00:00",
          "2024-07-02T00:00:00",
          "2024-07-03T00:00:00",
          "2024-07-04T00:00:00",
          "2024-07-05T00:00:00",
          "2024-07-08T00:00:00",
          "2024-07-09T00:00:00",
          "2024-07-10T00:00:00",
          "2024-07-11T00:00:00",
          "2024-07-12T00:00:00",
          "2024-07-15T00:00:00",
          "2024-07-16T00:00:00",
          "2024-07-18T00:00:00",
          "2024-07-19T00:00:00",
          "2024-07-22T00:00:00",
          "2024-07-23T00:00:00",
          "2024-07-24T00:00:00",
          "2024-07-25T00:00:00",
          "2024-07-26T00:00:00",
          "2024-07-29T00:00:00",
          "2024-07-30T00:00:00",
          "2024-07-31T00:00:00",
          "2024-08-01T00:00:00",
          "2024-08-02T00:00:00",
          "2024-08-05T00:00:00",
          "2024-08-06T00:00:00",
          "2024-08-07T00:00:00",
          "2024-08-08T00:00:00",
          "2024-08-09T00:00:00",
          "2024-08-12T00:00:00",
          "2024-08-13T00:00:00",
          "2024-08-14T00:00:00",
          "2024-08-16T00:00:00",
          "2024-08-19T00:00:00",
          "2024-08-20T00:00:00",
          "2024-08-21T00:00:00",
          "2024-08-22T00:00:00",
          "2024-08-23T00:00:00"
         ],
         "xaxis": "x",
         "y": [
          996.0504432479572,
          981.0676980382691,
          988.4139905493337,
          983.232902013762,
          980.6126889950825,
          977.3617137308722,
          979.7323460716759,
          997.193208930206,
          993.4191879443174,
          997.4170693908104,
          997.0338693111869,
          1003.5802311916786,
          1024.8819198838041,
          1028.661856888527,
          1030.5927889545455,
          1035.1341066427485,
          1033.4107204340999,
          1047.827139440316,
          1050.176400223285,
          1053.9628627843801,
          1064.2202722663562,
          1052.7959780226715,
          1056.5460957682972,
          1052.8869208457513,
          1054.212707039429,
          1052.5753082218916,
          1039.7288736133382,
          1047.2375852592681,
          1050.8884821642125,
          1058.1135361771837,
          1060.1114617752023,
          1056.133978305552,
          1056.6961825751785,
          1052.080276213571,
          1052.5333636588916,
          1048.8664035061108,
          1049.6870902494559,
          1041.1776647833447,
          1059.307874225831,
          1051.606996980426,
          1054.8635536027612,
          1063.216622743419,
          1069.6726092740523,
          1071.0761487033922,
          1082.137103131195,
          1083.9410990333738,
          1077.9908637380001,
          1071.2371824257034,
          1072.955085335947,
          1072.4297289751075,
          1071.4807222168367,
          1063.1643298450301,
          1070.4554832199096,
          1077.8396734496287,
          1053.9766254981866,
          1057.3686702965013,
          1073.783494289879,
          1076.7541182926375,
          1067.8159601746793,
          1072.6957970595822,
          1077.9779869866495,
          1081.5464339059943,
          1083.4477123719278,
          1084.075366863229,
          1085.8071150896274,
          1090.617657914573,
          1093.237945713783,
          1084.3163568551702,
          1085.8597675897324,
          1085.39485041298,
          1085.7791129936975,
          1090.2531380626301,
          1089.769051582897,
          1092.7205296005227,
          1099.3369095902403,
          1103.6070108578529,
          1108.730135491742,
          1111.9556200221443,
          1112.876249051773,
          1113.8642215411471,
          1117.5669306200887,
          1117.346523256088,
          1122.6876732608462,
          1127.6041446479182,
          1131.0235563807216,
          1117.4069475641252,
          1114.619961076555,
          1095.2112385226121,
          1089.1472676433484,
          1083.7875767185374,
          1095.6965816515055,
          1085.8934660569798,
          1082.1812992090015,
          1086.867633408345,
          1093.5227424683205,
          1091.0408443968417,
          1065.2888146731275,
          1061.8345611663021,
          1066.7202336707965,
          1061.7255396616408,
          1073.755710689728,
          1076.7351818889424,
          1077.7979269287346,
          1080.6453418979986,
          1088.4796853692253,
          1098.4533113207203,
          1105.6696278994577,
          1103.2436795970932,
          1104.8068329045357,
          1101.0730535142159
         ],
         "yaxis": "y"
        },
        {
         "hovertemplate": "variable=Hierarchical Clustering<br>index=%{x}<br>value=%{y}<extra></extra>",
         "legendgroup": "Hierarchical Clustering",
         "line": {
          "color": "#ab63fa",
          "dash": "solid"
         },
         "marker": {
          "symbol": "circle"
         },
         "mode": "lines",
         "name": "Hierarchical Clustering",
         "orientation": "v",
         "showlegend": true,
         "type": "scatter",
         "x": [
          "2024-03-12T00:00:00",
          "2024-03-13T00:00:00",
          "2024-03-14T00:00:00",
          "2024-03-15T00:00:00",
          "2024-03-18T00:00:00",
          "2024-03-19T00:00:00",
          "2024-03-20T00:00:00",
          "2024-03-21T00:00:00",
          "2024-03-22T00:00:00",
          "2024-03-26T00:00:00",
          "2024-03-27T00:00:00",
          "2024-03-28T00:00:00",
          "2024-04-01T00:00:00",
          "2024-04-02T00:00:00",
          "2024-04-03T00:00:00",
          "2024-04-04T00:00:00",
          "2024-04-05T00:00:00",
          "2024-04-08T00:00:00",
          "2024-04-09T00:00:00",
          "2024-04-10T00:00:00",
          "2024-04-12T00:00:00",
          "2024-04-15T00:00:00",
          "2024-04-16T00:00:00",
          "2024-04-18T00:00:00",
          "2024-04-19T00:00:00",
          "2024-04-22T00:00:00",
          "2024-04-23T00:00:00",
          "2024-04-24T00:00:00",
          "2024-04-25T00:00:00",
          "2024-04-26T00:00:00",
          "2024-04-29T00:00:00",
          "2024-04-30T00:00:00",
          "2024-05-02T00:00:00",
          "2024-05-03T00:00:00",
          "2024-05-06T00:00:00",
          "2024-05-07T00:00:00",
          "2024-05-08T00:00:00",
          "2024-05-09T00:00:00",
          "2024-05-10T00:00:00",
          "2024-05-13T00:00:00",
          "2024-05-14T00:00:00",
          "2024-05-15T00:00:00",
          "2024-05-16T00:00:00",
          "2024-05-17T00:00:00",
          "2024-05-21T00:00:00",
          "2024-05-22T00:00:00",
          "2024-05-23T00:00:00",
          "2024-05-24T00:00:00",
          "2024-05-27T00:00:00",
          "2024-05-28T00:00:00",
          "2024-05-29T00:00:00",
          "2024-05-30T00:00:00",
          "2024-05-31T00:00:00",
          "2024-06-03T00:00:00",
          "2024-06-04T00:00:00",
          "2024-06-05T00:00:00",
          "2024-06-06T00:00:00",
          "2024-06-07T00:00:00",
          "2024-06-10T00:00:00",
          "2024-06-11T00:00:00",
          "2024-06-12T00:00:00",
          "2024-06-13T00:00:00",
          "2024-06-14T00:00:00",
          "2024-06-18T00:00:00",
          "2024-06-19T00:00:00",
          "2024-06-20T00:00:00",
          "2024-06-21T00:00:00",
          "2024-06-24T00:00:00",
          "2024-06-25T00:00:00",
          "2024-06-26T00:00:00",
          "2024-06-27T00:00:00",
          "2024-06-28T00:00:00",
          "2024-07-01T00:00:00",
          "2024-07-02T00:00:00",
          "2024-07-03T00:00:00",
          "2024-07-04T00:00:00",
          "2024-07-05T00:00:00",
          "2024-07-08T00:00:00",
          "2024-07-09T00:00:00",
          "2024-07-10T00:00:00",
          "2024-07-11T00:00:00",
          "2024-07-12T00:00:00",
          "2024-07-15T00:00:00",
          "2024-07-16T00:00:00",
          "2024-07-18T00:00:00",
          "2024-07-19T00:00:00",
          "2024-07-22T00:00:00",
          "2024-07-23T00:00:00",
          "2024-07-24T00:00:00",
          "2024-07-25T00:00:00",
          "2024-07-26T00:00:00",
          "2024-07-29T00:00:00",
          "2024-07-30T00:00:00",
          "2024-07-31T00:00:00",
          "2024-08-01T00:00:00",
          "2024-08-02T00:00:00",
          "2024-08-05T00:00:00",
          "2024-08-06T00:00:00",
          "2024-08-07T00:00:00",
          "2024-08-08T00:00:00",
          "2024-08-09T00:00:00",
          "2024-08-12T00:00:00",
          "2024-08-13T00:00:00",
          "2024-08-14T00:00:00",
          "2024-08-16T00:00:00",
          "2024-08-19T00:00:00",
          "2024-08-20T00:00:00",
          "2024-08-21T00:00:00",
          "2024-08-22T00:00:00",
          "2024-08-23T00:00:00"
         ],
         "xaxis": "x",
         "y": [
          991.3395702593384,
          965.6170118170115,
          974.8458753128334,
          968.5687579342818,
          967.3649534354882,
          960.4847133197851,
          963.2174893635222,
          982.7165037604823,
          984.982075256139,
          987.9421992436481,
          988.1816672134772,
          994.9559560953767,
          1011.9332774386219,
          1016.561973384391,
          1019.8728023495196,
          1022.8295568277266,
          1023.2304840728445,
          1032.1407576639244,
          1031.9309281633052,
          1038.2099878721506,
          1040.0097714918284,
          1030.0589130019246,
          1030.3158749138036,
          1023.5000313710357,
          1021.603302619591,
          1024.9796981349268,
          1022.9960014774932,
          1030.6525600194577,
          1035.116642455034,
          1042.3048375416558,
          1044.9243435230817,
          1044.230777798434,
          1046.4021411213596,
          1044.9914396527884,
          1041.3803044138701,
          1032.120603830671,
          1036.484410955665,
          1022.2047293509935,
          1034.2566598472815,
          1029.7675038292534,
          1036.7522756528917,
          1046.566151472055,
          1053.5836961346097,
          1057.920720369901,
          1073.451478303178,
          1076.8140987224076,
          1077.1637213517754,
          1075.4281045768998,
          1075.6873268020518,
          1071.151880413655,
          1069.5680900867906,
          1059.6727847437257,
          1066.5472461860193,
          1091.5791605196464,
          1049.2049428936702,
          1044.7175304007644,
          1065.8445180335088,
          1077.5768110771833,
          1076.3751513189775,
          1083.2683723902855,
          1092.3069521958707,
          1099.8668553104965,
          1102.8490841381654,
          1109.6391652618145,
          1106.2677334084105,
          1110.5270112854846,
          1108.9443138944507,
          1105.8469769342696,
          1105.2285298969432,
          1106.9826261593932,
          1109.172512949121,
          1114.714372423957,
          1115.7995266001437,
          1118.3596691018472,
          1126.1946179028478,
          1132.4283492054037,
          1140.8210976848109,
          1145.836705230058,
          1148.5838986181625,
          1147.8392125556127,
          1153.594703763821,
          1151.5792132585805,
          1160.6839787787112,
          1162.4677527142153,
          1158.8474740378745,
          1137.9105730868835,
          1140.2748414052674,
          1129.4098899760465,
          1130.640329346187,
          1126.1584187301899,
          1138.2212760067328,
          1138.6129128156729,
          1140.7687870109269,
          1144.0232341532358,
          1150.6445249912044,
          1139.3833390149568,
          1103.8551182347294,
          1097.6043640272694,
          1115.9687854351414,
          1107.8943680279754,
          1122.4435995058043,
          1123.0387077314797,
          1119.0482358900204,
          1118.7049988598176,
          1134.5204193625877,
          1142.3157184863444,
          1149.2893796554572,
          1149.447008269174,
          1151.704237440806,
          1148.3559183963634
         ],
         "yaxis": "y"
        },
        {
         "hovertemplate": "variable=NIFTY50<br>index=%{x}<br>value=%{y}<extra></extra>",
         "legendgroup": "NIFTY50",
         "line": {
          "color": "#FFA15A",
          "dash": "solid"
         },
         "marker": {
          "symbol": "circle"
         },
         "mode": "lines",
         "name": "NIFTY50",
         "orientation": "v",
         "showlegend": true,
         "type": "scatter",
         "x": [
          "2024-03-12T00:00:00",
          "2024-03-13T00:00:00",
          "2024-03-14T00:00:00",
          "2024-03-15T00:00:00",
          "2024-03-18T00:00:00",
          "2024-03-19T00:00:00",
          "2024-03-20T00:00:00",
          "2024-03-21T00:00:00",
          "2024-03-22T00:00:00",
          "2024-03-26T00:00:00",
          "2024-03-27T00:00:00",
          "2024-03-28T00:00:00",
          "2024-04-01T00:00:00",
          "2024-04-02T00:00:00",
          "2024-04-03T00:00:00",
          "2024-04-04T00:00:00",
          "2024-04-05T00:00:00",
          "2024-04-08T00:00:00",
          "2024-04-09T00:00:00",
          "2024-04-10T00:00:00",
          "2024-04-12T00:00:00",
          "2024-04-15T00:00:00",
          "2024-04-16T00:00:00",
          "2024-04-18T00:00:00",
          "2024-04-19T00:00:00",
          "2024-04-22T00:00:00",
          "2024-04-23T00:00:00",
          "2024-04-24T00:00:00",
          "2024-04-25T00:00:00",
          "2024-04-26T00:00:00",
          "2024-04-29T00:00:00",
          "2024-04-30T00:00:00",
          "2024-05-02T00:00:00",
          "2024-05-03T00:00:00",
          "2024-05-06T00:00:00",
          "2024-05-07T00:00:00",
          "2024-05-08T00:00:00",
          "2024-05-09T00:00:00",
          "2024-05-10T00:00:00",
          "2024-05-13T00:00:00",
          "2024-05-14T00:00:00",
          "2024-05-15T00:00:00",
          "2024-05-16T00:00:00",
          "2024-05-17T00:00:00",
          "2024-05-21T00:00:00",
          "2024-05-22T00:00:00",
          "2024-05-23T00:00:00",
          "2024-05-24T00:00:00",
          "2024-05-27T00:00:00",
          "2024-05-28T00:00:00",
          "2024-05-29T00:00:00",
          "2024-05-30T00:00:00",
          "2024-05-31T00:00:00",
          "2024-06-03T00:00:00",
          "2024-06-04T00:00:00",
          "2024-06-05T00:00:00",
          "2024-06-06T00:00:00",
          "2024-06-07T00:00:00",
          "2024-06-10T00:00:00",
          "2024-06-11T00:00:00",
          "2024-06-12T00:00:00",
          "2024-06-13T00:00:00",
          "2024-06-14T00:00:00",
          "2024-06-18T00:00:00",
          "2024-06-19T00:00:00",
          "2024-06-20T00:00:00",
          "2024-06-21T00:00:00",
          "2024-06-24T00:00:00",
          "2024-06-25T00:00:00",
          "2024-06-26T00:00:00",
          "2024-06-27T00:00:00",
          "2024-06-28T00:00:00",
          "2024-07-01T00:00:00",
          "2024-07-02T00:00:00",
          "2024-07-03T00:00:00",
          "2024-07-04T00:00:00",
          "2024-07-05T00:00:00",
          "2024-07-08T00:00:00",
          "2024-07-09T00:00:00",
          "2024-07-10T00:00:00",
          "2024-07-11T00:00:00",
          "2024-07-12T00:00:00",
          "2024-07-15T00:00:00",
          "2024-07-16T00:00:00",
          "2024-07-18T00:00:00",
          "2024-07-19T00:00:00",
          "2024-07-22T00:00:00",
          "2024-07-23T00:00:00",
          "2024-07-24T00:00:00",
          "2024-07-25T00:00:00",
          "2024-07-26T00:00:00",
          "2024-07-29T00:00:00",
          "2024-07-30T00:00:00",
          "2024-07-31T00:00:00",
          "2024-08-01T00:00:00",
          "2024-08-02T00:00:00",
          "2024-08-05T00:00:00",
          "2024-08-06T00:00:00",
          "2024-08-07T00:00:00",
          "2024-08-08T00:00:00",
          "2024-08-09T00:00:00",
          "2024-08-12T00:00:00",
          "2024-08-13T00:00:00",
          "2024-08-14T00:00:00",
          "2024-08-16T00:00:00",
          "2024-08-19T00:00:00",
          "2024-08-20T00:00:00",
          "2024-08-21T00:00:00",
          "2024-08-22T00:00:00",
          "2024-08-23T00:00:00"
         ],
         "xaxis": "x",
         "y": [
          1000.136518866846,
          985.0017276939234,
          991.6713871060248,
          986.1502877697023,
          987.5988220372061,
          976.9305853598427,
          977.9000354809125,
          985.6398069075748,
          989.4369729298215,
          985.3151701146643,
          990.641504866447,
          999.7425294401055,
          null,
          1005.4024215001209,
          1004.5673038450831,
          1008.149502939266,
          1008.106911851403,
          1014.9400265883828,
          1013.8854817476197,
          1018.8580568476453,
          1008.362196010483,
          997.3066165648545,
          991.7273589668713,
          984.9189068310768,
          991.6870417358551,
          1000.1679155825395,
          1001.5828667335352,
          1003.1232298352404,
          1010.6435740761776,
          1003.9090222879072,
          1013.9146046064662,
          1012.1883974355437,
          1014.1294840784974,
          1006.4121013961735,
          1004.9277101553149,
          998.6499412251724,
          998.6499412251724,
          983.2017076315086,
          987.5764332928663,
          989.763883579578,
          994.8595093174337,
          994.0849112369361,
          1003.188122211409,
          1005.97552088157,
          1008.7943162674246,
          1011.8727686139879,
          1028.4337053100755,
          1027.9612678221172,
          1026.8574852350157,
          1024.8738949602314,
          1016.6594121887638,
          1006.9852882336556,
          1008.8681291589158,
          1041.6990363307216,
          979.9329509580665,
          1012.882448510041,
          1021.8849975910223,
          1042.8744454085002,
          1041.4885296603186,
          1041.7415399625518,
          1044.3430945634955,
          1047.7439973021549,
          1050.730620814517,
          1054.8636180018434,
          1052.9874237350584,
          1055.2710756576,
          1052.3202216625605,
          1053.9657943714506,
          1062.1802771429184,
          1068.784956722818,
          1076.6523265010037,
          1075.1343521436372,
          null,
          null,
          null,
          1088.1892639499129,
          1089.1609004717968,
          1089.0131872327813,
          1094.0573013674516,
          1089.1877494737967,
          1088.8071408200396,
          1097.14476168537,
          1100.9306458794151,
          1102.1083288140408,
          1110.5197625708624,
          1098.432114484842,
          1097.4626643637723,
          1096.1104191881313,
          1093.1752198229221,
          1092.8438489155037,
          1112.04219718589,
          1112.0981690467365,
          1113.0475042803146,
          1117.2498541014716,
          1119.9253090499392,
          1106.7964968961394,
          1077.1493391341148,
          1074.3261709466317,
          1087.9810311363572,
          1079.898694430107,
          1091.1154553437673,
          1090.1975168258828,
          1080.8837991810074,
          1081.0964922522244,
          1098.8910837437843,
          1100.3015746371188,
          1105.9524587257793,
          1109.1473150516968,
          1110.996660316482,
          1111.5183355507786
         ],
         "yaxis": "y"
        }
       ],
       "layout": {
        "legend": {
         "title": {
          "text": "Portfolios"
         },
         "tracegroupgap": 0
        },
        "margin": {
         "t": 60
        },
        "template": {
         "data": {
          "bar": [
           {
            "error_x": {
             "color": "#2a3f5f"
            },
            "error_y": {
             "color": "#2a3f5f"
            },
            "marker": {
             "line": {
              "color": "#E5ECF6",
              "width": 0.5
             },
             "pattern": {
              "fillmode": "overlay",
              "size": 10,
              "solidity": 0.2
             }
            },
            "type": "bar"
           }
          ],
          "barpolar": [
           {
            "marker": {
             "line": {
              "color": "#E5ECF6",
              "width": 0.5
             },
             "pattern": {
              "fillmode": "overlay",
              "size": 10,
              "solidity": 0.2
             }
            },
            "type": "barpolar"
           }
          ],
          "carpet": [
           {
            "aaxis": {
             "endlinecolor": "#2a3f5f",
             "gridcolor": "white",
             "linecolor": "white",
             "minorgridcolor": "white",
             "startlinecolor": "#2a3f5f"
            },
            "baxis": {
             "endlinecolor": "#2a3f5f",
             "gridcolor": "white",
             "linecolor": "white",
             "minorgridcolor": "white",
             "startlinecolor": "#2a3f5f"
            },
            "type": "carpet"
           }
          ],
          "choropleth": [
           {
            "colorbar": {
             "outlinewidth": 0,
             "ticks": ""
            },
            "type": "choropleth"
           }
          ],
          "contour": [
           {
            "colorbar": {
             "outlinewidth": 0,
             "ticks": ""
            },
            "colorscale": [
             [
              0,
              "#0d0887"
             ],
             [
              0.1111111111111111,
              "#46039f"
             ],
             [
              0.2222222222222222,
              "#7201a8"
             ],
             [
              0.3333333333333333,
              "#9c179e"
             ],
             [
              0.4444444444444444,
              "#bd3786"
             ],
             [
              0.5555555555555556,
              "#d8576b"
             ],
             [
              0.6666666666666666,
              "#ed7953"
             ],
             [
              0.7777777777777778,
              "#fb9f3a"
             ],
             [
              0.8888888888888888,
              "#fdca26"
             ],
             [
              1,
              "#f0f921"
             ]
            ],
            "type": "contour"
           }
          ],
          "contourcarpet": [
           {
            "colorbar": {
             "outlinewidth": 0,
             "ticks": ""
            },
            "type": "contourcarpet"
           }
          ],
          "heatmap": [
           {
            "colorbar": {
             "outlinewidth": 0,
             "ticks": ""
            },
            "colorscale": [
             [
              0,
              "#0d0887"
             ],
             [
              0.1111111111111111,
              "#46039f"
             ],
             [
              0.2222222222222222,
              "#7201a8"
             ],
             [
              0.3333333333333333,
              "#9c179e"
             ],
             [
              0.4444444444444444,
              "#bd3786"
             ],
             [
              0.5555555555555556,
              "#d8576b"
             ],
             [
              0.6666666666666666,
              "#ed7953"
             ],
             [
              0.7777777777777778,
              "#fb9f3a"
             ],
             [
              0.8888888888888888,
              "#fdca26"
             ],
             [
              1,
              "#f0f921"
             ]
            ],
            "type": "heatmap"
           }
          ],
          "heatmapgl": [
           {
            "colorbar": {
             "outlinewidth": 0,
             "ticks": ""
            },
            "colorscale": [
             [
              0,
              "#0d0887"
             ],
             [
              0.1111111111111111,
              "#46039f"
             ],
             [
              0.2222222222222222,
              "#7201a8"
             ],
             [
              0.3333333333333333,
              "#9c179e"
             ],
             [
              0.4444444444444444,
              "#bd3786"
             ],
             [
              0.5555555555555556,
              "#d8576b"
             ],
             [
              0.6666666666666666,
              "#ed7953"
             ],
             [
              0.7777777777777778,
              "#fb9f3a"
             ],
             [
              0.8888888888888888,
              "#fdca26"
             ],
             [
              1,
              "#f0f921"
             ]
            ],
            "type": "heatmapgl"
           }
          ],
          "histogram": [
           {
            "marker": {
             "pattern": {
              "fillmode": "overlay",
              "size": 10,
              "solidity": 0.2
             }
            },
            "type": "histogram"
           }
          ],
          "histogram2d": [
           {
            "colorbar": {
             "outlinewidth": 0,
             "ticks": ""
            },
            "colorscale": [
             [
              0,
              "#0d0887"
             ],
             [
              0.1111111111111111,
              "#46039f"
             ],
             [
              0.2222222222222222,
              "#7201a8"
             ],
             [
              0.3333333333333333,
              "#9c179e"
             ],
             [
              0.4444444444444444,
              "#bd3786"
             ],
             [
              0.5555555555555556,
              "#d8576b"
             ],
             [
              0.6666666666666666,
              "#ed7953"
             ],
             [
              0.7777777777777778,
              "#fb9f3a"
             ],
             [
              0.8888888888888888,
              "#fdca26"
             ],
             [
              1,
              "#f0f921"
             ]
            ],
            "type": "histogram2d"
           }
          ],
          "histogram2dcontour": [
           {
            "colorbar": {
             "outlinewidth": 0,
             "ticks": ""
            },
            "colorscale": [
             [
              0,
              "#0d0887"
             ],
             [
              0.1111111111111111,
              "#46039f"
             ],
             [
              0.2222222222222222,
              "#7201a8"
             ],
             [
              0.3333333333333333,
              "#9c179e"
             ],
             [
              0.4444444444444444,
              "#bd3786"
             ],
             [
              0.5555555555555556,
              "#d8576b"
             ],
             [
              0.6666666666666666,
              "#ed7953"
             ],
             [
              0.7777777777777778,
              "#fb9f3a"
             ],
             [
              0.8888888888888888,
              "#fdca26"
             ],
             [
              1,
              "#f0f921"
             ]
            ],
            "type": "histogram2dcontour"
           }
          ],
          "mesh3d": [
           {
            "colorbar": {
             "outlinewidth": 0,
             "ticks": ""
            },
            "type": "mesh3d"
           }
          ],
          "parcoords": [
           {
            "line": {
             "colorbar": {
              "outlinewidth": 0,
              "ticks": ""
             }
            },
            "type": "parcoords"
           }
          ],
          "pie": [
           {
            "automargin": true,
            "type": "pie"
           }
          ],
          "scatter": [
           {
            "fillpattern": {
             "fillmode": "overlay",
             "size": 10,
             "solidity": 0.2
            },
            "type": "scatter"
           }
          ],
          "scatter3d": [
           {
            "line": {
             "colorbar": {
              "outlinewidth": 0,
              "ticks": ""
             }
            },
            "marker": {
             "colorbar": {
              "outlinewidth": 0,
              "ticks": ""
             }
            },
            "type": "scatter3d"
           }
          ],
          "scattercarpet": [
           {
            "marker": {
             "colorbar": {
              "outlinewidth": 0,
              "ticks": ""
             }
            },
            "type": "scattercarpet"
           }
          ],
          "scattergeo": [
           {
            "marker": {
             "colorbar": {
              "outlinewidth": 0,
              "ticks": ""
             }
            },
            "type": "scattergeo"
           }
          ],
          "scattergl": [
           {
            "marker": {
             "colorbar": {
              "outlinewidth": 0,
              "ticks": ""
             }
            },
            "type": "scattergl"
           }
          ],
          "scattermapbox": [
           {
            "marker": {
             "colorbar": {
              "outlinewidth": 0,
              "ticks": ""
             }
            },
            "type": "scattermapbox"
           }
          ],
          "scatterpolar": [
           {
            "marker": {
             "colorbar": {
              "outlinewidth": 0,
              "ticks": ""
             }
            },
            "type": "scatterpolar"
           }
          ],
          "scatterpolargl": [
           {
            "marker": {
             "colorbar": {
              "outlinewidth": 0,
              "ticks": ""
             }
            },
            "type": "scatterpolargl"
           }
          ],
          "scatterternary": [
           {
            "marker": {
             "colorbar": {
              "outlinewidth": 0,
              "ticks": ""
             }
            },
            "type": "scatterternary"
           }
          ],
          "surface": [
           {
            "colorbar": {
             "outlinewidth": 0,
             "ticks": ""
            },
            "colorscale": [
             [
              0,
              "#0d0887"
             ],
             [
              0.1111111111111111,
              "#46039f"
             ],
             [
              0.2222222222222222,
              "#7201a8"
             ],
             [
              0.3333333333333333,
              "#9c179e"
             ],
             [
              0.4444444444444444,
              "#bd3786"
             ],
             [
              0.5555555555555556,
              "#d8576b"
             ],
             [
              0.6666666666666666,
              "#ed7953"
             ],
             [
              0.7777777777777778,
              "#fb9f3a"
             ],
             [
              0.8888888888888888,
              "#fdca26"
             ],
             [
              1,
              "#f0f921"
             ]
            ],
            "type": "surface"
           }
          ],
          "table": [
           {
            "cells": {
             "fill": {
              "color": "#EBF0F8"
             },
             "line": {
              "color": "white"
             }
            },
            "header": {
             "fill": {
              "color": "#C8D4E3"
             },
             "line": {
              "color": "white"
             }
            },
            "type": "table"
           }
          ]
         },
         "layout": {
          "annotationdefaults": {
           "arrowcolor": "#2a3f5f",
           "arrowhead": 0,
           "arrowwidth": 1
          },
          "autotypenumbers": "strict",
          "coloraxis": {
           "colorbar": {
            "outlinewidth": 0,
            "ticks": ""
           }
          },
          "colorscale": {
           "diverging": [
            [
             0,
             "#8e0152"
            ],
            [
             0.1,
             "#c51b7d"
            ],
            [
             0.2,
             "#de77ae"
            ],
            [
             0.3,
             "#f1b6da"
            ],
            [
             0.4,
             "#fde0ef"
            ],
            [
             0.5,
             "#f7f7f7"
            ],
            [
             0.6,
             "#e6f5d0"
            ],
            [
             0.7,
             "#b8e186"
            ],
            [
             0.8,
             "#7fbc41"
            ],
            [
             0.9,
             "#4d9221"
            ],
            [
             1,
             "#276419"
            ]
           ],
           "sequential": [
            [
             0,
             "#0d0887"
            ],
            [
             0.1111111111111111,
             "#46039f"
            ],
            [
             0.2222222222222222,
             "#7201a8"
            ],
            [
             0.3333333333333333,
             "#9c179e"
            ],
            [
             0.4444444444444444,
             "#bd3786"
            ],
            [
             0.5555555555555556,
             "#d8576b"
            ],
            [
             0.6666666666666666,
             "#ed7953"
            ],
            [
             0.7777777777777778,
             "#fb9f3a"
            ],
            [
             0.8888888888888888,
             "#fdca26"
            ],
            [
             1,
             "#f0f921"
            ]
           ],
           "sequentialminus": [
            [
             0,
             "#0d0887"
            ],
            [
             0.1111111111111111,
             "#46039f"
            ],
            [
             0.2222222222222222,
             "#7201a8"
            ],
            [
             0.3333333333333333,
             "#9c179e"
            ],
            [
             0.4444444444444444,
             "#bd3786"
            ],
            [
             0.5555555555555556,
             "#d8576b"
            ],
            [
             0.6666666666666666,
             "#ed7953"
            ],
            [
             0.7777777777777778,
             "#fb9f3a"
            ],
            [
             0.8888888888888888,
             "#fdca26"
            ],
            [
             1,
             "#f0f921"
            ]
           ]
          },
          "colorway": [
           "#636efa",
           "#EF553B",
           "#00cc96",
           "#ab63fa",
           "#FFA15A",
           "#19d3f3",
           "#FF6692",
           "#B6E880",
           "#FF97FF",
           "#FECB52"
          ],
          "font": {
           "color": "#2a3f5f"
          },
          "geo": {
           "bgcolor": "white",
           "lakecolor": "white",
           "landcolor": "#E5ECF6",
           "showlakes": true,
           "showland": true,
           "subunitcolor": "white"
          },
          "hoverlabel": {
           "align": "left"
          },
          "hovermode": "closest",
          "mapbox": {
           "style": "light"
          },
          "paper_bgcolor": "white",
          "plot_bgcolor": "#E5ECF6",
          "polar": {
           "angularaxis": {
            "gridcolor": "white",
            "linecolor": "white",
            "ticks": ""
           },
           "bgcolor": "#E5ECF6",
           "radialaxis": {
            "gridcolor": "white",
            "linecolor": "white",
            "ticks": ""
           }
          },
          "scene": {
           "xaxis": {
            "backgroundcolor": "#E5ECF6",
            "gridcolor": "white",
            "gridwidth": 2,
            "linecolor": "white",
            "showbackground": true,
            "ticks": "",
            "zerolinecolor": "white"
           },
           "yaxis": {
            "backgroundcolor": "#E5ECF6",
            "gridcolor": "white",
            "gridwidth": 2,
            "linecolor": "white",
            "showbackground": true,
            "ticks": "",
            "zerolinecolor": "white"
           },
           "zaxis": {
            "backgroundcolor": "#E5ECF6",
            "gridcolor": "white",
            "gridwidth": 2,
            "linecolor": "white",
            "showbackground": true,
            "ticks": "",
            "zerolinecolor": "white"
           }
          },
          "shapedefaults": {
           "line": {
            "color": "#2a3f5f"
           }
          },
          "ternary": {
           "aaxis": {
            "gridcolor": "white",
            "linecolor": "white",
            "ticks": ""
           },
           "baxis": {
            "gridcolor": "white",
            "linecolor": "white",
            "ticks": ""
           },
           "bgcolor": "#E5ECF6",
           "caxis": {
            "gridcolor": "white",
            "linecolor": "white",
            "ticks": ""
           }
          },
          "title": {
           "x": 0.05
          },
          "xaxis": {
           "automargin": true,
           "gridcolor": "white",
           "linecolor": "white",
           "ticks": "",
           "title": {
            "standoff": 15
           },
           "zerolinecolor": "white",
           "zerolinewidth": 2
          },
          "yaxis": {
           "automargin": true,
           "gridcolor": "white",
           "linecolor": "white",
           "ticks": "",
           "title": {
            "standoff": 15
           },
           "zerolinecolor": "white",
           "zerolinewidth": 2
          }
         }
        },
        "title": {
         "text": "Cumulative Returns (compounded)"
        },
        "xaxis": {
         "anchor": "y",
         "domain": [
          0,
          1
         ],
         "title": {
          "text": "Observations"
         }
        },
        "yaxis": {
         "anchor": "x",
         "domain": [
          0,
          1
         ],
         "tickformat": ".0f",
         "title": {
          "text": "Cumulative Returns (rebased at 1000)"
         }
        }
       }
      }
     },
     "metadata": {},
     "output_type": "display_data"
    }
   ],
   "source": [
    "models = [model_equwt, model_minvar, model_mincvar, model_hier_cluster]\n",
    "pop = Population([m.predict(df_test) for m in models] + [benchmark])\n",
    "pop.set_portfolio_params(compounded=True)\n",
    "pop.plot_cumulative_returns()"
   ]
  },
  {
   "cell_type": "code",
   "execution_count": 36,
   "metadata": {},
   "outputs": [
    {
     "data": {
      "application/vnd.plotly.v1+json": {
       "config": {
        "plotlyServerURL": "https://plot.ly"
       },
       "data": [
        {
         "alignmentgroup": "True",
         "hovertemplate": "asset=CPSEETF.NS<br>index=%{x}<br>value=%{y}<extra></extra>",
         "legendgroup": "CPSEETF.NS",
         "marker": {
          "color": "#636efa",
          "pattern": {
           "shape": ""
          }
         },
         "name": "CPSEETF.NS",
         "offsetgroup": "CPSEETF.NS",
         "orientation": "v",
         "showlegend": true,
         "textposition": "auto",
         "type": "bar",
         "x": [
          "EqualWeighted",
          "InverseVolatility",
          "Min CVaR",
          "Hierarchical Clustering"
         ],
         "xaxis": "x",
         "y": [
          0.14285714285714285,
          0.10075737481096307,
          0,
          0.1533108005884498
         ],
         "yaxis": "y"
        },
        {
         "alignmentgroup": "True",
         "hovertemplate": "asset=MOM100.NS<br>index=%{x}<br>value=%{y}<extra></extra>",
         "legendgroup": "MOM100.NS",
         "marker": {
          "color": "#EF553B",
          "pattern": {
           "shape": ""
          }
         },
         "name": "MOM100.NS",
         "offsetgroup": "MOM100.NS",
         "orientation": "v",
         "showlegend": true,
         "textposition": "auto",
         "type": "bar",
         "x": [
          "EqualWeighted",
          "InverseVolatility",
          "Min CVaR",
          "Hierarchical Clustering"
         ],
         "xaxis": "x",
         "y": [
          0.14285714285714285,
          0.14596623857827004,
          0.04917115062326917,
          0.10909825318417092
         ],
         "yaxis": "y"
        },
        {
         "alignmentgroup": "True",
         "hovertemplate": "asset=ICICIB22.NS<br>index=%{x}<br>value=%{y}<extra></extra>",
         "legendgroup": "ICICIB22.NS",
         "marker": {
          "color": "#00cc96",
          "pattern": {
           "shape": ""
          }
         },
         "name": "ICICIB22.NS",
         "offsetgroup": "ICICIB22.NS",
         "orientation": "v",
         "showlegend": true,
         "textposition": "auto",
         "type": "bar",
         "x": [
          "EqualWeighted",
          "InverseVolatility",
          "Min CVaR",
          "Hierarchical Clustering"
         ],
         "xaxis": "x",
         "y": [
          0.14285714285714285,
          0.12720286187015312,
          0.14577816532499083,
          0.09835903256901601
         ],
         "yaxis": "y"
        },
        {
         "alignmentgroup": "True",
         "hovertemplate": "asset=MON100.NS<br>index=%{x}<br>value=%{y}<extra></extra>",
         "legendgroup": "MON100.NS",
         "marker": {
          "color": "#ab63fa",
          "pattern": {
           "shape": ""
          }
         },
         "name": "MON100.NS",
         "offsetgroup": "MON100.NS",
         "orientation": "v",
         "showlegend": true,
         "textposition": "auto",
         "type": "bar",
         "x": [
          "EqualWeighted",
          "InverseVolatility",
          "Min CVaR",
          "Hierarchical Clustering"
         ],
         "xaxis": "x",
         "y": [
          0.14285714285714285,
          0.12868089764389248,
          0.11617009587025534,
          0.17007461547116415
         ],
         "yaxis": "y"
        },
        {
         "alignmentgroup": "True",
         "hovertemplate": "asset=GOLDBEES.NS<br>index=%{x}<br>value=%{y}<extra></extra>",
         "legendgroup": "GOLDBEES.NS",
         "marker": {
          "color": "#FFA15A",
          "pattern": {
           "shape": ""
          }
         },
         "name": "GOLDBEES.NS",
         "offsetgroup": "GOLDBEES.NS",
         "orientation": "v",
         "showlegend": true,
         "textposition": "auto",
         "type": "bar",
         "x": [
          "EqualWeighted",
          "InverseVolatility",
          "Min CVaR",
          "Hierarchical Clustering"
         ],
         "xaxis": "x",
         "y": [
          0.14285714285714285,
          0.17808420941384437,
          0.5605042622171719,
          0.22950219800577626
         ],
         "yaxis": "y"
        },
        {
         "alignmentgroup": "True",
         "hovertemplate": "asset=NIFTYBEES.NS<br>index=%{x}<br>value=%{y}<extra></extra>",
         "legendgroup": "NIFTYBEES.NS",
         "marker": {
          "color": "#19d3f3",
          "pattern": {
           "shape": ""
          }
         },
         "name": "NIFTYBEES.NS",
         "offsetgroup": "NIFTYBEES.NS",
         "orientation": "v",
         "showlegend": true,
         "textposition": "auto",
         "type": "bar",
         "x": [
          "EqualWeighted",
          "InverseVolatility",
          "Min CVaR",
          "Hierarchical Clustering"
         ],
         "xaxis": "x",
         "y": [
          0.14285714285714285,
          0.18814910122696496,
          0.12837632320619022,
          0.14481278007028298
         ],
         "yaxis": "y"
        },
        {
         "alignmentgroup": "True",
         "hovertemplate": "asset=HDFCSML250.NS<br>index=%{x}<br>value=%{y}<extra></extra>",
         "legendgroup": "HDFCSML250.NS",
         "marker": {
          "color": "#FF6692",
          "pattern": {
           "shape": ""
          }
         },
         "name": "HDFCSML250.NS",
         "offsetgroup": "HDFCSML250.NS",
         "orientation": "v",
         "showlegend": true,
         "textposition": "auto",
         "type": "bar",
         "x": [
          "EqualWeighted",
          "InverseVolatility",
          "Min CVaR",
          "Hierarchical Clustering"
         ],
         "xaxis": "x",
         "y": [
          0.14285714285714285,
          0.13115931645591186,
          0,
          0.09484232011113984
         ],
         "yaxis": "y"
        }
       ],
       "layout": {
        "barmode": "relative",
        "legend": {
         "title": {
          "text": "asset"
         },
         "tracegroupgap": 0,
         "x": 1.15,
         "xanchor": "left",
         "y": 0.99,
         "yanchor": "top"
        },
        "margin": {
         "t": 60
        },
        "template": {
         "data": {
          "bar": [
           {
            "error_x": {
             "color": "#2a3f5f"
            },
            "error_y": {
             "color": "#2a3f5f"
            },
            "marker": {
             "line": {
              "color": "#E5ECF6",
              "width": 0.5
             },
             "pattern": {
              "fillmode": "overlay",
              "size": 10,
              "solidity": 0.2
             }
            },
            "type": "bar"
           }
          ],
          "barpolar": [
           {
            "marker": {
             "line": {
              "color": "#E5ECF6",
              "width": 0.5
             },
             "pattern": {
              "fillmode": "overlay",
              "size": 10,
              "solidity": 0.2
             }
            },
            "type": "barpolar"
           }
          ],
          "carpet": [
           {
            "aaxis": {
             "endlinecolor": "#2a3f5f",
             "gridcolor": "white",
             "linecolor": "white",
             "minorgridcolor": "white",
             "startlinecolor": "#2a3f5f"
            },
            "baxis": {
             "endlinecolor": "#2a3f5f",
             "gridcolor": "white",
             "linecolor": "white",
             "minorgridcolor": "white",
             "startlinecolor": "#2a3f5f"
            },
            "type": "carpet"
           }
          ],
          "choropleth": [
           {
            "colorbar": {
             "outlinewidth": 0,
             "ticks": ""
            },
            "type": "choropleth"
           }
          ],
          "contour": [
           {
            "colorbar": {
             "outlinewidth": 0,
             "ticks": ""
            },
            "colorscale": [
             [
              0,
              "#0d0887"
             ],
             [
              0.1111111111111111,
              "#46039f"
             ],
             [
              0.2222222222222222,
              "#7201a8"
             ],
             [
              0.3333333333333333,
              "#9c179e"
             ],
             [
              0.4444444444444444,
              "#bd3786"
             ],
             [
              0.5555555555555556,
              "#d8576b"
             ],
             [
              0.6666666666666666,
              "#ed7953"
             ],
             [
              0.7777777777777778,
              "#fb9f3a"
             ],
             [
              0.8888888888888888,
              "#fdca26"
             ],
             [
              1,
              "#f0f921"
             ]
            ],
            "type": "contour"
           }
          ],
          "contourcarpet": [
           {
            "colorbar": {
             "outlinewidth": 0,
             "ticks": ""
            },
            "type": "contourcarpet"
           }
          ],
          "heatmap": [
           {
            "colorbar": {
             "outlinewidth": 0,
             "ticks": ""
            },
            "colorscale": [
             [
              0,
              "#0d0887"
             ],
             [
              0.1111111111111111,
              "#46039f"
             ],
             [
              0.2222222222222222,
              "#7201a8"
             ],
             [
              0.3333333333333333,
              "#9c179e"
             ],
             [
              0.4444444444444444,
              "#bd3786"
             ],
             [
              0.5555555555555556,
              "#d8576b"
             ],
             [
              0.6666666666666666,
              "#ed7953"
             ],
             [
              0.7777777777777778,
              "#fb9f3a"
             ],
             [
              0.8888888888888888,
              "#fdca26"
             ],
             [
              1,
              "#f0f921"
             ]
            ],
            "type": "heatmap"
           }
          ],
          "heatmapgl": [
           {
            "colorbar": {
             "outlinewidth": 0,
             "ticks": ""
            },
            "colorscale": [
             [
              0,
              "#0d0887"
             ],
             [
              0.1111111111111111,
              "#46039f"
             ],
             [
              0.2222222222222222,
              "#7201a8"
             ],
             [
              0.3333333333333333,
              "#9c179e"
             ],
             [
              0.4444444444444444,
              "#bd3786"
             ],
             [
              0.5555555555555556,
              "#d8576b"
             ],
             [
              0.6666666666666666,
              "#ed7953"
             ],
             [
              0.7777777777777778,
              "#fb9f3a"
             ],
             [
              0.8888888888888888,
              "#fdca26"
             ],
             [
              1,
              "#f0f921"
             ]
            ],
            "type": "heatmapgl"
           }
          ],
          "histogram": [
           {
            "marker": {
             "pattern": {
              "fillmode": "overlay",
              "size": 10,
              "solidity": 0.2
             }
            },
            "type": "histogram"
           }
          ],
          "histogram2d": [
           {
            "colorbar": {
             "outlinewidth": 0,
             "ticks": ""
            },
            "colorscale": [
             [
              0,
              "#0d0887"
             ],
             [
              0.1111111111111111,
              "#46039f"
             ],
             [
              0.2222222222222222,
              "#7201a8"
             ],
             [
              0.3333333333333333,
              "#9c179e"
             ],
             [
              0.4444444444444444,
              "#bd3786"
             ],
             [
              0.5555555555555556,
              "#d8576b"
             ],
             [
              0.6666666666666666,
              "#ed7953"
             ],
             [
              0.7777777777777778,
              "#fb9f3a"
             ],
             [
              0.8888888888888888,
              "#fdca26"
             ],
             [
              1,
              "#f0f921"
             ]
            ],
            "type": "histogram2d"
           }
          ],
          "histogram2dcontour": [
           {
            "colorbar": {
             "outlinewidth": 0,
             "ticks": ""
            },
            "colorscale": [
             [
              0,
              "#0d0887"
             ],
             [
              0.1111111111111111,
              "#46039f"
             ],
             [
              0.2222222222222222,
              "#7201a8"
             ],
             [
              0.3333333333333333,
              "#9c179e"
             ],
             [
              0.4444444444444444,
              "#bd3786"
             ],
             [
              0.5555555555555556,
              "#d8576b"
             ],
             [
              0.6666666666666666,
              "#ed7953"
             ],
             [
              0.7777777777777778,
              "#fb9f3a"
             ],
             [
              0.8888888888888888,
              "#fdca26"
             ],
             [
              1,
              "#f0f921"
             ]
            ],
            "type": "histogram2dcontour"
           }
          ],
          "mesh3d": [
           {
            "colorbar": {
             "outlinewidth": 0,
             "ticks": ""
            },
            "type": "mesh3d"
           }
          ],
          "parcoords": [
           {
            "line": {
             "colorbar": {
              "outlinewidth": 0,
              "ticks": ""
             }
            },
            "type": "parcoords"
           }
          ],
          "pie": [
           {
            "automargin": true,
            "type": "pie"
           }
          ],
          "scatter": [
           {
            "fillpattern": {
             "fillmode": "overlay",
             "size": 10,
             "solidity": 0.2
            },
            "type": "scatter"
           }
          ],
          "scatter3d": [
           {
            "line": {
             "colorbar": {
              "outlinewidth": 0,
              "ticks": ""
             }
            },
            "marker": {
             "colorbar": {
              "outlinewidth": 0,
              "ticks": ""
             }
            },
            "type": "scatter3d"
           }
          ],
          "scattercarpet": [
           {
            "marker": {
             "colorbar": {
              "outlinewidth": 0,
              "ticks": ""
             }
            },
            "type": "scattercarpet"
           }
          ],
          "scattergeo": [
           {
            "marker": {
             "colorbar": {
              "outlinewidth": 0,
              "ticks": ""
             }
            },
            "type": "scattergeo"
           }
          ],
          "scattergl": [
           {
            "marker": {
             "colorbar": {
              "outlinewidth": 0,
              "ticks": ""
             }
            },
            "type": "scattergl"
           }
          ],
          "scattermapbox": [
           {
            "marker": {
             "colorbar": {
              "outlinewidth": 0,
              "ticks": ""
             }
            },
            "type": "scattermapbox"
           }
          ],
          "scatterpolar": [
           {
            "marker": {
             "colorbar": {
              "outlinewidth": 0,
              "ticks": ""
             }
            },
            "type": "scatterpolar"
           }
          ],
          "scatterpolargl": [
           {
            "marker": {
             "colorbar": {
              "outlinewidth": 0,
              "ticks": ""
             }
            },
            "type": "scatterpolargl"
           }
          ],
          "scatterternary": [
           {
            "marker": {
             "colorbar": {
              "outlinewidth": 0,
              "ticks": ""
             }
            },
            "type": "scatterternary"
           }
          ],
          "surface": [
           {
            "colorbar": {
             "outlinewidth": 0,
             "ticks": ""
            },
            "colorscale": [
             [
              0,
              "#0d0887"
             ],
             [
              0.1111111111111111,
              "#46039f"
             ],
             [
              0.2222222222222222,
              "#7201a8"
             ],
             [
              0.3333333333333333,
              "#9c179e"
             ],
             [
              0.4444444444444444,
              "#bd3786"
             ],
             [
              0.5555555555555556,
              "#d8576b"
             ],
             [
              0.6666666666666666,
              "#ed7953"
             ],
             [
              0.7777777777777778,
              "#fb9f3a"
             ],
             [
              0.8888888888888888,
              "#fdca26"
             ],
             [
              1,
              "#f0f921"
             ]
            ],
            "type": "surface"
           }
          ],
          "table": [
           {
            "cells": {
             "fill": {
              "color": "#EBF0F8"
             },
             "line": {
              "color": "white"
             }
            },
            "header": {
             "fill": {
              "color": "#C8D4E3"
             },
             "line": {
              "color": "white"
             }
            },
            "type": "table"
           }
          ]
         },
         "layout": {
          "annotationdefaults": {
           "arrowcolor": "#2a3f5f",
           "arrowhead": 0,
           "arrowwidth": 1
          },
          "autotypenumbers": "strict",
          "coloraxis": {
           "colorbar": {
            "outlinewidth": 0,
            "ticks": ""
           }
          },
          "colorscale": {
           "diverging": [
            [
             0,
             "#8e0152"
            ],
            [
             0.1,
             "#c51b7d"
            ],
            [
             0.2,
             "#de77ae"
            ],
            [
             0.3,
             "#f1b6da"
            ],
            [
             0.4,
             "#fde0ef"
            ],
            [
             0.5,
             "#f7f7f7"
            ],
            [
             0.6,
             "#e6f5d0"
            ],
            [
             0.7,
             "#b8e186"
            ],
            [
             0.8,
             "#7fbc41"
            ],
            [
             0.9,
             "#4d9221"
            ],
            [
             1,
             "#276419"
            ]
           ],
           "sequential": [
            [
             0,
             "#0d0887"
            ],
            [
             0.1111111111111111,
             "#46039f"
            ],
            [
             0.2222222222222222,
             "#7201a8"
            ],
            [
             0.3333333333333333,
             "#9c179e"
            ],
            [
             0.4444444444444444,
             "#bd3786"
            ],
            [
             0.5555555555555556,
             "#d8576b"
            ],
            [
             0.6666666666666666,
             "#ed7953"
            ],
            [
             0.7777777777777778,
             "#fb9f3a"
            ],
            [
             0.8888888888888888,
             "#fdca26"
            ],
            [
             1,
             "#f0f921"
            ]
           ],
           "sequentialminus": [
            [
             0,
             "#0d0887"
            ],
            [
             0.1111111111111111,
             "#46039f"
            ],
            [
             0.2222222222222222,
             "#7201a8"
            ],
            [
             0.3333333333333333,
             "#9c179e"
            ],
            [
             0.4444444444444444,
             "#bd3786"
            ],
            [
             0.5555555555555556,
             "#d8576b"
            ],
            [
             0.6666666666666666,
             "#ed7953"
            ],
            [
             0.7777777777777778,
             "#fb9f3a"
            ],
            [
             0.8888888888888888,
             "#fdca26"
            ],
            [
             1,
             "#f0f921"
            ]
           ]
          },
          "colorway": [
           "#636efa",
           "#EF553B",
           "#00cc96",
           "#ab63fa",
           "#FFA15A",
           "#19d3f3",
           "#FF6692",
           "#B6E880",
           "#FF97FF",
           "#FECB52"
          ],
          "font": {
           "color": "#2a3f5f"
          },
          "geo": {
           "bgcolor": "white",
           "lakecolor": "white",
           "landcolor": "#E5ECF6",
           "showlakes": true,
           "showland": true,
           "subunitcolor": "white"
          },
          "hoverlabel": {
           "align": "left"
          },
          "hovermode": "closest",
          "mapbox": {
           "style": "light"
          },
          "paper_bgcolor": "white",
          "plot_bgcolor": "#E5ECF6",
          "polar": {
           "angularaxis": {
            "gridcolor": "white",
            "linecolor": "white",
            "ticks": ""
           },
           "bgcolor": "#E5ECF6",
           "radialaxis": {
            "gridcolor": "white",
            "linecolor": "white",
            "ticks": ""
           }
          },
          "scene": {
           "xaxis": {
            "backgroundcolor": "#E5ECF6",
            "gridcolor": "white",
            "gridwidth": 2,
            "linecolor": "white",
            "showbackground": true,
            "ticks": "",
            "zerolinecolor": "white"
           },
           "yaxis": {
            "backgroundcolor": "#E5ECF6",
            "gridcolor": "white",
            "gridwidth": 2,
            "linecolor": "white",
            "showbackground": true,
            "ticks": "",
            "zerolinecolor": "white"
           },
           "zaxis": {
            "backgroundcolor": "#E5ECF6",
            "gridcolor": "white",
            "gridwidth": 2,
            "linecolor": "white",
            "showbackground": true,
            "ticks": "",
            "zerolinecolor": "white"
           }
          },
          "shapedefaults": {
           "line": {
            "color": "#2a3f5f"
           }
          },
          "ternary": {
           "aaxis": {
            "gridcolor": "white",
            "linecolor": "white",
            "ticks": ""
           },
           "baxis": {
            "gridcolor": "white",
            "linecolor": "white",
            "ticks": ""
           },
           "bgcolor": "#E5ECF6",
           "caxis": {
            "gridcolor": "white",
            "linecolor": "white",
            "ticks": ""
           }
          },
          "title": {
           "x": 0.05
          },
          "xaxis": {
           "automargin": true,
           "gridcolor": "white",
           "linecolor": "white",
           "ticks": "",
           "title": {
            "standoff": 15
           },
           "zerolinecolor": "white",
           "zerolinewidth": 2
          },
          "yaxis": {
           "automargin": true,
           "gridcolor": "white",
           "linecolor": "white",
           "ticks": "",
           "title": {
            "standoff": 15
           },
           "zerolinecolor": "white",
           "zerolinewidth": 2
          }
         }
        },
        "title": {
         "text": "Portfolios Composition"
        },
        "xaxis": {
         "anchor": "y",
         "domain": [
          0,
          1
         ],
         "title": {
          "text": "Portfolios"
         }
        },
        "yaxis": {
         "anchor": "x",
         "domain": [
          0,
          1
         ],
         "tickformat": ",.0%",
         "title": {
          "text": "Weight"
         }
        }
       }
      }
     },
     "metadata": {},
     "output_type": "display_data"
    }
   ],
   "source": [
    "pop.plot_composition()"
   ]
  },
  {
   "cell_type": "code",
   "execution_count": 37,
   "metadata": {},
   "outputs": [
    {
     "data": {
      "text/html": [
       "<div>\n",
       "<style scoped>\n",
       "    .dataframe tbody tr th:only-of-type {\n",
       "        vertical-align: middle;\n",
       "    }\n",
       "\n",
       "    .dataframe tbody tr th {\n",
       "        vertical-align: top;\n",
       "    }\n",
       "\n",
       "    .dataframe thead th {\n",
       "        text-align: right;\n",
       "    }\n",
       "</style>\n",
       "<table border=\"1\" class=\"dataframe\">\n",
       "  <thead>\n",
       "    <tr style=\"text-align: right;\">\n",
       "      <th></th>\n",
       "      <th>EqualWeighted</th>\n",
       "      <th>InverseVolatility</th>\n",
       "      <th>Min CVaR</th>\n",
       "      <th>Hierarchical Clustering</th>\n",
       "      <th>NIFTY50</th>\n",
       "    </tr>\n",
       "  </thead>\n",
       "  <tbody>\n",
       "    <tr>\n",
       "      <th>Mean</th>\n",
       "      <td>0.14%</td>\n",
       "      <td>0.13%</td>\n",
       "      <td>0.090%</td>\n",
       "      <td>0.13%</td>\n",
       "      <td>0.11%</td>\n",
       "    </tr>\n",
       "    <tr>\n",
       "      <th>Annualized Mean</th>\n",
       "      <td>35.32%</td>\n",
       "      <td>33.58%</td>\n",
       "      <td>22.72%</td>\n",
       "      <td>32.71%</td>\n",
       "      <td>26.46%</td>\n",
       "    </tr>\n",
       "    <tr>\n",
       "      <th>Variance</th>\n",
       "      <td>0.0092%</td>\n",
       "      <td>0.0078%</td>\n",
       "      <td>0.0052%</td>\n",
       "      <td>0.0079%</td>\n",
       "      <td>0.010%</td>\n",
       "    </tr>\n",
       "    <tr>\n",
       "      <th>Annualized Variance</th>\n",
       "      <td>2.33%</td>\n",
       "      <td>1.96%</td>\n",
       "      <td>1.31%</td>\n",
       "      <td>2.00%</td>\n",
       "      <td>2.63%</td>\n",
       "    </tr>\n",
       "    <tr>\n",
       "      <th>Semi-Variance</th>\n",
       "      <td>0.0058%</td>\n",
       "      <td>0.0048%</td>\n",
       "      <td>0.0029%</td>\n",
       "      <td>0.0049%</td>\n",
       "      <td>0.0062%</td>\n",
       "    </tr>\n",
       "    <tr>\n",
       "      <th>Annualized Semi-Variance</th>\n",
       "      <td>1.46%</td>\n",
       "      <td>1.21%</td>\n",
       "      <td>0.74%</td>\n",
       "      <td>1.23%</td>\n",
       "      <td>1.57%</td>\n",
       "    </tr>\n",
       "    <tr>\n",
       "      <th>Standard Deviation</th>\n",
       "      <td>0.96%</td>\n",
       "      <td>0.88%</td>\n",
       "      <td>0.72%</td>\n",
       "      <td>0.89%</td>\n",
       "      <td>1.02%</td>\n",
       "    </tr>\n",
       "    <tr>\n",
       "      <th>Annualized Standard Deviation</th>\n",
       "      <td>15.26%</td>\n",
       "      <td>13.99%</td>\n",
       "      <td>11.43%</td>\n",
       "      <td>14.14%</td>\n",
       "      <td>16.23%</td>\n",
       "    </tr>\n",
       "    <tr>\n",
       "      <th>Semi-Deviation</th>\n",
       "      <td>0.76%</td>\n",
       "      <td>0.69%</td>\n",
       "      <td>0.54%</td>\n",
       "      <td>0.70%</td>\n",
       "      <td>0.79%</td>\n",
       "    </tr>\n",
       "    <tr>\n",
       "      <th>Annualized Semi-Deviation</th>\n",
       "      <td>12.10%</td>\n",
       "      <td>11.02%</td>\n",
       "      <td>8.59%</td>\n",
       "      <td>11.10%</td>\n",
       "      <td>12.54%</td>\n",
       "    </tr>\n",
       "    <tr>\n",
       "      <th>Mean Absolute Deviation</th>\n",
       "      <td>0.64%</td>\n",
       "      <td>0.59%</td>\n",
       "      <td>0.52%</td>\n",
       "      <td>0.60%</td>\n",
       "      <td>0.62%</td>\n",
       "    </tr>\n",
       "    <tr>\n",
       "      <th>CVaR at 95%</th>\n",
       "      <td>2.62%</td>\n",
       "      <td>2.39%</td>\n",
       "      <td>1.75%</td>\n",
       "      <td>2.41%</td>\n",
       "      <td>2.48%</td>\n",
       "    </tr>\n",
       "    <tr>\n",
       "      <th>EVaR at 95%</th>\n",
       "      <td>3.47%</td>\n",
       "      <td>3.06%</td>\n",
       "      <td>2.04%</td>\n",
       "      <td>3.15%</td>\n",
       "      <td>4.55%</td>\n",
       "    </tr>\n",
       "    <tr>\n",
       "      <th>Worst Realization</th>\n",
       "      <td>4.34%</td>\n",
       "      <td>3.77%</td>\n",
       "      <td>2.36%</td>\n",
       "      <td>3.88%</td>\n",
       "      <td>5.93%</td>\n",
       "    </tr>\n",
       "    <tr>\n",
       "      <th>CDaR at 95%</th>\n",
       "      <td>4.49%</td>\n",
       "      <td>4.23%</td>\n",
       "      <td>5.67%</td>\n",
       "      <td>4.65%</td>\n",
       "      <td>4.14%</td>\n",
       "    </tr>\n",
       "    <tr>\n",
       "      <th>MAX Drawdown</th>\n",
       "      <td>5.18%</td>\n",
       "      <td>5.07%</td>\n",
       "      <td>6.13%</td>\n",
       "      <td>5.58%</td>\n",
       "      <td>5.93%</td>\n",
       "    </tr>\n",
       "    <tr>\n",
       "      <th>Average Drawdown</th>\n",
       "      <td>1.08%</td>\n",
       "      <td>1.01%</td>\n",
       "      <td>1.35%</td>\n",
       "      <td>1.11%</td>\n",
       "      <td>1.14%</td>\n",
       "    </tr>\n",
       "    <tr>\n",
       "      <th>EDaR at 95%</th>\n",
       "      <td>4.76%</td>\n",
       "      <td>4.54%</td>\n",
       "      <td>5.87%</td>\n",
       "      <td>5.02%</td>\n",
       "      <td>5.03%</td>\n",
       "    </tr>\n",
       "    <tr>\n",
       "      <th>First Lower Partial Moment</th>\n",
       "      <td>0.32%</td>\n",
       "      <td>0.30%</td>\n",
       "      <td>0.26%</td>\n",
       "      <td>0.30%</td>\n",
       "      <td>0.31%</td>\n",
       "    </tr>\n",
       "    <tr>\n",
       "      <th>Ulcer Index</th>\n",
       "      <td>0.017</td>\n",
       "      <td>0.016</td>\n",
       "      <td>0.021</td>\n",
       "      <td>0.017</td>\n",
       "      <td>0.017</td>\n",
       "    </tr>\n",
       "    <tr>\n",
       "      <th>Gini Mean Difference</th>\n",
       "      <td>0.97%</td>\n",
       "      <td>0.90%</td>\n",
       "      <td>0.77%</td>\n",
       "      <td>0.91%</td>\n",
       "      <td>0.97%</td>\n",
       "    </tr>\n",
       "    <tr>\n",
       "      <th>Value at Risk at 95%</th>\n",
       "      <td>1.08%</td>\n",
       "      <td>1.05%</td>\n",
       "      <td>1.20%</td>\n",
       "      <td>0.98%</td>\n",
       "      <td>1.10%</td>\n",
       "    </tr>\n",
       "    <tr>\n",
       "      <th>Drawdown at Risk at 95%</th>\n",
       "      <td>3.57%</td>\n",
       "      <td>3.47%</td>\n",
       "      <td>4.80%</td>\n",
       "      <td>3.88%</td>\n",
       "      <td>3.49%</td>\n",
       "    </tr>\n",
       "    <tr>\n",
       "      <th>Entropic Risk Measure at 95%</th>\n",
       "      <td>2.99</td>\n",
       "      <td>2.99</td>\n",
       "      <td>2.99</td>\n",
       "      <td>2.99</td>\n",
       "      <td>2.99</td>\n",
       "    </tr>\n",
       "    <tr>\n",
       "      <th>Fourth Central Moment</th>\n",
       "      <td>0.000007%</td>\n",
       "      <td>0.000004%</td>\n",
       "      <td>0.000001%</td>\n",
       "      <td>0.000005%</td>\n",
       "      <td>0.000016%</td>\n",
       "    </tr>\n",
       "    <tr>\n",
       "      <th>Fourth Lower Partial Moment</th>\n",
       "      <td>0.000006%</td>\n",
       "      <td>0.000004%</td>\n",
       "      <td>0.000001%</td>\n",
       "      <td>0.000004%</td>\n",
       "      <td>0.000013%</td>\n",
       "    </tr>\n",
       "    <tr>\n",
       "      <th>Skew</th>\n",
       "      <td>-1.27</td>\n",
       "      <td>-1.18</td>\n",
       "      <td>-0.48</td>\n",
       "      <td>-1.22</td>\n",
       "      <td>-1.51</td>\n",
       "    </tr>\n",
       "    <tr>\n",
       "      <th>Kurtosis</th>\n",
       "      <td>8.06</td>\n",
       "      <td>7.41</td>\n",
       "      <td>4.77</td>\n",
       "      <td>7.65</td>\n",
       "      <td>14.42</td>\n",
       "    </tr>\n",
       "    <tr>\n",
       "      <th>Sharpe Ratio</th>\n",
       "      <td>0.15</td>\n",
       "      <td>0.15</td>\n",
       "      <td>0.13</td>\n",
       "      <td>0.15</td>\n",
       "      <td>0.10</td>\n",
       "    </tr>\n",
       "    <tr>\n",
       "      <th>Annualized Sharpe Ratio</th>\n",
       "      <td>2.31</td>\n",
       "      <td>2.40</td>\n",
       "      <td>1.99</td>\n",
       "      <td>2.31</td>\n",
       "      <td>1.63</td>\n",
       "    </tr>\n",
       "    <tr>\n",
       "      <th>Sortino Ratio</th>\n",
       "      <td>0.18</td>\n",
       "      <td>0.19</td>\n",
       "      <td>0.17</td>\n",
       "      <td>0.19</td>\n",
       "      <td>0.13</td>\n",
       "    </tr>\n",
       "    <tr>\n",
       "      <th>Annualized Sortino Ratio</th>\n",
       "      <td>2.92</td>\n",
       "      <td>3.05</td>\n",
       "      <td>2.64</td>\n",
       "      <td>2.95</td>\n",
       "      <td>2.11</td>\n",
       "    </tr>\n",
       "    <tr>\n",
       "      <th>Mean Absolute Deviation Ratio</th>\n",
       "      <td>0.22</td>\n",
       "      <td>0.23</td>\n",
       "      <td>0.17</td>\n",
       "      <td>0.22</td>\n",
       "      <td>0.17</td>\n",
       "    </tr>\n",
       "    <tr>\n",
       "      <th>First Lower Partial Moment Ratio</th>\n",
       "      <td>0.44</td>\n",
       "      <td>0.45</td>\n",
       "      <td>0.35</td>\n",
       "      <td>0.43</td>\n",
       "      <td>0.34</td>\n",
       "    </tr>\n",
       "    <tr>\n",
       "      <th>Value at Risk Ratio at 95%</th>\n",
       "      <td>0.13</td>\n",
       "      <td>0.13</td>\n",
       "      <td>0.075</td>\n",
       "      <td>0.13</td>\n",
       "      <td>0.096</td>\n",
       "    </tr>\n",
       "    <tr>\n",
       "      <th>CVaR Ratio at 95%</th>\n",
       "      <td>0.053</td>\n",
       "      <td>0.056</td>\n",
       "      <td>0.051</td>\n",
       "      <td>0.054</td>\n",
       "      <td>0.042</td>\n",
       "    </tr>\n",
       "    <tr>\n",
       "      <th>Entropic Risk Measure Ratio at 95%</th>\n",
       "      <td>0.00047</td>\n",
       "      <td>0.00045</td>\n",
       "      <td>0.00030</td>\n",
       "      <td>0.00043</td>\n",
       "      <td>0.00035</td>\n",
       "    </tr>\n",
       "    <tr>\n",
       "      <th>EVaR Ratio at 95%</th>\n",
       "      <td>0.040</td>\n",
       "      <td>0.044</td>\n",
       "      <td>0.044</td>\n",
       "      <td>0.041</td>\n",
       "      <td>0.023</td>\n",
       "    </tr>\n",
       "    <tr>\n",
       "      <th>Worst Realization Ratio</th>\n",
       "      <td>0.032</td>\n",
       "      <td>0.035</td>\n",
       "      <td>0.038</td>\n",
       "      <td>0.033</td>\n",
       "      <td>0.018</td>\n",
       "    </tr>\n",
       "    <tr>\n",
       "      <th>Drawdown at Risk Ratio at 95%</th>\n",
       "      <td>0.039</td>\n",
       "      <td>0.038</td>\n",
       "      <td>0.019</td>\n",
       "      <td>0.033</td>\n",
       "      <td>0.030</td>\n",
       "    </tr>\n",
       "    <tr>\n",
       "      <th>CDaR Ratio at 95%</th>\n",
       "      <td>0.031</td>\n",
       "      <td>0.032</td>\n",
       "      <td>0.016</td>\n",
       "      <td>0.028</td>\n",
       "      <td>0.025</td>\n",
       "    </tr>\n",
       "    <tr>\n",
       "      <th>Calmar Ratio</th>\n",
       "      <td>0.027</td>\n",
       "      <td>0.026</td>\n",
       "      <td>0.015</td>\n",
       "      <td>0.023</td>\n",
       "      <td>0.018</td>\n",
       "    </tr>\n",
       "    <tr>\n",
       "      <th>Average Drawdown Ratio</th>\n",
       "      <td>0.13</td>\n",
       "      <td>0.13</td>\n",
       "      <td>0.067</td>\n",
       "      <td>0.12</td>\n",
       "      <td>0.092</td>\n",
       "    </tr>\n",
       "    <tr>\n",
       "      <th>EDaR Ratio at 95%</th>\n",
       "      <td>0.029</td>\n",
       "      <td>0.029</td>\n",
       "      <td>0.015</td>\n",
       "      <td>0.026</td>\n",
       "      <td>0.021</td>\n",
       "    </tr>\n",
       "    <tr>\n",
       "      <th>Ulcer Index Ratio</th>\n",
       "      <td>0.083</td>\n",
       "      <td>0.084</td>\n",
       "      <td>0.043</td>\n",
       "      <td>0.075</td>\n",
       "      <td>0.063</td>\n",
       "    </tr>\n",
       "    <tr>\n",
       "      <th>Gini Mean Difference Ratio</th>\n",
       "      <td>0.14</td>\n",
       "      <td>0.15</td>\n",
       "      <td>0.12</td>\n",
       "      <td>0.14</td>\n",
       "      <td>0.11</td>\n",
       "    </tr>\n",
       "    <tr>\n",
       "      <th>Effective Number of Assets</th>\n",
       "      <td>7.0</td>\n",
       "      <td>6.7333552037597615</td>\n",
       "      <td>2.7187944753793607</td>\n",
       "      <td>6.383919860468044</td>\n",
       "      <td>NaN</td>\n",
       "    </tr>\n",
       "    <tr>\n",
       "      <th>Assets Number</th>\n",
       "      <td>7</td>\n",
       "      <td>7</td>\n",
       "      <td>7</td>\n",
       "      <td>7</td>\n",
       "      <td>NaN</td>\n",
       "    </tr>\n",
       "  </tbody>\n",
       "</table>\n",
       "</div>"
      ],
      "text/plain": [
       "                                   EqualWeighted   InverseVolatility  \\\n",
       "Mean                                       0.14%               0.13%   \n",
       "Annualized Mean                           35.32%              33.58%   \n",
       "Variance                                 0.0092%             0.0078%   \n",
       "Annualized Variance                        2.33%               1.96%   \n",
       "Semi-Variance                            0.0058%             0.0048%   \n",
       "Annualized Semi-Variance                   1.46%               1.21%   \n",
       "Standard Deviation                         0.96%               0.88%   \n",
       "Annualized Standard Deviation             15.26%              13.99%   \n",
       "Semi-Deviation                             0.76%               0.69%   \n",
       "Annualized Semi-Deviation                 12.10%              11.02%   \n",
       "Mean Absolute Deviation                    0.64%               0.59%   \n",
       "CVaR at 95%                                2.62%               2.39%   \n",
       "EVaR at 95%                                3.47%               3.06%   \n",
       "Worst Realization                          4.34%               3.77%   \n",
       "CDaR at 95%                                4.49%               4.23%   \n",
       "MAX Drawdown                               5.18%               5.07%   \n",
       "Average Drawdown                           1.08%               1.01%   \n",
       "EDaR at 95%                                4.76%               4.54%   \n",
       "First Lower Partial Moment                 0.32%               0.30%   \n",
       "Ulcer Index                                0.017               0.016   \n",
       "Gini Mean Difference                       0.97%               0.90%   \n",
       "Value at Risk at 95%                       1.08%               1.05%   \n",
       "Drawdown at Risk at 95%                    3.57%               3.47%   \n",
       "Entropic Risk Measure at 95%                2.99                2.99   \n",
       "Fourth Central Moment                  0.000007%           0.000004%   \n",
       "Fourth Lower Partial Moment            0.000006%           0.000004%   \n",
       "Skew                                       -1.27               -1.18   \n",
       "Kurtosis                                    8.06                7.41   \n",
       "Sharpe Ratio                                0.15                0.15   \n",
       "Annualized Sharpe Ratio                     2.31                2.40   \n",
       "Sortino Ratio                               0.18                0.19   \n",
       "Annualized Sortino Ratio                    2.92                3.05   \n",
       "Mean Absolute Deviation Ratio               0.22                0.23   \n",
       "First Lower Partial Moment Ratio            0.44                0.45   \n",
       "Value at Risk Ratio at 95%                  0.13                0.13   \n",
       "CVaR Ratio at 95%                          0.053               0.056   \n",
       "Entropic Risk Measure Ratio at 95%       0.00047             0.00045   \n",
       "EVaR Ratio at 95%                          0.040               0.044   \n",
       "Worst Realization Ratio                    0.032               0.035   \n",
       "Drawdown at Risk Ratio at 95%              0.039               0.038   \n",
       "CDaR Ratio at 95%                          0.031               0.032   \n",
       "Calmar Ratio                               0.027               0.026   \n",
       "Average Drawdown Ratio                      0.13                0.13   \n",
       "EDaR Ratio at 95%                          0.029               0.029   \n",
       "Ulcer Index Ratio                          0.083               0.084   \n",
       "Gini Mean Difference Ratio                  0.14                0.15   \n",
       "Effective Number of Assets                   7.0  6.7333552037597615   \n",
       "Assets Number                                  7                   7   \n",
       "\n",
       "                                              Min CVaR  \\\n",
       "Mean                                            0.090%   \n",
       "Annualized Mean                                 22.72%   \n",
       "Variance                                       0.0052%   \n",
       "Annualized Variance                              1.31%   \n",
       "Semi-Variance                                  0.0029%   \n",
       "Annualized Semi-Variance                         0.74%   \n",
       "Standard Deviation                               0.72%   \n",
       "Annualized Standard Deviation                   11.43%   \n",
       "Semi-Deviation                                   0.54%   \n",
       "Annualized Semi-Deviation                        8.59%   \n",
       "Mean Absolute Deviation                          0.52%   \n",
       "CVaR at 95%                                      1.75%   \n",
       "EVaR at 95%                                      2.04%   \n",
       "Worst Realization                                2.36%   \n",
       "CDaR at 95%                                      5.67%   \n",
       "MAX Drawdown                                     6.13%   \n",
       "Average Drawdown                                 1.35%   \n",
       "EDaR at 95%                                      5.87%   \n",
       "First Lower Partial Moment                       0.26%   \n",
       "Ulcer Index                                      0.021   \n",
       "Gini Mean Difference                             0.77%   \n",
       "Value at Risk at 95%                             1.20%   \n",
       "Drawdown at Risk at 95%                          4.80%   \n",
       "Entropic Risk Measure at 95%                      2.99   \n",
       "Fourth Central Moment                        0.000001%   \n",
       "Fourth Lower Partial Moment                  0.000001%   \n",
       "Skew                                             -0.48   \n",
       "Kurtosis                                          4.77   \n",
       "Sharpe Ratio                                      0.13   \n",
       "Annualized Sharpe Ratio                           1.99   \n",
       "Sortino Ratio                                     0.17   \n",
       "Annualized Sortino Ratio                          2.64   \n",
       "Mean Absolute Deviation Ratio                     0.17   \n",
       "First Lower Partial Moment Ratio                  0.35   \n",
       "Value at Risk Ratio at 95%                       0.075   \n",
       "CVaR Ratio at 95%                                0.051   \n",
       "Entropic Risk Measure Ratio at 95%             0.00030   \n",
       "EVaR Ratio at 95%                                0.044   \n",
       "Worst Realization Ratio                          0.038   \n",
       "Drawdown at Risk Ratio at 95%                    0.019   \n",
       "CDaR Ratio at 95%                                0.016   \n",
       "Calmar Ratio                                     0.015   \n",
       "Average Drawdown Ratio                           0.067   \n",
       "EDaR Ratio at 95%                                0.015   \n",
       "Ulcer Index Ratio                                0.043   \n",
       "Gini Mean Difference Ratio                        0.12   \n",
       "Effective Number of Assets          2.7187944753793607   \n",
       "Assets Number                                        7   \n",
       "\n",
       "                                   Hierarchical Clustering    NIFTY50  \n",
       "Mean                                                 0.13%      0.11%  \n",
       "Annualized Mean                                     32.71%     26.46%  \n",
       "Variance                                           0.0079%     0.010%  \n",
       "Annualized Variance                                  2.00%      2.63%  \n",
       "Semi-Variance                                      0.0049%    0.0062%  \n",
       "Annualized Semi-Variance                             1.23%      1.57%  \n",
       "Standard Deviation                                   0.89%      1.02%  \n",
       "Annualized Standard Deviation                       14.14%     16.23%  \n",
       "Semi-Deviation                                       0.70%      0.79%  \n",
       "Annualized Semi-Deviation                           11.10%     12.54%  \n",
       "Mean Absolute Deviation                              0.60%      0.62%  \n",
       "CVaR at 95%                                          2.41%      2.48%  \n",
       "EVaR at 95%                                          3.15%      4.55%  \n",
       "Worst Realization                                    3.88%      5.93%  \n",
       "CDaR at 95%                                          4.65%      4.14%  \n",
       "MAX Drawdown                                         5.58%      5.93%  \n",
       "Average Drawdown                                     1.11%      1.14%  \n",
       "EDaR at 95%                                          5.02%      5.03%  \n",
       "First Lower Partial Moment                           0.30%      0.31%  \n",
       "Ulcer Index                                          0.017      0.017  \n",
       "Gini Mean Difference                                 0.91%      0.97%  \n",
       "Value at Risk at 95%                                 0.98%      1.10%  \n",
       "Drawdown at Risk at 95%                              3.88%      3.49%  \n",
       "Entropic Risk Measure at 95%                          2.99       2.99  \n",
       "Fourth Central Moment                            0.000005%  0.000016%  \n",
       "Fourth Lower Partial Moment                      0.000004%  0.000013%  \n",
       "Skew                                                 -1.22      -1.51  \n",
       "Kurtosis                                              7.65      14.42  \n",
       "Sharpe Ratio                                          0.15       0.10  \n",
       "Annualized Sharpe Ratio                               2.31       1.63  \n",
       "Sortino Ratio                                         0.19       0.13  \n",
       "Annualized Sortino Ratio                              2.95       2.11  \n",
       "Mean Absolute Deviation Ratio                         0.22       0.17  \n",
       "First Lower Partial Moment Ratio                      0.43       0.34  \n",
       "Value at Risk Ratio at 95%                            0.13      0.096  \n",
       "CVaR Ratio at 95%                                    0.054      0.042  \n",
       "Entropic Risk Measure Ratio at 95%                 0.00043    0.00035  \n",
       "EVaR Ratio at 95%                                    0.041      0.023  \n",
       "Worst Realization Ratio                              0.033      0.018  \n",
       "Drawdown at Risk Ratio at 95%                        0.033      0.030  \n",
       "CDaR Ratio at 95%                                    0.028      0.025  \n",
       "Calmar Ratio                                         0.023      0.018  \n",
       "Average Drawdown Ratio                                0.12      0.092  \n",
       "EDaR Ratio at 95%                                    0.026      0.021  \n",
       "Ulcer Index Ratio                                    0.075      0.063  \n",
       "Gini Mean Difference Ratio                            0.14       0.11  \n",
       "Effective Number of Assets               6.383919860468044        NaN  \n",
       "Assets Number                                            7        NaN  "
      ]
     },
     "execution_count": 37,
     "metadata": {},
     "output_type": "execute_result"
    }
   ],
   "source": [
    "pop.summary()"
   ]
  },
  {
   "cell_type": "code",
   "execution_count": 69,
   "metadata": {},
   "outputs": [
    {
     "data": {
      "text/html": [
       "<div>\n",
       "<style scoped>\n",
       "    .dataframe tbody tr th:only-of-type {\n",
       "        vertical-align: middle;\n",
       "    }\n",
       "\n",
       "    .dataframe tbody tr th {\n",
       "        vertical-align: top;\n",
       "    }\n",
       "\n",
       "    .dataframe thead th {\n",
       "        text-align: right;\n",
       "    }\n",
       "</style>\n",
       "<table border=\"1\" class=\"dataframe\">\n",
       "  <thead>\n",
       "    <tr style=\"text-align: right;\">\n",
       "      <th></th>\n",
       "      <th>EqualWeighted_EqualWeighted</th>\n",
       "      <th>EqualWeighted_EqualWeighted_1</th>\n",
       "      <th>EqualWeighted_EqualWeighted_2</th>\n",
       "      <th>EqualWeighted_EqualWeighted_3</th>\n",
       "      <th>EqualWeighted_EqualWeighted_4</th>\n",
       "      <th>EqualWeighted_EqualWeighted_5</th>\n",
       "      <th>EqualWeighted_EqualWeighted_6</th>\n",
       "      <th>EqualWeighted_EqualWeighted_7</th>\n",
       "      <th>EqualWeighted_EqualWeighted_8</th>\n",
       "      <th>EqualWeighted_EqualWeighted_9</th>\n",
       "      <th>...</th>\n",
       "      <th>HierarchicalRiskParity_Hierarchical Clustering_28</th>\n",
       "      <th>HierarchicalRiskParity_Hierarchical Clustering_29</th>\n",
       "      <th>HierarchicalRiskParity_Hierarchical Clustering_30</th>\n",
       "      <th>HierarchicalRiskParity_Hierarchical Clustering_31</th>\n",
       "      <th>HierarchicalRiskParity_Hierarchical Clustering_32</th>\n",
       "      <th>HierarchicalRiskParity_Hierarchical Clustering_33</th>\n",
       "      <th>HierarchicalRiskParity_Hierarchical Clustering_34</th>\n",
       "      <th>HierarchicalRiskParity_Hierarchical Clustering_35</th>\n",
       "      <th>HierarchicalRiskParity_Hierarchical Clustering_36</th>\n",
       "      <th>HierarchicalRiskParity_Hierarchical Clustering_37</th>\n",
       "    </tr>\n",
       "    <tr>\n",
       "      <th>asset</th>\n",
       "      <th></th>\n",
       "      <th></th>\n",
       "      <th></th>\n",
       "      <th></th>\n",
       "      <th></th>\n",
       "      <th></th>\n",
       "      <th></th>\n",
       "      <th></th>\n",
       "      <th></th>\n",
       "      <th></th>\n",
       "      <th></th>\n",
       "      <th></th>\n",
       "      <th></th>\n",
       "      <th></th>\n",
       "      <th></th>\n",
       "      <th></th>\n",
       "      <th></th>\n",
       "      <th></th>\n",
       "      <th></th>\n",
       "      <th></th>\n",
       "      <th></th>\n",
       "    </tr>\n",
       "  </thead>\n",
       "  <tbody>\n",
       "    <tr>\n",
       "      <th>CPSEETF.NS</th>\n",
       "      <td>14285.714286</td>\n",
       "      <td>14285.714286</td>\n",
       "      <td>14285.714286</td>\n",
       "      <td>14285.714286</td>\n",
       "      <td>14285.714286</td>\n",
       "      <td>14285.714286</td>\n",
       "      <td>14285.714286</td>\n",
       "      <td>14285.714286</td>\n",
       "      <td>14285.714286</td>\n",
       "      <td>14285.714286</td>\n",
       "      <td>...</td>\n",
       "      <td>14103.167528</td>\n",
       "      <td>14205.373014</td>\n",
       "      <td>14270.191565</td>\n",
       "      <td>5957.855644</td>\n",
       "      <td>6002.528770</td>\n",
       "      <td>6030.153937</td>\n",
       "      <td>6057.884865</td>\n",
       "      <td>6179.628150</td>\n",
       "      <td>6302.574427</td>\n",
       "      <td>6512.636566</td>\n",
       "    </tr>\n",
       "    <tr>\n",
       "      <th>MOM100.NS</th>\n",
       "      <td>14285.714286</td>\n",
       "      <td>14285.714286</td>\n",
       "      <td>14285.714286</td>\n",
       "      <td>14285.714286</td>\n",
       "      <td>14285.714286</td>\n",
       "      <td>14285.714286</td>\n",
       "      <td>14285.714286</td>\n",
       "      <td>14285.714286</td>\n",
       "      <td>14285.714286</td>\n",
       "      <td>14285.714286</td>\n",
       "      <td>...</td>\n",
       "      <td>10670.933588</td>\n",
       "      <td>10683.515456</td>\n",
       "      <td>10778.183453</td>\n",
       "      <td>9203.876819</td>\n",
       "      <td>9244.615553</td>\n",
       "      <td>9258.435394</td>\n",
       "      <td>9272.924614</td>\n",
       "      <td>9552.612986</td>\n",
       "      <td>9713.751901</td>\n",
       "      <td>9967.385336</td>\n",
       "    </tr>\n",
       "    <tr>\n",
       "      <th>ICICIB22.NS</th>\n",
       "      <td>14285.714286</td>\n",
       "      <td>14285.714286</td>\n",
       "      <td>14285.714286</td>\n",
       "      <td>14285.714286</td>\n",
       "      <td>14285.714286</td>\n",
       "      <td>14285.714286</td>\n",
       "      <td>14285.714286</td>\n",
       "      <td>14285.714286</td>\n",
       "      <td>14285.714286</td>\n",
       "      <td>14285.714286</td>\n",
       "      <td>...</td>\n",
       "      <td>8988.385812</td>\n",
       "      <td>9041.551103</td>\n",
       "      <td>9107.430846</td>\n",
       "      <td>8546.806887</td>\n",
       "      <td>8583.001716</td>\n",
       "      <td>8623.434992</td>\n",
       "      <td>8660.230360</td>\n",
       "      <td>8978.611588</td>\n",
       "      <td>9035.957189</td>\n",
       "      <td>9478.508503</td>\n",
       "    </tr>\n",
       "    <tr>\n",
       "      <th>MON100.NS</th>\n",
       "      <td>14285.714286</td>\n",
       "      <td>14285.714286</td>\n",
       "      <td>14285.714286</td>\n",
       "      <td>14285.714286</td>\n",
       "      <td>14285.714286</td>\n",
       "      <td>14285.714286</td>\n",
       "      <td>14285.714286</td>\n",
       "      <td>14285.714286</td>\n",
       "      <td>14285.714286</td>\n",
       "      <td>14285.714286</td>\n",
       "      <td>...</td>\n",
       "      <td>18654.017733</td>\n",
       "      <td>18931.454979</td>\n",
       "      <td>18946.853713</td>\n",
       "      <td>20645.478541</td>\n",
       "      <td>20775.002481</td>\n",
       "      <td>20693.971289</td>\n",
       "      <td>20346.445840</td>\n",
       "      <td>19779.868208</td>\n",
       "      <td>18693.890464</td>\n",
       "      <td>16753.695353</td>\n",
       "    </tr>\n",
       "    <tr>\n",
       "      <th>GOLDBEES.NS</th>\n",
       "      <td>14285.714286</td>\n",
       "      <td>14285.714286</td>\n",
       "      <td>14285.714286</td>\n",
       "      <td>14285.714286</td>\n",
       "      <td>14285.714286</td>\n",
       "      <td>14285.714286</td>\n",
       "      <td>14285.714286</td>\n",
       "      <td>14285.714286</td>\n",
       "      <td>14285.714286</td>\n",
       "      <td>14285.714286</td>\n",
       "      <td>...</td>\n",
       "      <td>22688.421934</td>\n",
       "      <td>22173.850323</td>\n",
       "      <td>21764.546372</td>\n",
       "      <td>23107.587389</td>\n",
       "      <td>22789.191370</td>\n",
       "      <td>22749.593626</td>\n",
       "      <td>22984.114993</td>\n",
       "      <td>21689.697210</td>\n",
       "      <td>22019.881997</td>\n",
       "      <td>22023.770276</td>\n",
       "    </tr>\n",
       "    <tr>\n",
       "      <th>NIFTYBEES.NS</th>\n",
       "      <td>14285.714286</td>\n",
       "      <td>14285.714286</td>\n",
       "      <td>14285.714286</td>\n",
       "      <td>14285.714286</td>\n",
       "      <td>14285.714286</td>\n",
       "      <td>14285.714286</td>\n",
       "      <td>14285.714286</td>\n",
       "      <td>14285.714286</td>\n",
       "      <td>14285.714286</td>\n",
       "      <td>14285.714286</td>\n",
       "      <td>...</td>\n",
       "      <td>15514.196063</td>\n",
       "      <td>15576.563862</td>\n",
       "      <td>15666.789883</td>\n",
       "      <td>16999.478354</td>\n",
       "      <td>17015.232852</td>\n",
       "      <td>17044.556092</td>\n",
       "      <td>17067.659083</td>\n",
       "      <td>17745.610303</td>\n",
       "      <td>17902.022528</td>\n",
       "      <td>18164.902282</td>\n",
       "    </tr>\n",
       "    <tr>\n",
       "      <th>HDFCSML250.NS</th>\n",
       "      <td>14285.714286</td>\n",
       "      <td>14285.714286</td>\n",
       "      <td>14285.714286</td>\n",
       "      <td>14285.714286</td>\n",
       "      <td>14285.714286</td>\n",
       "      <td>14285.714286</td>\n",
       "      <td>14285.714286</td>\n",
       "      <td>14285.714286</td>\n",
       "      <td>14285.714286</td>\n",
       "      <td>14285.714286</td>\n",
       "      <td>...</td>\n",
       "      <td>9380.877342</td>\n",
       "      <td>9387.691263</td>\n",
       "      <td>9466.004168</td>\n",
       "      <td>15538.916367</td>\n",
       "      <td>15590.427258</td>\n",
       "      <td>15599.854670</td>\n",
       "      <td>15610.740246</td>\n",
       "      <td>16073.971555</td>\n",
       "      <td>16331.921494</td>\n",
       "      <td>17099.101683</td>\n",
       "    </tr>\n",
       "  </tbody>\n",
       "</table>\n",
       "<p>7 rows × 152 columns</p>\n",
       "</div>"
      ],
      "text/plain": [
       "               EqualWeighted_EqualWeighted  EqualWeighted_EqualWeighted_1  \\\n",
       "asset                                                                       \n",
       "CPSEETF.NS                    14285.714286                   14285.714286   \n",
       "MOM100.NS                     14285.714286                   14285.714286   \n",
       "ICICIB22.NS                   14285.714286                   14285.714286   \n",
       "MON100.NS                     14285.714286                   14285.714286   \n",
       "GOLDBEES.NS                   14285.714286                   14285.714286   \n",
       "NIFTYBEES.NS                  14285.714286                   14285.714286   \n",
       "HDFCSML250.NS                 14285.714286                   14285.714286   \n",
       "\n",
       "               EqualWeighted_EqualWeighted_2  EqualWeighted_EqualWeighted_3  \\\n",
       "asset                                                                         \n",
       "CPSEETF.NS                      14285.714286                   14285.714286   \n",
       "MOM100.NS                       14285.714286                   14285.714286   \n",
       "ICICIB22.NS                     14285.714286                   14285.714286   \n",
       "MON100.NS                       14285.714286                   14285.714286   \n",
       "GOLDBEES.NS                     14285.714286                   14285.714286   \n",
       "NIFTYBEES.NS                    14285.714286                   14285.714286   \n",
       "HDFCSML250.NS                   14285.714286                   14285.714286   \n",
       "\n",
       "               EqualWeighted_EqualWeighted_4  EqualWeighted_EqualWeighted_5  \\\n",
       "asset                                                                         \n",
       "CPSEETF.NS                      14285.714286                   14285.714286   \n",
       "MOM100.NS                       14285.714286                   14285.714286   \n",
       "ICICIB22.NS                     14285.714286                   14285.714286   \n",
       "MON100.NS                       14285.714286                   14285.714286   \n",
       "GOLDBEES.NS                     14285.714286                   14285.714286   \n",
       "NIFTYBEES.NS                    14285.714286                   14285.714286   \n",
       "HDFCSML250.NS                   14285.714286                   14285.714286   \n",
       "\n",
       "               EqualWeighted_EqualWeighted_6  EqualWeighted_EqualWeighted_7  \\\n",
       "asset                                                                         \n",
       "CPSEETF.NS                      14285.714286                   14285.714286   \n",
       "MOM100.NS                       14285.714286                   14285.714286   \n",
       "ICICIB22.NS                     14285.714286                   14285.714286   \n",
       "MON100.NS                       14285.714286                   14285.714286   \n",
       "GOLDBEES.NS                     14285.714286                   14285.714286   \n",
       "NIFTYBEES.NS                    14285.714286                   14285.714286   \n",
       "HDFCSML250.NS                   14285.714286                   14285.714286   \n",
       "\n",
       "               EqualWeighted_EqualWeighted_8  EqualWeighted_EqualWeighted_9  \\\n",
       "asset                                                                         \n",
       "CPSEETF.NS                      14285.714286                   14285.714286   \n",
       "MOM100.NS                       14285.714286                   14285.714286   \n",
       "ICICIB22.NS                     14285.714286                   14285.714286   \n",
       "MON100.NS                       14285.714286                   14285.714286   \n",
       "GOLDBEES.NS                     14285.714286                   14285.714286   \n",
       "NIFTYBEES.NS                    14285.714286                   14285.714286   \n",
       "HDFCSML250.NS                   14285.714286                   14285.714286   \n",
       "\n",
       "               ...  HierarchicalRiskParity_Hierarchical Clustering_28  \\\n",
       "asset          ...                                                      \n",
       "CPSEETF.NS     ...                                       14103.167528   \n",
       "MOM100.NS      ...                                       10670.933588   \n",
       "ICICIB22.NS    ...                                        8988.385812   \n",
       "MON100.NS      ...                                       18654.017733   \n",
       "GOLDBEES.NS    ...                                       22688.421934   \n",
       "NIFTYBEES.NS   ...                                       15514.196063   \n",
       "HDFCSML250.NS  ...                                        9380.877342   \n",
       "\n",
       "               HierarchicalRiskParity_Hierarchical Clustering_29  \\\n",
       "asset                                                              \n",
       "CPSEETF.NS                                          14205.373014   \n",
       "MOM100.NS                                           10683.515456   \n",
       "ICICIB22.NS                                          9041.551103   \n",
       "MON100.NS                                           18931.454979   \n",
       "GOLDBEES.NS                                         22173.850323   \n",
       "NIFTYBEES.NS                                        15576.563862   \n",
       "HDFCSML250.NS                                        9387.691263   \n",
       "\n",
       "               HierarchicalRiskParity_Hierarchical Clustering_30  \\\n",
       "asset                                                              \n",
       "CPSEETF.NS                                          14270.191565   \n",
       "MOM100.NS                                           10778.183453   \n",
       "ICICIB22.NS                                          9107.430846   \n",
       "MON100.NS                                           18946.853713   \n",
       "GOLDBEES.NS                                         21764.546372   \n",
       "NIFTYBEES.NS                                        15666.789883   \n",
       "HDFCSML250.NS                                        9466.004168   \n",
       "\n",
       "               HierarchicalRiskParity_Hierarchical Clustering_31  \\\n",
       "asset                                                              \n",
       "CPSEETF.NS                                           5957.855644   \n",
       "MOM100.NS                                            9203.876819   \n",
       "ICICIB22.NS                                          8546.806887   \n",
       "MON100.NS                                           20645.478541   \n",
       "GOLDBEES.NS                                         23107.587389   \n",
       "NIFTYBEES.NS                                        16999.478354   \n",
       "HDFCSML250.NS                                       15538.916367   \n",
       "\n",
       "               HierarchicalRiskParity_Hierarchical Clustering_32  \\\n",
       "asset                                                              \n",
       "CPSEETF.NS                                           6002.528770   \n",
       "MOM100.NS                                            9244.615553   \n",
       "ICICIB22.NS                                          8583.001716   \n",
       "MON100.NS                                           20775.002481   \n",
       "GOLDBEES.NS                                         22789.191370   \n",
       "NIFTYBEES.NS                                        17015.232852   \n",
       "HDFCSML250.NS                                       15590.427258   \n",
       "\n",
       "               HierarchicalRiskParity_Hierarchical Clustering_33  \\\n",
       "asset                                                              \n",
       "CPSEETF.NS                                           6030.153937   \n",
       "MOM100.NS                                            9258.435394   \n",
       "ICICIB22.NS                                          8623.434992   \n",
       "MON100.NS                                           20693.971289   \n",
       "GOLDBEES.NS                                         22749.593626   \n",
       "NIFTYBEES.NS                                        17044.556092   \n",
       "HDFCSML250.NS                                       15599.854670   \n",
       "\n",
       "               HierarchicalRiskParity_Hierarchical Clustering_34  \\\n",
       "asset                                                              \n",
       "CPSEETF.NS                                           6057.884865   \n",
       "MOM100.NS                                            9272.924614   \n",
       "ICICIB22.NS                                          8660.230360   \n",
       "MON100.NS                                           20346.445840   \n",
       "GOLDBEES.NS                                         22984.114993   \n",
       "NIFTYBEES.NS                                        17067.659083   \n",
       "HDFCSML250.NS                                       15610.740246   \n",
       "\n",
       "               HierarchicalRiskParity_Hierarchical Clustering_35  \\\n",
       "asset                                                              \n",
       "CPSEETF.NS                                           6179.628150   \n",
       "MOM100.NS                                            9552.612986   \n",
       "ICICIB22.NS                                          8978.611588   \n",
       "MON100.NS                                           19779.868208   \n",
       "GOLDBEES.NS                                         21689.697210   \n",
       "NIFTYBEES.NS                                        17745.610303   \n",
       "HDFCSML250.NS                                       16073.971555   \n",
       "\n",
       "               HierarchicalRiskParity_Hierarchical Clustering_36  \\\n",
       "asset                                                              \n",
       "CPSEETF.NS                                           6302.574427   \n",
       "MOM100.NS                                            9713.751901   \n",
       "ICICIB22.NS                                          9035.957189   \n",
       "MON100.NS                                           18693.890464   \n",
       "GOLDBEES.NS                                         22019.881997   \n",
       "NIFTYBEES.NS                                        17902.022528   \n",
       "HDFCSML250.NS                                       16331.921494   \n",
       "\n",
       "               HierarchicalRiskParity_Hierarchical Clustering_37  \n",
       "asset                                                             \n",
       "CPSEETF.NS                                           6512.636566  \n",
       "MOM100.NS                                            9967.385336  \n",
       "ICICIB22.NS                                          9478.508503  \n",
       "MON100.NS                                           16753.695353  \n",
       "GOLDBEES.NS                                         22023.770276  \n",
       "NIFTYBEES.NS                                        18164.902282  \n",
       "HDFCSML250.NS                                       17099.101683  \n",
       "\n",
       "[7 rows x 152 columns]"
      ]
     },
     "execution_count": 69,
     "metadata": {},
     "output_type": "execute_result"
    }
   ],
   "source": [
    "pop.composition() * 1_00_000"
   ]
  },
  {
   "cell_type": "markdown",
   "metadata": {},
   "source": [
    "Inverse Volatility performance is sus, hence I'll perform walk forward validation\n",
    "\n",
    "# Walk Forward Validation\n",
    "- Train on the existing data and test for 30 days of data"
   ]
  },
  {
   "cell_type": "code",
   "execution_count": 38,
   "metadata": {},
   "outputs": [],
   "source": [
    "from skfolio.model_selection import WalkForward, cross_val_predict"
   ]
  },
  {
   "cell_type": "code",
   "execution_count": 43,
   "metadata": {},
   "outputs": [
    {
     "data": {
      "text/plain": [
       "[EqualWeighted(),\n",
       " InverseVolatility(),\n",
       " MeanRisk(portfolio_params={'name': 'Min CVaR'}, risk_measure=CVaR),\n",
       " HierarchicalRiskParity(portfolio_params={'name': 'Hierarchical Clustering'},\n",
       "                        risk_measure=CVaR)]"
      ]
     },
     "execution_count": 43,
     "metadata": {},
     "output_type": "execute_result"
    }
   ],
   "source": [
    "models"
   ]
  },
  {
   "cell_type": "code",
   "execution_count": 64,
   "metadata": {},
   "outputs": [
    {
     "data": {
      "text/plain": [
       "'EqualWeighted'"
      ]
     },
     "execution_count": 64,
     "metadata": {},
     "output_type": "execute_result"
    }
   ],
   "source": [
    "type(models[0]).__name__"
   ]
  },
  {
   "cell_type": "code",
   "execution_count": 65,
   "metadata": {},
   "outputs": [],
   "source": [
    "cv = WalkForward(train_size=100, test_size=7, expend_train=True)\n",
    "\n",
    "mp = cross_val_predict(model_hier_cluster, df_ret, cv=cv, portfolio_params=dict(name='WalkForward'))\n",
    "pop = Population([\n",
    "    cross_val_predict(m, df_ret, cv=cv, portfolio_params=dict(name=type(m).__name__))\n",
    "    for m in models\n",
    "])"
   ]
  },
  {
   "cell_type": "code",
   "execution_count": 66,
   "metadata": {},
   "outputs": [
    {
     "data": {
      "application/vnd.plotly.v1+json": {
       "config": {
        "plotlyServerURL": "https://plot.ly"
       },
       "data": [
        {
         "hovertemplate": "variable=EqualWeighted<br>index=%{x}<br>value=%{y}<extra></extra>",
         "legendgroup": "EqualWeighted",
         "line": {
          "color": "#636efa",
          "dash": "solid"
         },
         "marker": {
          "symbol": "circle"
         },
         "mode": "lines",
         "name": "EqualWeighted",
         "showlegend": true,
         "type": "scattergl",
         "x": [
          "2023-07-21T00:00:00",
          "2023-07-24T00:00:00",
          "2023-07-25T00:00:00",
          "2023-07-26T00:00:00",
          "2023-07-27T00:00:00",
          "2023-07-28T00:00:00",
          "2023-07-31T00:00:00",
          "2023-08-01T00:00:00",
          "2023-08-02T00:00:00",
          "2023-08-03T00:00:00",
          "2023-08-04T00:00:00",
          "2023-08-07T00:00:00",
          "2023-08-08T00:00:00",
          "2023-08-09T00:00:00",
          "2023-08-10T00:00:00",
          "2023-08-11T00:00:00",
          "2023-08-14T00:00:00",
          "2023-08-16T00:00:00",
          "2023-08-17T00:00:00",
          "2023-08-18T00:00:00",
          "2023-08-21T00:00:00",
          "2023-08-22T00:00:00",
          "2023-08-23T00:00:00",
          "2023-08-24T00:00:00",
          "2023-08-25T00:00:00",
          "2023-08-28T00:00:00",
          "2023-08-29T00:00:00",
          "2023-08-30T00:00:00",
          "2023-08-31T00:00:00",
          "2023-09-01T00:00:00",
          "2023-09-04T00:00:00",
          "2023-09-05T00:00:00",
          "2023-09-06T00:00:00",
          "2023-09-07T00:00:00",
          "2023-09-08T00:00:00",
          "2023-09-11T00:00:00",
          "2023-09-12T00:00:00",
          "2023-09-13T00:00:00",
          "2023-09-14T00:00:00",
          "2023-09-15T00:00:00",
          "2023-09-18T00:00:00",
          "2023-09-20T00:00:00",
          "2023-09-21T00:00:00",
          "2023-09-22T00:00:00",
          "2023-09-25T00:00:00",
          "2023-09-26T00:00:00",
          "2023-09-27T00:00:00",
          "2023-09-28T00:00:00",
          "2023-09-29T00:00:00",
          "2023-10-03T00:00:00",
          "2023-10-04T00:00:00",
          "2023-10-05T00:00:00",
          "2023-10-06T00:00:00",
          "2023-10-09T00:00:00",
          "2023-10-10T00:00:00",
          "2023-10-11T00:00:00",
          "2023-10-12T00:00:00",
          "2023-10-13T00:00:00",
          "2023-10-16T00:00:00",
          "2023-10-17T00:00:00",
          "2023-10-18T00:00:00",
          "2023-10-19T00:00:00",
          "2023-10-20T00:00:00",
          "2023-10-23T00:00:00",
          "2023-10-25T00:00:00",
          "2023-10-26T00:00:00",
          "2023-10-27T00:00:00",
          "2023-10-30T00:00:00",
          "2023-10-31T00:00:00",
          "2023-11-01T00:00:00",
          "2023-11-02T00:00:00",
          "2023-11-03T00:00:00",
          "2023-11-06T00:00:00",
          "2023-11-07T00:00:00",
          "2023-11-08T00:00:00",
          "2023-11-09T00:00:00",
          "2023-11-10T00:00:00",
          "2023-11-13T00:00:00",
          "2023-11-15T00:00:00",
          "2023-11-16T00:00:00",
          "2023-11-17T00:00:00",
          "2023-11-20T00:00:00",
          "2023-11-21T00:00:00",
          "2023-11-22T00:00:00",
          "2023-11-23T00:00:00",
          "2023-11-24T00:00:00",
          "2023-11-28T00:00:00",
          "2023-11-29T00:00:00",
          "2023-11-30T00:00:00",
          "2023-12-01T00:00:00",
          "2023-12-04T00:00:00",
          "2023-12-05T00:00:00",
          "2023-12-06T00:00:00",
          "2023-12-07T00:00:00",
          "2023-12-08T00:00:00",
          "2023-12-11T00:00:00",
          "2023-12-12T00:00:00",
          "2023-12-13T00:00:00",
          "2023-12-14T00:00:00",
          "2023-12-15T00:00:00",
          "2023-12-18T00:00:00",
          "2023-12-19T00:00:00",
          "2023-12-20T00:00:00",
          "2023-12-21T00:00:00",
          "2023-12-22T00:00:00",
          "2023-12-26T00:00:00",
          "2023-12-27T00:00:00",
          "2023-12-28T00:00:00",
          "2023-12-29T00:00:00",
          "2024-01-01T00:00:00",
          "2024-01-02T00:00:00",
          "2024-01-03T00:00:00",
          "2024-01-04T00:00:00",
          "2024-01-05T00:00:00",
          "2024-01-08T00:00:00",
          "2024-01-09T00:00:00",
          "2024-01-10T00:00:00",
          "2024-01-11T00:00:00",
          "2024-01-12T00:00:00",
          "2024-01-16T00:00:00",
          "2024-01-17T00:00:00",
          "2024-01-18T00:00:00",
          "2024-01-19T00:00:00",
          "2024-01-23T00:00:00",
          "2024-01-24T00:00:00",
          "2024-01-25T00:00:00",
          "2024-01-29T00:00:00",
          "2024-01-30T00:00:00",
          "2024-01-31T00:00:00",
          "2024-02-01T00:00:00",
          "2024-02-02T00:00:00",
          "2024-02-05T00:00:00",
          "2024-02-06T00:00:00",
          "2024-02-07T00:00:00",
          "2024-02-08T00:00:00",
          "2024-02-09T00:00:00",
          "2024-02-12T00:00:00",
          "2024-02-13T00:00:00",
          "2024-02-14T00:00:00",
          "2024-02-15T00:00:00",
          "2024-02-16T00:00:00",
          "2024-02-19T00:00:00",
          "2024-02-20T00:00:00",
          "2024-02-21T00:00:00",
          "2024-02-22T00:00:00",
          "2024-02-23T00:00:00",
          "2024-02-26T00:00:00",
          "2024-02-27T00:00:00",
          "2024-02-28T00:00:00",
          "2024-02-29T00:00:00",
          "2024-03-01T00:00:00",
          "2024-03-04T00:00:00",
          "2024-03-05T00:00:00",
          "2024-03-06T00:00:00",
          "2024-03-07T00:00:00",
          "2024-03-11T00:00:00",
          "2024-03-12T00:00:00",
          "2024-03-13T00:00:00",
          "2024-03-14T00:00:00",
          "2024-03-15T00:00:00",
          "2024-03-18T00:00:00",
          "2024-03-19T00:00:00",
          "2024-03-20T00:00:00",
          "2024-03-21T00:00:00",
          "2024-03-22T00:00:00",
          "2024-03-26T00:00:00",
          "2024-03-27T00:00:00",
          "2024-03-28T00:00:00",
          "2024-04-01T00:00:00",
          "2024-04-02T00:00:00",
          "2024-04-03T00:00:00",
          "2024-04-04T00:00:00",
          "2024-04-05T00:00:00",
          "2024-04-08T00:00:00",
          "2024-04-09T00:00:00",
          "2024-04-10T00:00:00",
          "2024-04-12T00:00:00",
          "2024-04-15T00:00:00",
          "2024-04-16T00:00:00",
          "2024-04-18T00:00:00",
          "2024-04-19T00:00:00",
          "2024-04-22T00:00:00",
          "2024-04-23T00:00:00",
          "2024-04-24T00:00:00",
          "2024-04-25T00:00:00",
          "2024-04-26T00:00:00",
          "2024-04-29T00:00:00",
          "2024-04-30T00:00:00",
          "2024-05-02T00:00:00",
          "2024-05-03T00:00:00",
          "2024-05-06T00:00:00",
          "2024-05-07T00:00:00",
          "2024-05-08T00:00:00",
          "2024-05-09T00:00:00",
          "2024-05-10T00:00:00",
          "2024-05-13T00:00:00",
          "2024-05-14T00:00:00",
          "2024-05-15T00:00:00",
          "2024-05-16T00:00:00",
          "2024-05-17T00:00:00",
          "2024-05-21T00:00:00",
          "2024-05-22T00:00:00",
          "2024-05-23T00:00:00",
          "2024-05-24T00:00:00",
          "2024-05-27T00:00:00",
          "2024-05-28T00:00:00",
          "2024-05-29T00:00:00",
          "2024-05-30T00:00:00",
          "2024-05-31T00:00:00",
          "2024-06-03T00:00:00",
          "2024-06-04T00:00:00",
          "2024-06-05T00:00:00",
          "2024-06-06T00:00:00",
          "2024-06-07T00:00:00",
          "2024-06-10T00:00:00",
          "2024-06-11T00:00:00",
          "2024-06-12T00:00:00",
          "2024-06-13T00:00:00",
          "2024-06-14T00:00:00",
          "2024-06-18T00:00:00",
          "2024-06-19T00:00:00",
          "2024-06-20T00:00:00",
          "2024-06-21T00:00:00",
          "2024-06-24T00:00:00",
          "2024-06-25T00:00:00",
          "2024-06-26T00:00:00",
          "2024-06-27T00:00:00",
          "2024-06-28T00:00:00",
          "2024-07-01T00:00:00",
          "2024-07-02T00:00:00",
          "2024-07-03T00:00:00",
          "2024-07-04T00:00:00",
          "2024-07-05T00:00:00",
          "2024-07-08T00:00:00",
          "2024-07-09T00:00:00",
          "2024-07-10T00:00:00",
          "2024-07-11T00:00:00",
          "2024-07-12T00:00:00",
          "2024-07-15T00:00:00",
          "2024-07-16T00:00:00",
          "2024-07-18T00:00:00",
          "2024-07-19T00:00:00",
          "2024-07-22T00:00:00",
          "2024-07-23T00:00:00",
          "2024-07-24T00:00:00",
          "2024-07-25T00:00:00",
          "2024-07-26T00:00:00",
          "2024-07-29T00:00:00",
          "2024-07-30T00:00:00",
          "2024-07-31T00:00:00",
          "2024-08-01T00:00:00",
          "2024-08-02T00:00:00",
          "2024-08-05T00:00:00",
          "2024-08-06T00:00:00",
          "2024-08-07T00:00:00",
          "2024-08-08T00:00:00",
          "2024-08-09T00:00:00",
          "2024-08-12T00:00:00",
          "2024-08-13T00:00:00",
          "2024-08-14T00:00:00",
          "2024-08-16T00:00:00",
          "2024-08-19T00:00:00",
          "2024-08-20T00:00:00",
          "2024-08-21T00:00:00",
          "2024-08-22T00:00:00",
          "2024-08-23T00:00:00"
         ],
         "xaxis": "x",
         "y": [
          -0.0033048870138444753,
          -0.0019939950888366704,
          -0.0001984981322788854,
          0.005314549163961504,
          0.006278757155015246,
          0.010204881552160452,
          0.019614955297399712,
          0.021043951832900133,
          0.008412276698677532,
          0.004035751697940047,
          0.009119681046808206,
          0.010054326865950758,
          0.009853624378851955,
          0.013813921012304768,
          0.008415720940839153,
          0.009634808611477983,
          0.006010301476833887,
          0.008223986575869362,
          0.005108238591256215,
          -0.00010604826050451474,
          0.006352769918183074,
          0.014082733481737735,
          0.01729053764642644,
          0.01853406471170966,
          0.011170299237604358,
          0.015186491180749676,
          0.01967088073532151,
          0.02471674717551786,
          0.025678743438174476,
          0.036227408090313294,
          0.045394145385505215,
          0.048217155839097005,
          0.04814030484354527,
          0.05381640870194864,
          0.06100146967160515,
          0.06704242866818463,
          0.049909135366314625,
          0.054040096641672336,
          0.06021053670367629,
          0.06264104298093912,
          0.06388548285622297,
          0.06235393516170722,
          0.05219369374375937,
          0.050013361725921475,
          0.05017252122710848,
          0.051009925168708135,
          0.05361851180937325,
          0.04821569717442466,
          0.05749535782348328,
          0.05339187489399975,
          0.042291102447830575,
          0.044654589901808775,
          0.04859173847723658,
          0.042137234840919004,
          0.05379673036895287,
          0.059587342745720855,
          0.06452899888520316,
          0.061892714476787486,
          0.06614856465394549,
          0.07200126281732437,
          0.06752624132413788,
          0.06605551415508529,
          0.059259625560055575,
          0.04197932761953612,
          0.03965789054012122,
          0.03155543098219149,
          0.041267030066381424,
          0.04336146455395356,
          0.044032069479315865,
          0.04086810439500199,
          0.050802073087808625,
          0.05735406582674039,
          0.06706631561792671,
          0.0676027631741013,
          0.07308942596441825,
          0.07202337119401503,
          0.07530055348443968,
          0.08322243649173343,
          0.09640825019952429,
          0.09990792161825475,
          0.10146871016992096,
          0.10027705654678376,
          0.10375574908071128,
          0.10382641348312734,
          0.10539254517990601,
          0.10610615938254474,
          0.10925571235971848,
          0.11757112217565076,
          0.12232878063296043,
          0.1309975969118108,
          0.14821632164733844,
          0.1505400952135058,
          0.15283400132700753,
          0.15583178625414468,
          0.15432303661945654,
          0.1565115418148561,
          0.15434715755967218,
          0.16061399739763577,
          0.17273539729515877,
          0.18149055871390424,
          0.1808538347374601,
          0.1828989353514263,
          0.16578666166977765,
          0.1749848467648459,
          0.18171279613891808,
          0.18870118949852,
          0.19263940583997763,
          0.20111678665982788,
          0.19989415072925132,
          0.2045626196973199,
          0.20264938274366767,
          0.20074702546419965,
          0.20738087419956053,
          0.20757665756652308,
          0.2021828891572301,
          0.20704387862139806,
          0.20603572756377683,
          0.20861029222689423,
          0.21340429001609035,
          0.219356738909611,
          0.21143970655469038,
          0.207486990875331,
          0.220455186994888,
          0.20882532298673082,
          0.22244234884374997,
          0.22425486796388408,
          0.23986929652848007,
          0.23692881714382455,
          0.24428789500271042,
          0.24458371123580508,
          0.25811776750616017,
          0.259935646754044,
          0.2657831298696529,
          0.2663209201653489,
          0.2686486708336842,
          0.26238956575164185,
          0.24205581559608041,
          0.24575063036697503,
          0.2544772400641976,
          0.2672446482428433,
          0.2711352620465726,
          0.274294537413123,
          0.27290693547813405,
          0.2637862314090449,
          0.27316685527469203,
          0.2748940896175127,
          0.2743569505834249,
          0.2749703234323484,
          0.2640604155542848,
          0.264800972502062,
          0.277441703839367,
          0.2900160050023579,
          0.2917836786481005,
          0.28650468103961485,
          0.29116249997763155,
          0.285356329423256,
          0.2748429229725211,
          0.2454418781646615,
          0.255905383646762,
          0.24914811811473989,
          0.24805631992022834,
          0.23905190414688082,
          0.2419910089939385,
          0.2626452730043688,
          0.2671300256915074,
          0.2700364533840542,
          0.27063923236889526,
          0.27758074685894574,
          0.2941594588368943,
          0.2996971922726748,
          0.30377300798576173,
          0.3059732266159655,
          0.30748960413075377,
          0.3147114230211871,
          0.31387155472361833,
          0.32074250932216297,
          0.31983250025906074,
          0.30979392564892894,
          0.3097404755786388,
          0.30290253950267626,
          0.3007668980524992,
          0.3062708754184177,
          0.30739700864764513,
          0.3144107189799296,
          0.31989573816058486,
          0.3262936515639034,
          0.3291814957420865,
          0.32932930055854776,
          0.3321546482220815,
          0.3307729995726424,
          0.3252595460899775,
          0.3145103088885758,
          0.3198068863161921,
          0.3038190804257046,
          0.3136073343441304,
          0.3103384955827224,
          0.31873496230628157,
          0.3281306113304817,
          0.334681029157987,
          0.3402472491084378,
          0.3546994557331483,
          0.3579286675533208,
          0.35986818327292924,
          0.35984442842709013,
          0.360118891213276,
          0.3549298678700887,
          0.3532771966256697,
          0.3433904628495797,
          0.34997882351476767,
          0.37793460871064083,
          0.33449848680035354,
          0.3284826664898593,
          0.34974645731262277,
          0.36306716199524447,
          0.36426884734967535,
          0.3711401711264651,
          0.3799533553031338,
          0.3877969529134733,
          0.3907584526390267,
          0.39740936647166514,
          0.39288768044371764,
          0.396890457594023,
          0.3948535574370617,
          0.39326014859977315,
          0.39285034926283424,
          0.394561445130213,
          0.3965817223942112,
          0.4017058143404769,
          0.4039992251170549,
          0.40605356431900264,
          0.4127332923859994,
          0.4183469860468849,
          0.42650130919654006,
          0.43074568060885277,
          0.43357278310873587,
          0.4321127998673057,
          0.4371511955218667,
          0.4355850262608342,
          0.44392331665211965,
          0.44518381183693423,
          0.440731242316093,
          0.42198388221363803,
          0.4252578129111481,
          0.41787177513035334,
          0.4213181757859719,
          0.41818798667624785,
          0.4294023777404641,
          0.43245258759090954,
          0.43591178436814554,
          0.43868973043680864,
          0.4427156796689926,
          0.4318870455708896,
          0.4007343916097243,
          0.39284694752146493,
          0.4123221496322705,
          0.4052770266209028,
          0.41732241221524496,
          0.4173872092334352,
          0.4120296550321589,
          0.4103539374656685,
          0.4258107982728173,
          0.43249991046804637,
          0.4384760178044274,
          0.43973178561144355,
          0.44215247876238317,
          0.4395344573324849
         ],
         "yaxis": "y"
        },
        {
         "hovertemplate": "variable=InverseVolatility<br>index=%{x}<br>value=%{y}<extra></extra>",
         "legendgroup": "InverseVolatility",
         "line": {
          "color": "#EF553B",
          "dash": "solid"
         },
         "marker": {
          "symbol": "circle"
         },
         "mode": "lines",
         "name": "InverseVolatility",
         "showlegend": true,
         "type": "scattergl",
         "x": [
          "2023-07-21T00:00:00",
          "2023-07-24T00:00:00",
          "2023-07-25T00:00:00",
          "2023-07-26T00:00:00",
          "2023-07-27T00:00:00",
          "2023-07-28T00:00:00",
          "2023-07-31T00:00:00",
          "2023-08-01T00:00:00",
          "2023-08-02T00:00:00",
          "2023-08-03T00:00:00",
          "2023-08-04T00:00:00",
          "2023-08-07T00:00:00",
          "2023-08-08T00:00:00",
          "2023-08-09T00:00:00",
          "2023-08-10T00:00:00",
          "2023-08-11T00:00:00",
          "2023-08-14T00:00:00",
          "2023-08-16T00:00:00",
          "2023-08-17T00:00:00",
          "2023-08-18T00:00:00",
          "2023-08-21T00:00:00",
          "2023-08-22T00:00:00",
          "2023-08-23T00:00:00",
          "2023-08-24T00:00:00",
          "2023-08-25T00:00:00",
          "2023-08-28T00:00:00",
          "2023-08-29T00:00:00",
          "2023-08-30T00:00:00",
          "2023-08-31T00:00:00",
          "2023-09-01T00:00:00",
          "2023-09-04T00:00:00",
          "2023-09-05T00:00:00",
          "2023-09-06T00:00:00",
          "2023-09-07T00:00:00",
          "2023-09-08T00:00:00",
          "2023-09-11T00:00:00",
          "2023-09-12T00:00:00",
          "2023-09-13T00:00:00",
          "2023-09-14T00:00:00",
          "2023-09-15T00:00:00",
          "2023-09-18T00:00:00",
          "2023-09-20T00:00:00",
          "2023-09-21T00:00:00",
          "2023-09-22T00:00:00",
          "2023-09-25T00:00:00",
          "2023-09-26T00:00:00",
          "2023-09-27T00:00:00",
          "2023-09-28T00:00:00",
          "2023-09-29T00:00:00",
          "2023-10-03T00:00:00",
          "2023-10-04T00:00:00",
          "2023-10-05T00:00:00",
          "2023-10-06T00:00:00",
          "2023-10-09T00:00:00",
          "2023-10-10T00:00:00",
          "2023-10-11T00:00:00",
          "2023-10-12T00:00:00",
          "2023-10-13T00:00:00",
          "2023-10-16T00:00:00",
          "2023-10-17T00:00:00",
          "2023-10-18T00:00:00",
          "2023-10-19T00:00:00",
          "2023-10-20T00:00:00",
          "2023-10-23T00:00:00",
          "2023-10-25T00:00:00",
          "2023-10-26T00:00:00",
          "2023-10-27T00:00:00",
          "2023-10-30T00:00:00",
          "2023-10-31T00:00:00",
          "2023-11-01T00:00:00",
          "2023-11-02T00:00:00",
          "2023-11-03T00:00:00",
          "2023-11-06T00:00:00",
          "2023-11-07T00:00:00",
          "2023-11-08T00:00:00",
          "2023-11-09T00:00:00",
          "2023-11-10T00:00:00",
          "2023-11-13T00:00:00",
          "2023-11-15T00:00:00",
          "2023-11-16T00:00:00",
          "2023-11-17T00:00:00",
          "2023-11-20T00:00:00",
          "2023-11-21T00:00:00",
          "2023-11-22T00:00:00",
          "2023-11-23T00:00:00",
          "2023-11-24T00:00:00",
          "2023-11-28T00:00:00",
          "2023-11-29T00:00:00",
          "2023-11-30T00:00:00",
          "2023-12-01T00:00:00",
          "2023-12-04T00:00:00",
          "2023-12-05T00:00:00",
          "2023-12-06T00:00:00",
          "2023-12-07T00:00:00",
          "2023-12-08T00:00:00",
          "2023-12-11T00:00:00",
          "2023-12-12T00:00:00",
          "2023-12-13T00:00:00",
          "2023-12-14T00:00:00",
          "2023-12-15T00:00:00",
          "2023-12-18T00:00:00",
          "2023-12-19T00:00:00",
          "2023-12-20T00:00:00",
          "2023-12-21T00:00:00",
          "2023-12-22T00:00:00",
          "2023-12-26T00:00:00",
          "2023-12-27T00:00:00",
          "2023-12-28T00:00:00",
          "2023-12-29T00:00:00",
          "2024-01-01T00:00:00",
          "2024-01-02T00:00:00",
          "2024-01-03T00:00:00",
          "2024-01-04T00:00:00",
          "2024-01-05T00:00:00",
          "2024-01-08T00:00:00",
          "2024-01-09T00:00:00",
          "2024-01-10T00:00:00",
          "2024-01-11T00:00:00",
          "2024-01-12T00:00:00",
          "2024-01-16T00:00:00",
          "2024-01-17T00:00:00",
          "2024-01-18T00:00:00",
          "2024-01-19T00:00:00",
          "2024-01-23T00:00:00",
          "2024-01-24T00:00:00",
          "2024-01-25T00:00:00",
          "2024-01-29T00:00:00",
          "2024-01-30T00:00:00",
          "2024-01-31T00:00:00",
          "2024-02-01T00:00:00",
          "2024-02-02T00:00:00",
          "2024-02-05T00:00:00",
          "2024-02-06T00:00:00",
          "2024-02-07T00:00:00",
          "2024-02-08T00:00:00",
          "2024-02-09T00:00:00",
          "2024-02-12T00:00:00",
          "2024-02-13T00:00:00",
          "2024-02-14T00:00:00",
          "2024-02-15T00:00:00",
          "2024-02-16T00:00:00",
          "2024-02-19T00:00:00",
          "2024-02-20T00:00:00",
          "2024-02-21T00:00:00",
          "2024-02-22T00:00:00",
          "2024-02-23T00:00:00",
          "2024-02-26T00:00:00",
          "2024-02-27T00:00:00",
          "2024-02-28T00:00:00",
          "2024-02-29T00:00:00",
          "2024-03-01T00:00:00",
          "2024-03-04T00:00:00",
          "2024-03-05T00:00:00",
          "2024-03-06T00:00:00",
          "2024-03-07T00:00:00",
          "2024-03-11T00:00:00",
          "2024-03-12T00:00:00",
          "2024-03-13T00:00:00",
          "2024-03-14T00:00:00",
          "2024-03-15T00:00:00",
          "2024-03-18T00:00:00",
          "2024-03-19T00:00:00",
          "2024-03-20T00:00:00",
          "2024-03-21T00:00:00",
          "2024-03-22T00:00:00",
          "2024-03-26T00:00:00",
          "2024-03-27T00:00:00",
          "2024-03-28T00:00:00",
          "2024-04-01T00:00:00",
          "2024-04-02T00:00:00",
          "2024-04-03T00:00:00",
          "2024-04-04T00:00:00",
          "2024-04-05T00:00:00",
          "2024-04-08T00:00:00",
          "2024-04-09T00:00:00",
          "2024-04-10T00:00:00",
          "2024-04-12T00:00:00",
          "2024-04-15T00:00:00",
          "2024-04-16T00:00:00",
          "2024-04-18T00:00:00",
          "2024-04-19T00:00:00",
          "2024-04-22T00:00:00",
          "2024-04-23T00:00:00",
          "2024-04-24T00:00:00",
          "2024-04-25T00:00:00",
          "2024-04-26T00:00:00",
          "2024-04-29T00:00:00",
          "2024-04-30T00:00:00",
          "2024-05-02T00:00:00",
          "2024-05-03T00:00:00",
          "2024-05-06T00:00:00",
          "2024-05-07T00:00:00",
          "2024-05-08T00:00:00",
          "2024-05-09T00:00:00",
          "2024-05-10T00:00:00",
          "2024-05-13T00:00:00",
          "2024-05-14T00:00:00",
          "2024-05-15T00:00:00",
          "2024-05-16T00:00:00",
          "2024-05-17T00:00:00",
          "2024-05-21T00:00:00",
          "2024-05-22T00:00:00",
          "2024-05-23T00:00:00",
          "2024-05-24T00:00:00",
          "2024-05-27T00:00:00",
          "2024-05-28T00:00:00",
          "2024-05-29T00:00:00",
          "2024-05-30T00:00:00",
          "2024-05-31T00:00:00",
          "2024-06-03T00:00:00",
          "2024-06-04T00:00:00",
          "2024-06-05T00:00:00",
          "2024-06-06T00:00:00",
          "2024-06-07T00:00:00",
          "2024-06-10T00:00:00",
          "2024-06-11T00:00:00",
          "2024-06-12T00:00:00",
          "2024-06-13T00:00:00",
          "2024-06-14T00:00:00",
          "2024-06-18T00:00:00",
          "2024-06-19T00:00:00",
          "2024-06-20T00:00:00",
          "2024-06-21T00:00:00",
          "2024-06-24T00:00:00",
          "2024-06-25T00:00:00",
          "2024-06-26T00:00:00",
          "2024-06-27T00:00:00",
          "2024-06-28T00:00:00",
          "2024-07-01T00:00:00",
          "2024-07-02T00:00:00",
          "2024-07-03T00:00:00",
          "2024-07-04T00:00:00",
          "2024-07-05T00:00:00",
          "2024-07-08T00:00:00",
          "2024-07-09T00:00:00",
          "2024-07-10T00:00:00",
          "2024-07-11T00:00:00",
          "2024-07-12T00:00:00",
          "2024-07-15T00:00:00",
          "2024-07-16T00:00:00",
          "2024-07-18T00:00:00",
          "2024-07-19T00:00:00",
          "2024-07-22T00:00:00",
          "2024-07-23T00:00:00",
          "2024-07-24T00:00:00",
          "2024-07-25T00:00:00",
          "2024-07-26T00:00:00",
          "2024-07-29T00:00:00",
          "2024-07-30T00:00:00",
          "2024-07-31T00:00:00",
          "2024-08-01T00:00:00",
          "2024-08-02T00:00:00",
          "2024-08-05T00:00:00",
          "2024-08-06T00:00:00",
          "2024-08-07T00:00:00",
          "2024-08-08T00:00:00",
          "2024-08-09T00:00:00",
          "2024-08-12T00:00:00",
          "2024-08-13T00:00:00",
          "2024-08-14T00:00:00",
          "2024-08-16T00:00:00",
          "2024-08-19T00:00:00",
          "2024-08-20T00:00:00",
          "2024-08-21T00:00:00",
          "2024-08-22T00:00:00",
          "2024-08-23T00:00:00"
         ],
         "xaxis": "x",
         "y": [
          -0.003032674585637667,
          -0.001832255539612154,
          -0.00035217930517943944,
          0.005213126675660248,
          0.00572073529378656,
          0.009446153203433949,
          0.018845458632871556,
          0.02013207566481025,
          0.007679203430472752,
          0.0033424552930538566,
          0.00844897842287005,
          0.009851056107730039,
          0.009672963811303302,
          0.013787839286763987,
          0.008091395546552305,
          0.009280264040956053,
          0.006008046179150102,
          0.008077032086813402,
          0.0050831265181696395,
          0.0002590435050369242,
          0.006467385349804823,
          0.01378012585383655,
          0.01724270729826747,
          0.018004737677551116,
          0.011135288678842134,
          0.014828746776867475,
          0.019248695210541854,
          0.023913935327494584,
          0.024507936346357607,
          0.03472387388891981,
          0.043746276328285205,
          0.04666818849501874,
          0.04672887629950975,
          0.05259441483771754,
          0.06001536543874767,
          0.0660492990506191,
          0.04964538453172693,
          0.05382016273038447,
          0.059618200788621435,
          0.0622308489428252,
          0.06327686533282398,
          0.06109016132898949,
          0.051423280270360264,
          0.04937373607535276,
          0.04958285293706169,
          0.05013898765976672,
          0.05276644771911876,
          0.04709839431013642,
          0.055596156663786235,
          0.051600560235873526,
          0.04081906070786844,
          0.04307439874823398,
          0.047253597787275774,
          0.04118132037207696,
          0.05193459949618928,
          0.05797624651383525,
          0.062344789303245246,
          0.05988928223053584,
          0.06424490915233311,
          0.06971771029768006,
          0.06554093064321397,
          0.06425602165666981,
          0.058006697019372375,
          0.04156938241894976,
          0.03870098107039757,
          0.03087680614499337,
          0.040193552837272446,
          0.04264223204844104,
          0.043109011267256116,
          0.039791115073106995,
          0.0491529102751498,
          0.0552728996045122,
          0.06437998170977006,
          0.06470189884163834,
          0.06972731169548771,
          0.06830382067479308,
          0.07162811608156312,
          0.07819847324463555,
          0.09108715885628242,
          0.09463370734374074,
          0.09630289016917824,
          0.09484118005476762,
          0.09819719430235331,
          0.09864039605694566,
          0.09988489895459161,
          0.10053380455838605,
          0.10394327306972903,
          0.11274352945392332,
          0.11733590837576029,
          0.1260730550177789,
          0.14340143325244353,
          0.14545182177496802,
          0.1476683396251804,
          0.1505191136656749,
          0.14910735805129965,
          0.15048530957577483,
          0.14810561271967843,
          0.15380218665920747,
          0.1662546726645798,
          0.1749198739366547,
          0.173960302312407,
          0.17573118876656235,
          0.15899713160875145,
          0.16787509154476582,
          0.1744921458782555,
          0.18112750499186808,
          0.18546268983383693,
          0.19349908512647676,
          0.19232078783743442,
          0.19681119875623165,
          0.1949222114210513,
          0.19276924687602814,
          0.1989677239151222,
          0.19927303299851937,
          0.19352438706303818,
          0.19794681389882718,
          0.19718362176537424,
          0.19957408661035086,
          0.20483880758250947,
          0.2105119630925561,
          0.2018675515959894,
          0.1979128422792268,
          0.2101517257387279,
          0.1982853460754292,
          0.21107117106419054,
          0.21209397257541562,
          0.22689302432202132,
          0.22391043005036462,
          0.23153541970748634,
          0.23176435132457562,
          0.2438002473786037,
          0.2443709678178214,
          0.25016367957571445,
          0.2511737447100229,
          0.2523910715544933,
          0.24701227250242214,
          0.22846927646311055,
          0.23184368817501616,
          0.23897987745485855,
          0.25024531212154016,
          0.25442387163681246,
          0.2578559166395634,
          0.2563757024720082,
          0.24832097860160085,
          0.256988112264158,
          0.2582889164414089,
          0.2578567554054656,
          0.25858736538213783,
          0.24815357068830762,
          0.24900282272711446,
          0.2610442420050413,
          0.27292534169611554,
          0.27473256878066876,
          0.2704035301030246,
          0.27537916533840145,
          0.2707145175617708,
          0.26136025204487034,
          0.2347028479476907,
          0.24455857478037937,
          0.23840499616238164,
          0.23710571119187462,
          0.22880715501643395,
          0.23128916796387664,
          0.25084192134417416,
          0.2543239404647625,
          0.2570423982483996,
          0.25781198595428123,
          0.2645541878727107,
          0.28103897469010264,
          0.28602668298786876,
          0.28949868786866517,
          0.2922753801960063,
          0.29327585645362964,
          0.30110984665390084,
          0.3006312636010572,
          0.3068734021920517,
          0.3067871673639941,
          0.2962380861489621,
          0.2960675843931399,
          0.28989704669566696,
          0.2883718964617538,
          0.2935054329816295,
          0.29366927042061153,
          0.30006595810193376,
          0.3051225666482793,
          0.3110301829098219,
          0.31417512664593833,
          0.31374015296744134,
          0.31599763560410893,
          0.313783232734866,
          0.30932461907406605,
          0.2998233494660615,
          0.3041100219241129,
          0.28937557220772103,
          0.2991448687376272,
          0.2959602687425433,
          0.30351343490319443,
          0.31199649704312354,
          0.31869365272079797,
          0.3235673987978199,
          0.3361308980534839,
          0.3389893159643301,
          0.3411930935877025,
          0.3405548103725979,
          0.3412474409961904,
          0.33694874254066226,
          0.3349120429047189,
          0.325410812980798,
          0.33167885712097817,
          0.3561387467851396,
          0.3195704865287474,
          0.314504545111426,
          0.334350024293169,
          0.34700880806333706,
          0.3470457915155665,
          0.35333459002134515,
          0.3612020997792961,
          0.36902062535069685,
          0.3716423869758601,
          0.3775492109589111,
          0.3743740083357393,
          0.3787332892484535,
          0.3772257074850804,
          0.37509060751901224,
          0.37541905980495177,
          0.377171291024154,
          0.3790196916475594,
          0.3839119577543522,
          0.3865021167143932,
          0.3884268375378796,
          0.3945663521247767,
          0.39972820611843435,
          0.4064911632818923,
          0.40963997717054595,
          0.41224591367198016,
          0.4107809184024504,
          0.4149465391813195,
          0.41378386029923386,
          0.4210784974251069,
          0.42277490572887083,
          0.4198103958968436,
          0.4026326886276599,
          0.4047840405122296,
          0.39716517429452425,
          0.3991663108998342,
          0.39522359274260926,
          0.40655706524627355,
          0.4083506737428721,
          0.4105997125134461,
          0.4134527007396602,
          0.4168201490489082,
          0.40721823916923033,
          0.3774738025014742,
          0.3701083131652276,
          0.3869830293141731,
          0.38081137274453136,
          0.39241716201761206,
          0.3929418303599961,
          0.3883705360096902,
          0.387509445846504,
          0.4024296592534784,
          0.40906312964471203,
          0.4152376685298125,
          0.41628223250045365,
          0.4191655014283776,
          0.41643928618688664
         ],
         "yaxis": "y"
        },
        {
         "hovertemplate": "variable=MeanRisk<br>index=%{x}<br>value=%{y}<extra></extra>",
         "legendgroup": "MeanRisk",
         "line": {
          "color": "#00cc96",
          "dash": "solid"
         },
         "marker": {
          "symbol": "circle"
         },
         "mode": "lines",
         "name": "MeanRisk",
         "showlegend": true,
         "type": "scattergl",
         "x": [
          "2023-07-21T00:00:00",
          "2023-07-24T00:00:00",
          "2023-07-25T00:00:00",
          "2023-07-26T00:00:00",
          "2023-07-27T00:00:00",
          "2023-07-28T00:00:00",
          "2023-07-31T00:00:00",
          "2023-08-01T00:00:00",
          "2023-08-02T00:00:00",
          "2023-08-03T00:00:00",
          "2023-08-04T00:00:00",
          "2023-08-07T00:00:00",
          "2023-08-08T00:00:00",
          "2023-08-09T00:00:00",
          "2023-08-10T00:00:00",
          "2023-08-11T00:00:00",
          "2023-08-14T00:00:00",
          "2023-08-16T00:00:00",
          "2023-08-17T00:00:00",
          "2023-08-18T00:00:00",
          "2023-08-21T00:00:00",
          "2023-08-22T00:00:00",
          "2023-08-23T00:00:00",
          "2023-08-24T00:00:00",
          "2023-08-25T00:00:00",
          "2023-08-28T00:00:00",
          "2023-08-29T00:00:00",
          "2023-08-30T00:00:00",
          "2023-08-31T00:00:00",
          "2023-09-01T00:00:00",
          "2023-09-04T00:00:00",
          "2023-09-05T00:00:00",
          "2023-09-06T00:00:00",
          "2023-09-07T00:00:00",
          "2023-09-08T00:00:00",
          "2023-09-11T00:00:00",
          "2023-09-12T00:00:00",
          "2023-09-13T00:00:00",
          "2023-09-14T00:00:00",
          "2023-09-15T00:00:00",
          "2023-09-18T00:00:00",
          "2023-09-20T00:00:00",
          "2023-09-21T00:00:00",
          "2023-09-22T00:00:00",
          "2023-09-25T00:00:00",
          "2023-09-26T00:00:00",
          "2023-09-27T00:00:00",
          "2023-09-28T00:00:00",
          "2023-09-29T00:00:00",
          "2023-10-03T00:00:00",
          "2023-10-04T00:00:00",
          "2023-10-05T00:00:00",
          "2023-10-06T00:00:00",
          "2023-10-09T00:00:00",
          "2023-10-10T00:00:00",
          "2023-10-11T00:00:00",
          "2023-10-12T00:00:00",
          "2023-10-13T00:00:00",
          "2023-10-16T00:00:00",
          "2023-10-17T00:00:00",
          "2023-10-18T00:00:00",
          "2023-10-19T00:00:00",
          "2023-10-20T00:00:00",
          "2023-10-23T00:00:00",
          "2023-10-25T00:00:00",
          "2023-10-26T00:00:00",
          "2023-10-27T00:00:00",
          "2023-10-30T00:00:00",
          "2023-10-31T00:00:00",
          "2023-11-01T00:00:00",
          "2023-11-02T00:00:00",
          "2023-11-03T00:00:00",
          "2023-11-06T00:00:00",
          "2023-11-07T00:00:00",
          "2023-11-08T00:00:00",
          "2023-11-09T00:00:00",
          "2023-11-10T00:00:00",
          "2023-11-13T00:00:00",
          "2023-11-15T00:00:00",
          "2023-11-16T00:00:00",
          "2023-11-17T00:00:00",
          "2023-11-20T00:00:00",
          "2023-11-21T00:00:00",
          "2023-11-22T00:00:00",
          "2023-11-23T00:00:00",
          "2023-11-24T00:00:00",
          "2023-11-28T00:00:00",
          "2023-11-29T00:00:00",
          "2023-11-30T00:00:00",
          "2023-12-01T00:00:00",
          "2023-12-04T00:00:00",
          "2023-12-05T00:00:00",
          "2023-12-06T00:00:00",
          "2023-12-07T00:00:00",
          "2023-12-08T00:00:00",
          "2023-12-11T00:00:00",
          "2023-12-12T00:00:00",
          "2023-12-13T00:00:00",
          "2023-12-14T00:00:00",
          "2023-12-15T00:00:00",
          "2023-12-18T00:00:00",
          "2023-12-19T00:00:00",
          "2023-12-20T00:00:00",
          "2023-12-21T00:00:00",
          "2023-12-22T00:00:00",
          "2023-12-26T00:00:00",
          "2023-12-27T00:00:00",
          "2023-12-28T00:00:00",
          "2023-12-29T00:00:00",
          "2024-01-01T00:00:00",
          "2024-01-02T00:00:00",
          "2024-01-03T00:00:00",
          "2024-01-04T00:00:00",
          "2024-01-05T00:00:00",
          "2024-01-08T00:00:00",
          "2024-01-09T00:00:00",
          "2024-01-10T00:00:00",
          "2024-01-11T00:00:00",
          "2024-01-12T00:00:00",
          "2024-01-16T00:00:00",
          "2024-01-17T00:00:00",
          "2024-01-18T00:00:00",
          "2024-01-19T00:00:00",
          "2024-01-23T00:00:00",
          "2024-01-24T00:00:00",
          "2024-01-25T00:00:00",
          "2024-01-29T00:00:00",
          "2024-01-30T00:00:00",
          "2024-01-31T00:00:00",
          "2024-02-01T00:00:00",
          "2024-02-02T00:00:00",
          "2024-02-05T00:00:00",
          "2024-02-06T00:00:00",
          "2024-02-07T00:00:00",
          "2024-02-08T00:00:00",
          "2024-02-09T00:00:00",
          "2024-02-12T00:00:00",
          "2024-02-13T00:00:00",
          "2024-02-14T00:00:00",
          "2024-02-15T00:00:00",
          "2024-02-16T00:00:00",
          "2024-02-19T00:00:00",
          "2024-02-20T00:00:00",
          "2024-02-21T00:00:00",
          "2024-02-22T00:00:00",
          "2024-02-23T00:00:00",
          "2024-02-26T00:00:00",
          "2024-02-27T00:00:00",
          "2024-02-28T00:00:00",
          "2024-02-29T00:00:00",
          "2024-03-01T00:00:00",
          "2024-03-04T00:00:00",
          "2024-03-05T00:00:00",
          "2024-03-06T00:00:00",
          "2024-03-07T00:00:00",
          "2024-03-11T00:00:00",
          "2024-03-12T00:00:00",
          "2024-03-13T00:00:00",
          "2024-03-14T00:00:00",
          "2024-03-15T00:00:00",
          "2024-03-18T00:00:00",
          "2024-03-19T00:00:00",
          "2024-03-20T00:00:00",
          "2024-03-21T00:00:00",
          "2024-03-22T00:00:00",
          "2024-03-26T00:00:00",
          "2024-03-27T00:00:00",
          "2024-03-28T00:00:00",
          "2024-04-01T00:00:00",
          "2024-04-02T00:00:00",
          "2024-04-03T00:00:00",
          "2024-04-04T00:00:00",
          "2024-04-05T00:00:00",
          "2024-04-08T00:00:00",
          "2024-04-09T00:00:00",
          "2024-04-10T00:00:00",
          "2024-04-12T00:00:00",
          "2024-04-15T00:00:00",
          "2024-04-16T00:00:00",
          "2024-04-18T00:00:00",
          "2024-04-19T00:00:00",
          "2024-04-22T00:00:00",
          "2024-04-23T00:00:00",
          "2024-04-24T00:00:00",
          "2024-04-25T00:00:00",
          "2024-04-26T00:00:00",
          "2024-04-29T00:00:00",
          "2024-04-30T00:00:00",
          "2024-05-02T00:00:00",
          "2024-05-03T00:00:00",
          "2024-05-06T00:00:00",
          "2024-05-07T00:00:00",
          "2024-05-08T00:00:00",
          "2024-05-09T00:00:00",
          "2024-05-10T00:00:00",
          "2024-05-13T00:00:00",
          "2024-05-14T00:00:00",
          "2024-05-15T00:00:00",
          "2024-05-16T00:00:00",
          "2024-05-17T00:00:00",
          "2024-05-21T00:00:00",
          "2024-05-22T00:00:00",
          "2024-05-23T00:00:00",
          "2024-05-24T00:00:00",
          "2024-05-27T00:00:00",
          "2024-05-28T00:00:00",
          "2024-05-29T00:00:00",
          "2024-05-30T00:00:00",
          "2024-05-31T00:00:00",
          "2024-06-03T00:00:00",
          "2024-06-04T00:00:00",
          "2024-06-05T00:00:00",
          "2024-06-06T00:00:00",
          "2024-06-07T00:00:00",
          "2024-06-10T00:00:00",
          "2024-06-11T00:00:00",
          "2024-06-12T00:00:00",
          "2024-06-13T00:00:00",
          "2024-06-14T00:00:00",
          "2024-06-18T00:00:00",
          "2024-06-19T00:00:00",
          "2024-06-20T00:00:00",
          "2024-06-21T00:00:00",
          "2024-06-24T00:00:00",
          "2024-06-25T00:00:00",
          "2024-06-26T00:00:00",
          "2024-06-27T00:00:00",
          "2024-06-28T00:00:00",
          "2024-07-01T00:00:00",
          "2024-07-02T00:00:00",
          "2024-07-03T00:00:00",
          "2024-07-04T00:00:00",
          "2024-07-05T00:00:00",
          "2024-07-08T00:00:00",
          "2024-07-09T00:00:00",
          "2024-07-10T00:00:00",
          "2024-07-11T00:00:00",
          "2024-07-12T00:00:00",
          "2024-07-15T00:00:00",
          "2024-07-16T00:00:00",
          "2024-07-18T00:00:00",
          "2024-07-19T00:00:00",
          "2024-07-22T00:00:00",
          "2024-07-23T00:00:00",
          "2024-07-24T00:00:00",
          "2024-07-25T00:00:00",
          "2024-07-26T00:00:00",
          "2024-07-29T00:00:00",
          "2024-07-30T00:00:00",
          "2024-07-31T00:00:00",
          "2024-08-01T00:00:00",
          "2024-08-02T00:00:00",
          "2024-08-05T00:00:00",
          "2024-08-06T00:00:00",
          "2024-08-07T00:00:00",
          "2024-08-08T00:00:00",
          "2024-08-09T00:00:00",
          "2024-08-12T00:00:00",
          "2024-08-13T00:00:00",
          "2024-08-14T00:00:00",
          "2024-08-16T00:00:00",
          "2024-08-19T00:00:00",
          "2024-08-20T00:00:00",
          "2024-08-21T00:00:00",
          "2024-08-22T00:00:00",
          "2024-08-23T00:00:00"
         ],
         "xaxis": "x",
         "y": [
          -0.006634530399672291,
          -0.007902214396321992,
          -0.008232093659936712,
          -0.002455177798992441,
          -0.0037153481018334213,
          -0.004611328773491937,
          0.0005008860479874264,
          -0.00015883302199982713,
          -0.008198087398157906,
          -0.013240607473147734,
          -0.011082862122816195,
          -0.010767091778918068,
          -0.010819252786996646,
          -0.008852758667530193,
          -0.012645244573636728,
          -0.015146606382745047,
          -0.01644638549475044,
          -0.015406721658303996,
          -0.020058704628567462,
          -0.022903278213271823,
          -0.02084785966120863,
          -0.01654249254705952,
          -0.014567940289303105,
          -0.013707913826948186,
          -0.01775571695957076,
          -0.01735610568784831,
          -0.01375652969212294,
          -0.00969696614476322,
          -0.010520112324033612,
          -0.004946142341131008,
          0.00008947458278245508,
          0.0007948563150031623,
          0.001084021207645612,
          0.004341060923226921,
          0.009261244448916293,
          0.013408684450567431,
          0.00595984352511651,
          0.008423567654423944,
          0.010989113113221073,
          0.01416078114700637,
          0.01666425871208203,
          0.012905012759266227,
          0.006263569698352709,
          0.004445383538127113,
          0.004585326208841637,
          0.00246818633300233,
          0.002437355242616148,
          -0.003755501395785556,
          -0.00019990743890748678,
          -0.006781119043587988,
          -0.016075108765925335,
          -0.015013869452868018,
          -0.011287781718066145,
          -0.009592803500660253,
          -0.004565844219826202,
          0.0013507729974998797,
          0.004582941878417607,
          0.004437115908673733,
          0.012604056933415056,
          0.015761010851946727,
          0.017334651348126576,
          0.01771410064118692,
          0.020187372360175898,
          0.01299058169600889,
          0.007870906976717051,
          0.007328853990466436,
          0.010924561754618426,
          0.016339662320484293,
          0.016304561400086466,
          0.010886866519551744,
          0.01610641509618706,
          0.01825202580859585,
          0.022440283996655694,
          0.019259756680327082,
          0.020715044376875387,
          0.015505611761797003,
          0.020347289715895132,
          0.018937320940621852,
          0.029538627052620486,
          0.030678863136530787,
          0.03466067994676485,
          0.031080464328906862,
          0.03441275158962092,
          0.038194649788036716,
          0.03643030004528013,
          0.03788692749168765,
          0.04195738518545191,
          0.05424890769982448,
          0.056802483549890585,
          0.06430488818347055,
          0.07924329522056038,
          0.07649039254718015,
          0.07809244627051393,
          0.08035809159283551,
          0.07948946191223283,
          0.07214391518994992,
          0.06852249203606343,
          0.07101073497564712,
          0.085486608362674,
          0.0926189092067489,
          0.08906511575405099,
          0.09134497259963859,
          0.08337047309901673,
          0.08854353520949923,
          0.09384134298378602,
          0.10031844945613785,
          0.10540070862239324,
          0.11161781641935548,
          0.1086070438724223,
          0.11117667286495327,
          0.11151641318901012,
          0.10502744430259034,
          0.10676353715973053,
          0.1063583646883318,
          0.09940076896619704,
          0.10219393667412832,
          0.10104389845276521,
          0.1005125514731426,
          0.10755978651788009,
          0.11243651363753822,
          0.1007835611796824,
          0.09718858144369541,
          0.10607882669377515,
          0.09627193668239901,
          0.10366285561327693,
          0.1011122149785649,
          0.1105850589422103,
          0.11003919801552497,
          0.113601635422026,
          0.11438578183323952,
          0.12182297930402602,
          0.11685906308448626,
          0.11920221721611153,
          0.1218691229330958,
          0.12066672613734787,
          0.1188430938343398,
          0.10923699360584911,
          0.11094644493676484,
          0.10833272268433768,
          0.11377059299796716,
          0.11754822366965635,
          0.12201407844103863,
          0.12048560172398305,
          0.11704857427497027,
          0.1227673114596847,
          0.12047702666322722,
          0.12270432041931363,
          0.12376084952861748,
          0.11718701406036872,
          0.11943078785888157,
          0.12823591101364404,
          0.14314276737595805,
          0.15031913910328043,
          0.15081332217272808,
          0.15933311798266475,
          0.16273101672392348,
          0.15878145953611378,
          0.14373930122952544,
          0.15122736079960195,
          0.14598553899041444,
          0.14332064427046537,
          0.14071241786525596,
          0.14270828042711234,
          0.15940976035441598,
          0.15494215026649383,
          0.15811266824544432,
          0.15824481124278403,
          0.16468009404884612,
          0.18459508540574696,
          0.18729072973365213,
          0.18847952962569314,
          0.19342301171630277,
          0.1909966695615125,
          0.20516346280220318,
          0.20764752884446958,
          0.21061174979389397,
          0.22037812326621015,
          0.20984838042274095,
          0.21263212298590894,
          0.20921908059489638,
          0.21123040713587812,
          0.20929929677672268,
          0.1962107657821871,
          0.20353716150914447,
          0.20630426743472047,
          0.2128563780445528,
          0.2149814164925839,
          0.2108101708043058,
          0.210774045245774,
          0.20572122398989373,
          0.20734953614036922,
          0.20437473108726684,
          0.2040345689426054,
          0.1964350155683753,
          0.21074050574385744,
          0.205385265419742,
          0.2074251703788371,
          0.2139291433870708,
          0.2210927014438781,
          0.221259605724473,
          0.22956808905530607,
          0.23118727251759544,
          0.2295384845119649,
          0.2236471164508406,
          0.22538640235314839,
          0.22545881742848842,
          0.2231297973804473,
          0.2158787825108042,
          0.2214711853896805,
          0.22684031307696548,
          0.21440867758975235,
          0.21581233708996525,
          0.22983964809501392,
          0.2354078044925603,
          0.22738052283714913,
          0.2313877119941375,
          0.23588464995765737,
          0.24112313719554918,
          0.2430084900284965,
          0.24585065082121105,
          0.24804266120994092,
          0.25296399570873346,
          0.25423729996175204,
          0.2476542459821082,
          0.24850384937729322,
          0.24939668137235468,
          0.2503726162047841,
          0.2545819273746105,
          0.25457073454813345,
          0.25663159204394087,
          0.2626615535160468,
          0.2669630916667725,
          0.27026398223528936,
          0.2722122535589195,
          0.2733229957708863,
          0.27384660046141707,
          0.27678341947339263,
          0.2756067795821029,
          0.28039377317586084,
          0.2836592437161215,
          0.2859181370942001,
          0.2729041372825254,
          0.2705887960591725,
          0.2565888899694739,
          0.2506688833817612,
          0.243314858876307,
          0.25379160617621227,
          0.2479423502449266,
          0.24456095280366386,
          0.24757693369347997,
          0.25409892753638275,
          0.24751907162669776,
          0.2203772889766662,
          0.2190821155246338,
          0.22533395787104327,
          0.2198744534067478,
          0.23313219016500134,
          0.2351065837385094,
          0.23558420656294946,
          0.23795063670027075,
          0.247221442462776,
          0.25461805605390364,
          0.26062410152958815,
          0.25889512152321503,
          0.2606671070653726,
          0.25836730106957734
         ],
         "yaxis": "y"
        },
        {
         "hovertemplate": "variable=HierarchicalRiskParity<br>index=%{x}<br>value=%{y}<extra></extra>",
         "legendgroup": "HierarchicalRiskParity",
         "line": {
          "color": "#ab63fa",
          "dash": "solid"
         },
         "marker": {
          "symbol": "circle"
         },
         "mode": "lines",
         "name": "HierarchicalRiskParity",
         "showlegend": true,
         "type": "scattergl",
         "x": [
          "2023-07-21T00:00:00",
          "2023-07-24T00:00:00",
          "2023-07-25T00:00:00",
          "2023-07-26T00:00:00",
          "2023-07-27T00:00:00",
          "2023-07-28T00:00:00",
          "2023-07-31T00:00:00",
          "2023-08-01T00:00:00",
          "2023-08-02T00:00:00",
          "2023-08-03T00:00:00",
          "2023-08-04T00:00:00",
          "2023-08-07T00:00:00",
          "2023-08-08T00:00:00",
          "2023-08-09T00:00:00",
          "2023-08-10T00:00:00",
          "2023-08-11T00:00:00",
          "2023-08-14T00:00:00",
          "2023-08-16T00:00:00",
          "2023-08-17T00:00:00",
          "2023-08-18T00:00:00",
          "2023-08-21T00:00:00",
          "2023-08-22T00:00:00",
          "2023-08-23T00:00:00",
          "2023-08-24T00:00:00",
          "2023-08-25T00:00:00",
          "2023-08-28T00:00:00",
          "2023-08-29T00:00:00",
          "2023-08-30T00:00:00",
          "2023-08-31T00:00:00",
          "2023-09-01T00:00:00",
          "2023-09-04T00:00:00",
          "2023-09-05T00:00:00",
          "2023-09-06T00:00:00",
          "2023-09-07T00:00:00",
          "2023-09-08T00:00:00",
          "2023-09-11T00:00:00",
          "2023-09-12T00:00:00",
          "2023-09-13T00:00:00",
          "2023-09-14T00:00:00",
          "2023-09-15T00:00:00",
          "2023-09-18T00:00:00",
          "2023-09-20T00:00:00",
          "2023-09-21T00:00:00",
          "2023-09-22T00:00:00",
          "2023-09-25T00:00:00",
          "2023-09-26T00:00:00",
          "2023-09-27T00:00:00",
          "2023-09-28T00:00:00",
          "2023-09-29T00:00:00",
          "2023-10-03T00:00:00",
          "2023-10-04T00:00:00",
          "2023-10-05T00:00:00",
          "2023-10-06T00:00:00",
          "2023-10-09T00:00:00",
          "2023-10-10T00:00:00",
          "2023-10-11T00:00:00",
          "2023-10-12T00:00:00",
          "2023-10-13T00:00:00",
          "2023-10-16T00:00:00",
          "2023-10-17T00:00:00",
          "2023-10-18T00:00:00",
          "2023-10-19T00:00:00",
          "2023-10-20T00:00:00",
          "2023-10-23T00:00:00",
          "2023-10-25T00:00:00",
          "2023-10-26T00:00:00",
          "2023-10-27T00:00:00",
          "2023-10-30T00:00:00",
          "2023-10-31T00:00:00",
          "2023-11-01T00:00:00",
          "2023-11-02T00:00:00",
          "2023-11-03T00:00:00",
          "2023-11-06T00:00:00",
          "2023-11-07T00:00:00",
          "2023-11-08T00:00:00",
          "2023-11-09T00:00:00",
          "2023-11-10T00:00:00",
          "2023-11-13T00:00:00",
          "2023-11-15T00:00:00",
          "2023-11-16T00:00:00",
          "2023-11-17T00:00:00",
          "2023-11-20T00:00:00",
          "2023-11-21T00:00:00",
          "2023-11-22T00:00:00",
          "2023-11-23T00:00:00",
          "2023-11-24T00:00:00",
          "2023-11-28T00:00:00",
          "2023-11-29T00:00:00",
          "2023-11-30T00:00:00",
          "2023-12-01T00:00:00",
          "2023-12-04T00:00:00",
          "2023-12-05T00:00:00",
          "2023-12-06T00:00:00",
          "2023-12-07T00:00:00",
          "2023-12-08T00:00:00",
          "2023-12-11T00:00:00",
          "2023-12-12T00:00:00",
          "2023-12-13T00:00:00",
          "2023-12-14T00:00:00",
          "2023-12-15T00:00:00",
          "2023-12-18T00:00:00",
          "2023-12-19T00:00:00",
          "2023-12-20T00:00:00",
          "2023-12-21T00:00:00",
          "2023-12-22T00:00:00",
          "2023-12-26T00:00:00",
          "2023-12-27T00:00:00",
          "2023-12-28T00:00:00",
          "2023-12-29T00:00:00",
          "2024-01-01T00:00:00",
          "2024-01-02T00:00:00",
          "2024-01-03T00:00:00",
          "2024-01-04T00:00:00",
          "2024-01-05T00:00:00",
          "2024-01-08T00:00:00",
          "2024-01-09T00:00:00",
          "2024-01-10T00:00:00",
          "2024-01-11T00:00:00",
          "2024-01-12T00:00:00",
          "2024-01-16T00:00:00",
          "2024-01-17T00:00:00",
          "2024-01-18T00:00:00",
          "2024-01-19T00:00:00",
          "2024-01-23T00:00:00",
          "2024-01-24T00:00:00",
          "2024-01-25T00:00:00",
          "2024-01-29T00:00:00",
          "2024-01-30T00:00:00",
          "2024-01-31T00:00:00",
          "2024-02-01T00:00:00",
          "2024-02-02T00:00:00",
          "2024-02-05T00:00:00",
          "2024-02-06T00:00:00",
          "2024-02-07T00:00:00",
          "2024-02-08T00:00:00",
          "2024-02-09T00:00:00",
          "2024-02-12T00:00:00",
          "2024-02-13T00:00:00",
          "2024-02-14T00:00:00",
          "2024-02-15T00:00:00",
          "2024-02-16T00:00:00",
          "2024-02-19T00:00:00",
          "2024-02-20T00:00:00",
          "2024-02-21T00:00:00",
          "2024-02-22T00:00:00",
          "2024-02-23T00:00:00",
          "2024-02-26T00:00:00",
          "2024-02-27T00:00:00",
          "2024-02-28T00:00:00",
          "2024-02-29T00:00:00",
          "2024-03-01T00:00:00",
          "2024-03-04T00:00:00",
          "2024-03-05T00:00:00",
          "2024-03-06T00:00:00",
          "2024-03-07T00:00:00",
          "2024-03-11T00:00:00",
          "2024-03-12T00:00:00",
          "2024-03-13T00:00:00",
          "2024-03-14T00:00:00",
          "2024-03-15T00:00:00",
          "2024-03-18T00:00:00",
          "2024-03-19T00:00:00",
          "2024-03-20T00:00:00",
          "2024-03-21T00:00:00",
          "2024-03-22T00:00:00",
          "2024-03-26T00:00:00",
          "2024-03-27T00:00:00",
          "2024-03-28T00:00:00",
          "2024-04-01T00:00:00",
          "2024-04-02T00:00:00",
          "2024-04-03T00:00:00",
          "2024-04-04T00:00:00",
          "2024-04-05T00:00:00",
          "2024-04-08T00:00:00",
          "2024-04-09T00:00:00",
          "2024-04-10T00:00:00",
          "2024-04-12T00:00:00",
          "2024-04-15T00:00:00",
          "2024-04-16T00:00:00",
          "2024-04-18T00:00:00",
          "2024-04-19T00:00:00",
          "2024-04-22T00:00:00",
          "2024-04-23T00:00:00",
          "2024-04-24T00:00:00",
          "2024-04-25T00:00:00",
          "2024-04-26T00:00:00",
          "2024-04-29T00:00:00",
          "2024-04-30T00:00:00",
          "2024-05-02T00:00:00",
          "2024-05-03T00:00:00",
          "2024-05-06T00:00:00",
          "2024-05-07T00:00:00",
          "2024-05-08T00:00:00",
          "2024-05-09T00:00:00",
          "2024-05-10T00:00:00",
          "2024-05-13T00:00:00",
          "2024-05-14T00:00:00",
          "2024-05-15T00:00:00",
          "2024-05-16T00:00:00",
          "2024-05-17T00:00:00",
          "2024-05-21T00:00:00",
          "2024-05-22T00:00:00",
          "2024-05-23T00:00:00",
          "2024-05-24T00:00:00",
          "2024-05-27T00:00:00",
          "2024-05-28T00:00:00",
          "2024-05-29T00:00:00",
          "2024-05-30T00:00:00",
          "2024-05-31T00:00:00",
          "2024-06-03T00:00:00",
          "2024-06-04T00:00:00",
          "2024-06-05T00:00:00",
          "2024-06-06T00:00:00",
          "2024-06-07T00:00:00",
          "2024-06-10T00:00:00",
          "2024-06-11T00:00:00",
          "2024-06-12T00:00:00",
          "2024-06-13T00:00:00",
          "2024-06-14T00:00:00",
          "2024-06-18T00:00:00",
          "2024-06-19T00:00:00",
          "2024-06-20T00:00:00",
          "2024-06-21T00:00:00",
          "2024-06-24T00:00:00",
          "2024-06-25T00:00:00",
          "2024-06-26T00:00:00",
          "2024-06-27T00:00:00",
          "2024-06-28T00:00:00",
          "2024-07-01T00:00:00",
          "2024-07-02T00:00:00",
          "2024-07-03T00:00:00",
          "2024-07-04T00:00:00",
          "2024-07-05T00:00:00",
          "2024-07-08T00:00:00",
          "2024-07-09T00:00:00",
          "2024-07-10T00:00:00",
          "2024-07-11T00:00:00",
          "2024-07-12T00:00:00",
          "2024-07-15T00:00:00",
          "2024-07-16T00:00:00",
          "2024-07-18T00:00:00",
          "2024-07-19T00:00:00",
          "2024-07-22T00:00:00",
          "2024-07-23T00:00:00",
          "2024-07-24T00:00:00",
          "2024-07-25T00:00:00",
          "2024-07-26T00:00:00",
          "2024-07-29T00:00:00",
          "2024-07-30T00:00:00",
          "2024-07-31T00:00:00",
          "2024-08-01T00:00:00",
          "2024-08-02T00:00:00",
          "2024-08-05T00:00:00",
          "2024-08-06T00:00:00",
          "2024-08-07T00:00:00",
          "2024-08-08T00:00:00",
          "2024-08-09T00:00:00",
          "2024-08-12T00:00:00",
          "2024-08-13T00:00:00",
          "2024-08-14T00:00:00",
          "2024-08-16T00:00:00",
          "2024-08-19T00:00:00",
          "2024-08-20T00:00:00",
          "2024-08-21T00:00:00",
          "2024-08-22T00:00:00",
          "2024-08-23T00:00:00"
         ],
         "xaxis": "x",
         "y": [
          -0.003961878682145464,
          -0.0028226942006650403,
          -0.0016142543985246253,
          0.0038170683442630172,
          0.004731885815924835,
          0.007213081685248924,
          0.015179283577537853,
          0.01646589805537461,
          0.005765241505137266,
          0.0016465112764751672,
          0.005826543620834774,
          0.006791714552872384,
          0.006859708416980821,
          0.009733648098327824,
          0.004564160413661212,
          0.005299332444805883,
          0.002328921440356269,
          0.004088978602197752,
          0.0006679852871365592,
          -0.0036180974602947036,
          0.0012858580726706624,
          0.008263322015715663,
          0.010772024658100596,
          0.012343962024274385,
          0.006274592440735144,
          0.008929327832025435,
          0.013244403511435906,
          0.018621752231557744,
          0.019536135033330505,
          0.027840427204780138,
          0.03555624271977601,
          0.037683778049826186,
          0.03757904814415551,
          0.041799652656848686,
          0.047939604264700085,
          0.052681654280792314,
          0.03799267225146899,
          0.041031574169904536,
          0.04601552637782473,
          0.048960648777601465,
          0.051033911671924906,
          0.049217025419294874,
          0.04086645655592748,
          0.03854851823420336,
          0.038496542092626554,
          0.03816106146841562,
          0.038668496364178004,
          0.03296834162895053,
          0.039404219828241674,
          0.034331099588456926,
          0.02378665735132706,
          0.025781444860629995,
          0.029228415843192343,
          0.026812993367601946,
          0.036028628708358344,
          0.04170182441783421,
          0.04645318582369023,
          0.044510501436478216,
          0.050600393333288,
          0.05510625781244737,
          0.05379142294768458,
          0.05297970111745958,
          0.050547070145827495,
          0.03712896361751907,
          0.034963685244112766,
          0.030074106048609724,
          0.03628210727297999,
          0.03948492987236047,
          0.04002828167334418,
          0.03652318889961826,
          0.04503220082933019,
          0.04964403464044021,
          0.05698652309769046,
          0.05543123251139103,
          0.059620766772011044,
          0.05657071838927016,
          0.06022932853520651,
          0.06418297180527086,
          0.07724845360017042,
          0.07938024323116777,
          0.08275674093039603,
          0.0809570166625989,
          0.08506890117062038,
          0.08617595510750717,
          0.0869072908161338,
          0.08777998718608748,
          0.09065459723170835,
          0.1004907118519576,
          0.10416017931062788,
          0.11088545889627824,
          0.1252875979035885,
          0.12327701870746774,
          0.124836139869987,
          0.12739384104041426,
          0.12634663646417146,
          0.12370646594962192,
          0.1217945754368949,
          0.12616891889220744,
          0.13989609248121831,
          0.14629877412493902,
          0.1448204928313374,
          0.14667667405200685,
          0.1349078315425174,
          0.14164629487527278,
          0.1481958315193485,
          0.15426419878255562,
          0.1583569636629715,
          0.1650341410065801,
          0.16323186354129596,
          0.16710301532253313,
          0.1664931438672862,
          0.16228284535778187,
          0.16552797769029057,
          0.16441700038335402,
          0.15923896125749296,
          0.16418659420097034,
          0.16363367381983926,
          0.16546996647270112,
          0.16965470576219963,
          0.1739580577221328,
          0.16580789489555275,
          0.16250809409429234,
          0.17368917201818224,
          0.16608702364253955,
          0.1763855295112036,
          0.17661327536540128,
          0.18824864056642343,
          0.1874703377837272,
          0.19303317622402133,
          0.19337833795278703,
          0.20365717157796892,
          0.20165242388430446,
          0.20572659062072673,
          0.20616990335361002,
          0.2088543312841757,
          0.20331287631784883,
          0.1849342975689422,
          0.1884632586061788,
          0.19511938500618084,
          0.20778210078365464,
          0.21135719137501832,
          0.21484512833461186,
          0.2128613365389565,
          0.20479533349081497,
          0.213911442413686,
          0.21506677996798335,
          0.2149795409709215,
          0.2159580883300271,
          0.2061078847686544,
          0.20694839387282804,
          0.21866679600098937,
          0.23231532962124718,
          0.23520566071316662,
          0.23102894665435902,
          0.2364000843189803,
          0.2328260628894077,
          0.2241576792072154,
          0.19819681668743405,
          0.20775879487503696,
          0.2013152267719744,
          0.20007738598812194,
          0.19337618119549654,
          0.19610278776183612,
          0.2160793718353094,
          0.2180251550134745,
          0.22102401571268712,
          0.22127038811369462,
          0.22795751688221125,
          0.24489197846130686,
          0.24904773329254767,
          0.2520262880760715,
          0.2551833268055301,
          0.2552442737067894,
          0.2641625052072671,
          0.2640418191569629,
          0.26992044917513913,
          0.27210877577117215,
          0.2624654575390823,
          0.2625340422457954,
          0.2560295918279314,
          0.2541392971316721,
          0.2571755865613057,
          0.2548043153017135,
          0.26231012921304325,
          0.2664238051426372,
          0.27339755009825717,
          0.2759163134353473,
          0.27508658039357164,
          0.2769368666347567,
          0.27559068302721257,
          0.2724119070233724,
          0.26383803385095844,
          0.2679274182017499,
          0.2543130407706381,
          0.26599760157386065,
          0.26174553900128095,
          0.268121115318582,
          0.27745774862614797,
          0.28436898126665905,
          0.2881540740550707,
          0.3022647590647663,
          0.30529211269481915,
          0.30587420756037753,
          0.30407419099986777,
          0.30447834076482616,
          0.3005399712906178,
          0.29892759239622274,
          0.2898875309510135,
          0.2960431321691794,
          0.31854546997082206,
          0.28122505102699336,
          0.27728934364482083,
          0.2974694347158244,
          0.30849665152004174,
          0.30735551940179023,
          0.3135582287923168,
          0.3218244657494541,
          0.3305287671975985,
          0.33230157870515403,
          0.33836649897551613,
          0.3367414147612886,
          0.3412997062302174,
          0.3399400951247211,
          0.3366277603216264,
          0.3368411037363564,
          0.33902413673151904,
          0.34001883402261524,
          0.3449786009059823,
          0.34694759256280616,
          0.3494540468964702,
          0.35542061283712467,
          0.3606515843823376,
          0.36672107576617863,
          0.37016690781232403,
          0.37247373403020956,
          0.371198436524033,
          0.3753160143229198,
          0.37308153871992594,
          0.37996430849872154,
          0.38176130604322184,
          0.3792923594976302,
          0.36202785789841135,
          0.3630668720272026,
          0.35469082267802243,
          0.3550803875981734,
          0.3492586854906513,
          0.3594594128670015,
          0.3598766538881662,
          0.36092123010707644,
          0.36334419417350156,
          0.36757758144422426,
          0.3578090061386576,
          0.3278362424554626,
          0.32163416928504646,
          0.33651875611204635,
          0.3304994776048784,
          0.34312470438436976,
          0.343859880001287,
          0.3405491426113663,
          0.34092103189433515,
          0.3554254863582643,
          0.3622634433730266,
          0.36911461955451486,
          0.36981870439964387,
          0.3728379524205879,
          0.36988184564338816
         ],
         "yaxis": "y"
        }
       ],
       "layout": {
        "legend": {
         "title": {
          "text": "Portfolios"
         },
         "tracegroupgap": 0
        },
        "margin": {
         "t": 60
        },
        "template": {
         "data": {
          "bar": [
           {
            "error_x": {
             "color": "#2a3f5f"
            },
            "error_y": {
             "color": "#2a3f5f"
            },
            "marker": {
             "line": {
              "color": "#E5ECF6",
              "width": 0.5
             },
             "pattern": {
              "fillmode": "overlay",
              "size": 10,
              "solidity": 0.2
             }
            },
            "type": "bar"
           }
          ],
          "barpolar": [
           {
            "marker": {
             "line": {
              "color": "#E5ECF6",
              "width": 0.5
             },
             "pattern": {
              "fillmode": "overlay",
              "size": 10,
              "solidity": 0.2
             }
            },
            "type": "barpolar"
           }
          ],
          "carpet": [
           {
            "aaxis": {
             "endlinecolor": "#2a3f5f",
             "gridcolor": "white",
             "linecolor": "white",
             "minorgridcolor": "white",
             "startlinecolor": "#2a3f5f"
            },
            "baxis": {
             "endlinecolor": "#2a3f5f",
             "gridcolor": "white",
             "linecolor": "white",
             "minorgridcolor": "white",
             "startlinecolor": "#2a3f5f"
            },
            "type": "carpet"
           }
          ],
          "choropleth": [
           {
            "colorbar": {
             "outlinewidth": 0,
             "ticks": ""
            },
            "type": "choropleth"
           }
          ],
          "contour": [
           {
            "colorbar": {
             "outlinewidth": 0,
             "ticks": ""
            },
            "colorscale": [
             [
              0,
              "#0d0887"
             ],
             [
              0.1111111111111111,
              "#46039f"
             ],
             [
              0.2222222222222222,
              "#7201a8"
             ],
             [
              0.3333333333333333,
              "#9c179e"
             ],
             [
              0.4444444444444444,
              "#bd3786"
             ],
             [
              0.5555555555555556,
              "#d8576b"
             ],
             [
              0.6666666666666666,
              "#ed7953"
             ],
             [
              0.7777777777777778,
              "#fb9f3a"
             ],
             [
              0.8888888888888888,
              "#fdca26"
             ],
             [
              1,
              "#f0f921"
             ]
            ],
            "type": "contour"
           }
          ],
          "contourcarpet": [
           {
            "colorbar": {
             "outlinewidth": 0,
             "ticks": ""
            },
            "type": "contourcarpet"
           }
          ],
          "heatmap": [
           {
            "colorbar": {
             "outlinewidth": 0,
             "ticks": ""
            },
            "colorscale": [
             [
              0,
              "#0d0887"
             ],
             [
              0.1111111111111111,
              "#46039f"
             ],
             [
              0.2222222222222222,
              "#7201a8"
             ],
             [
              0.3333333333333333,
              "#9c179e"
             ],
             [
              0.4444444444444444,
              "#bd3786"
             ],
             [
              0.5555555555555556,
              "#d8576b"
             ],
             [
              0.6666666666666666,
              "#ed7953"
             ],
             [
              0.7777777777777778,
              "#fb9f3a"
             ],
             [
              0.8888888888888888,
              "#fdca26"
             ],
             [
              1,
              "#f0f921"
             ]
            ],
            "type": "heatmap"
           }
          ],
          "heatmapgl": [
           {
            "colorbar": {
             "outlinewidth": 0,
             "ticks": ""
            },
            "colorscale": [
             [
              0,
              "#0d0887"
             ],
             [
              0.1111111111111111,
              "#46039f"
             ],
             [
              0.2222222222222222,
              "#7201a8"
             ],
             [
              0.3333333333333333,
              "#9c179e"
             ],
             [
              0.4444444444444444,
              "#bd3786"
             ],
             [
              0.5555555555555556,
              "#d8576b"
             ],
             [
              0.6666666666666666,
              "#ed7953"
             ],
             [
              0.7777777777777778,
              "#fb9f3a"
             ],
             [
              0.8888888888888888,
              "#fdca26"
             ],
             [
              1,
              "#f0f921"
             ]
            ],
            "type": "heatmapgl"
           }
          ],
          "histogram": [
           {
            "marker": {
             "pattern": {
              "fillmode": "overlay",
              "size": 10,
              "solidity": 0.2
             }
            },
            "type": "histogram"
           }
          ],
          "histogram2d": [
           {
            "colorbar": {
             "outlinewidth": 0,
             "ticks": ""
            },
            "colorscale": [
             [
              0,
              "#0d0887"
             ],
             [
              0.1111111111111111,
              "#46039f"
             ],
             [
              0.2222222222222222,
              "#7201a8"
             ],
             [
              0.3333333333333333,
              "#9c179e"
             ],
             [
              0.4444444444444444,
              "#bd3786"
             ],
             [
              0.5555555555555556,
              "#d8576b"
             ],
             [
              0.6666666666666666,
              "#ed7953"
             ],
             [
              0.7777777777777778,
              "#fb9f3a"
             ],
             [
              0.8888888888888888,
              "#fdca26"
             ],
             [
              1,
              "#f0f921"
             ]
            ],
            "type": "histogram2d"
           }
          ],
          "histogram2dcontour": [
           {
            "colorbar": {
             "outlinewidth": 0,
             "ticks": ""
            },
            "colorscale": [
             [
              0,
              "#0d0887"
             ],
             [
              0.1111111111111111,
              "#46039f"
             ],
             [
              0.2222222222222222,
              "#7201a8"
             ],
             [
              0.3333333333333333,
              "#9c179e"
             ],
             [
              0.4444444444444444,
              "#bd3786"
             ],
             [
              0.5555555555555556,
              "#d8576b"
             ],
             [
              0.6666666666666666,
              "#ed7953"
             ],
             [
              0.7777777777777778,
              "#fb9f3a"
             ],
             [
              0.8888888888888888,
              "#fdca26"
             ],
             [
              1,
              "#f0f921"
             ]
            ],
            "type": "histogram2dcontour"
           }
          ],
          "mesh3d": [
           {
            "colorbar": {
             "outlinewidth": 0,
             "ticks": ""
            },
            "type": "mesh3d"
           }
          ],
          "parcoords": [
           {
            "line": {
             "colorbar": {
              "outlinewidth": 0,
              "ticks": ""
             }
            },
            "type": "parcoords"
           }
          ],
          "pie": [
           {
            "automargin": true,
            "type": "pie"
           }
          ],
          "scatter": [
           {
            "fillpattern": {
             "fillmode": "overlay",
             "size": 10,
             "solidity": 0.2
            },
            "type": "scatter"
           }
          ],
          "scatter3d": [
           {
            "line": {
             "colorbar": {
              "outlinewidth": 0,
              "ticks": ""
             }
            },
            "marker": {
             "colorbar": {
              "outlinewidth": 0,
              "ticks": ""
             }
            },
            "type": "scatter3d"
           }
          ],
          "scattercarpet": [
           {
            "marker": {
             "colorbar": {
              "outlinewidth": 0,
              "ticks": ""
             }
            },
            "type": "scattercarpet"
           }
          ],
          "scattergeo": [
           {
            "marker": {
             "colorbar": {
              "outlinewidth": 0,
              "ticks": ""
             }
            },
            "type": "scattergeo"
           }
          ],
          "scattergl": [
           {
            "marker": {
             "colorbar": {
              "outlinewidth": 0,
              "ticks": ""
             }
            },
            "type": "scattergl"
           }
          ],
          "scattermapbox": [
           {
            "marker": {
             "colorbar": {
              "outlinewidth": 0,
              "ticks": ""
             }
            },
            "type": "scattermapbox"
           }
          ],
          "scatterpolar": [
           {
            "marker": {
             "colorbar": {
              "outlinewidth": 0,
              "ticks": ""
             }
            },
            "type": "scatterpolar"
           }
          ],
          "scatterpolargl": [
           {
            "marker": {
             "colorbar": {
              "outlinewidth": 0,
              "ticks": ""
             }
            },
            "type": "scatterpolargl"
           }
          ],
          "scatterternary": [
           {
            "marker": {
             "colorbar": {
              "outlinewidth": 0,
              "ticks": ""
             }
            },
            "type": "scatterternary"
           }
          ],
          "surface": [
           {
            "colorbar": {
             "outlinewidth": 0,
             "ticks": ""
            },
            "colorscale": [
             [
              0,
              "#0d0887"
             ],
             [
              0.1111111111111111,
              "#46039f"
             ],
             [
              0.2222222222222222,
              "#7201a8"
             ],
             [
              0.3333333333333333,
              "#9c179e"
             ],
             [
              0.4444444444444444,
              "#bd3786"
             ],
             [
              0.5555555555555556,
              "#d8576b"
             ],
             [
              0.6666666666666666,
              "#ed7953"
             ],
             [
              0.7777777777777778,
              "#fb9f3a"
             ],
             [
              0.8888888888888888,
              "#fdca26"
             ],
             [
              1,
              "#f0f921"
             ]
            ],
            "type": "surface"
           }
          ],
          "table": [
           {
            "cells": {
             "fill": {
              "color": "#EBF0F8"
             },
             "line": {
              "color": "white"
             }
            },
            "header": {
             "fill": {
              "color": "#C8D4E3"
             },
             "line": {
              "color": "white"
             }
            },
            "type": "table"
           }
          ]
         },
         "layout": {
          "annotationdefaults": {
           "arrowcolor": "#2a3f5f",
           "arrowhead": 0,
           "arrowwidth": 1
          },
          "autotypenumbers": "strict",
          "coloraxis": {
           "colorbar": {
            "outlinewidth": 0,
            "ticks": ""
           }
          },
          "colorscale": {
           "diverging": [
            [
             0,
             "#8e0152"
            ],
            [
             0.1,
             "#c51b7d"
            ],
            [
             0.2,
             "#de77ae"
            ],
            [
             0.3,
             "#f1b6da"
            ],
            [
             0.4,
             "#fde0ef"
            ],
            [
             0.5,
             "#f7f7f7"
            ],
            [
             0.6,
             "#e6f5d0"
            ],
            [
             0.7,
             "#b8e186"
            ],
            [
             0.8,
             "#7fbc41"
            ],
            [
             0.9,
             "#4d9221"
            ],
            [
             1,
             "#276419"
            ]
           ],
           "sequential": [
            [
             0,
             "#0d0887"
            ],
            [
             0.1111111111111111,
             "#46039f"
            ],
            [
             0.2222222222222222,
             "#7201a8"
            ],
            [
             0.3333333333333333,
             "#9c179e"
            ],
            [
             0.4444444444444444,
             "#bd3786"
            ],
            [
             0.5555555555555556,
             "#d8576b"
            ],
            [
             0.6666666666666666,
             "#ed7953"
            ],
            [
             0.7777777777777778,
             "#fb9f3a"
            ],
            [
             0.8888888888888888,
             "#fdca26"
            ],
            [
             1,
             "#f0f921"
            ]
           ],
           "sequentialminus": [
            [
             0,
             "#0d0887"
            ],
            [
             0.1111111111111111,
             "#46039f"
            ],
            [
             0.2222222222222222,
             "#7201a8"
            ],
            [
             0.3333333333333333,
             "#9c179e"
            ],
            [
             0.4444444444444444,
             "#bd3786"
            ],
            [
             0.5555555555555556,
             "#d8576b"
            ],
            [
             0.6666666666666666,
             "#ed7953"
            ],
            [
             0.7777777777777778,
             "#fb9f3a"
            ],
            [
             0.8888888888888888,
             "#fdca26"
            ],
            [
             1,
             "#f0f921"
            ]
           ]
          },
          "colorway": [
           "#636efa",
           "#EF553B",
           "#00cc96",
           "#ab63fa",
           "#FFA15A",
           "#19d3f3",
           "#FF6692",
           "#B6E880",
           "#FF97FF",
           "#FECB52"
          ],
          "font": {
           "color": "#2a3f5f"
          },
          "geo": {
           "bgcolor": "white",
           "lakecolor": "white",
           "landcolor": "#E5ECF6",
           "showlakes": true,
           "showland": true,
           "subunitcolor": "white"
          },
          "hoverlabel": {
           "align": "left"
          },
          "hovermode": "closest",
          "mapbox": {
           "style": "light"
          },
          "paper_bgcolor": "white",
          "plot_bgcolor": "#E5ECF6",
          "polar": {
           "angularaxis": {
            "gridcolor": "white",
            "linecolor": "white",
            "ticks": ""
           },
           "bgcolor": "#E5ECF6",
           "radialaxis": {
            "gridcolor": "white",
            "linecolor": "white",
            "ticks": ""
           }
          },
          "scene": {
           "xaxis": {
            "backgroundcolor": "#E5ECF6",
            "gridcolor": "white",
            "gridwidth": 2,
            "linecolor": "white",
            "showbackground": true,
            "ticks": "",
            "zerolinecolor": "white"
           },
           "yaxis": {
            "backgroundcolor": "#E5ECF6",
            "gridcolor": "white",
            "gridwidth": 2,
            "linecolor": "white",
            "showbackground": true,
            "ticks": "",
            "zerolinecolor": "white"
           },
           "zaxis": {
            "backgroundcolor": "#E5ECF6",
            "gridcolor": "white",
            "gridwidth": 2,
            "linecolor": "white",
            "showbackground": true,
            "ticks": "",
            "zerolinecolor": "white"
           }
          },
          "shapedefaults": {
           "line": {
            "color": "#2a3f5f"
           }
          },
          "ternary": {
           "aaxis": {
            "gridcolor": "white",
            "linecolor": "white",
            "ticks": ""
           },
           "baxis": {
            "gridcolor": "white",
            "linecolor": "white",
            "ticks": ""
           },
           "bgcolor": "#E5ECF6",
           "caxis": {
            "gridcolor": "white",
            "linecolor": "white",
            "ticks": ""
           }
          },
          "title": {
           "x": 0.05
          },
          "xaxis": {
           "automargin": true,
           "gridcolor": "white",
           "linecolor": "white",
           "ticks": "",
           "title": {
            "standoff": 15
           },
           "zerolinecolor": "white",
           "zerolinewidth": 2
          },
          "yaxis": {
           "automargin": true,
           "gridcolor": "white",
           "linecolor": "white",
           "ticks": "",
           "title": {
            "standoff": 15
           },
           "zerolinecolor": "white",
           "zerolinewidth": 2
          }
         }
        },
        "title": {
         "text": "Cumulative Returns (non-compounded)"
        },
        "xaxis": {
         "anchor": "y",
         "domain": [
          0,
          1
         ],
         "title": {
          "text": "Observations"
         }
        },
        "yaxis": {
         "anchor": "x",
         "domain": [
          0,
          1
         ],
         "tickformat": ".2%",
         "title": {
          "text": "Cumulative Returns"
         }
        }
       }
      }
     },
     "metadata": {},
     "output_type": "display_data"
    }
   ],
   "source": [
    "pop.plot_cumulative_returns()"
   ]
  },
  {
   "cell_type": "code",
   "execution_count": 41,
   "metadata": {},
   "outputs": [
    {
     "data": {
      "application/vnd.plotly.v1+json": {
       "config": {
        "plotlyServerURL": "https://plot.ly"
       },
       "data": [
        {
         "hovertemplate": "variable=WalkForward<br>index=%{x}<br>value=%{y}<extra></extra>",
         "legendgroup": "WalkForward",
         "line": {
          "color": "#636efa",
          "dash": "solid"
         },
         "marker": {
          "symbol": "circle"
         },
         "mode": "lines",
         "name": "WalkForward",
         "orientation": "v",
         "showlegend": true,
         "type": "scatter",
         "x": [
          "2023-07-21T00:00:00",
          "2023-07-24T00:00:00",
          "2023-07-25T00:00:00",
          "2023-07-26T00:00:00",
          "2023-07-27T00:00:00",
          "2023-07-28T00:00:00",
          "2023-07-31T00:00:00",
          "2023-08-01T00:00:00",
          "2023-08-02T00:00:00",
          "2023-08-03T00:00:00",
          "2023-08-04T00:00:00",
          "2023-08-07T00:00:00",
          "2023-08-08T00:00:00",
          "2023-08-09T00:00:00",
          "2023-08-10T00:00:00",
          "2023-08-11T00:00:00",
          "2023-08-14T00:00:00",
          "2023-08-16T00:00:00",
          "2023-08-17T00:00:00",
          "2023-08-18T00:00:00",
          "2023-08-21T00:00:00",
          "2023-08-22T00:00:00",
          "2023-08-23T00:00:00",
          "2023-08-24T00:00:00",
          "2023-08-25T00:00:00",
          "2023-08-28T00:00:00",
          "2023-08-29T00:00:00",
          "2023-08-30T00:00:00",
          "2023-08-31T00:00:00",
          "2023-09-01T00:00:00",
          "2023-09-04T00:00:00",
          "2023-09-05T00:00:00",
          "2023-09-06T00:00:00",
          "2023-09-07T00:00:00",
          "2023-09-08T00:00:00",
          "2023-09-11T00:00:00",
          "2023-09-12T00:00:00",
          "2023-09-13T00:00:00",
          "2023-09-14T00:00:00",
          "2023-09-15T00:00:00",
          "2023-09-18T00:00:00",
          "2023-09-20T00:00:00",
          "2023-09-21T00:00:00",
          "2023-09-22T00:00:00",
          "2023-09-25T00:00:00",
          "2023-09-26T00:00:00",
          "2023-09-27T00:00:00",
          "2023-09-28T00:00:00",
          "2023-09-29T00:00:00",
          "2023-10-03T00:00:00",
          "2023-10-04T00:00:00",
          "2023-10-05T00:00:00",
          "2023-10-06T00:00:00",
          "2023-10-09T00:00:00",
          "2023-10-10T00:00:00",
          "2023-10-11T00:00:00",
          "2023-10-12T00:00:00",
          "2023-10-13T00:00:00",
          "2023-10-16T00:00:00",
          "2023-10-17T00:00:00",
          "2023-10-18T00:00:00",
          "2023-10-19T00:00:00",
          "2023-10-20T00:00:00",
          "2023-10-23T00:00:00",
          "2023-10-25T00:00:00",
          "2023-10-26T00:00:00",
          "2023-10-27T00:00:00",
          "2023-10-30T00:00:00",
          "2023-10-31T00:00:00",
          "2023-11-01T00:00:00",
          "2023-11-02T00:00:00",
          "2023-11-03T00:00:00",
          "2023-11-06T00:00:00",
          "2023-11-07T00:00:00",
          "2023-11-08T00:00:00",
          "2023-11-09T00:00:00",
          "2023-11-10T00:00:00",
          "2023-11-13T00:00:00",
          "2023-11-15T00:00:00",
          "2023-11-16T00:00:00",
          "2023-11-17T00:00:00",
          "2023-11-20T00:00:00",
          "2023-11-21T00:00:00",
          "2023-11-22T00:00:00",
          "2023-11-23T00:00:00",
          "2023-11-24T00:00:00",
          "2023-11-28T00:00:00",
          "2023-11-29T00:00:00",
          "2023-11-30T00:00:00",
          "2023-12-01T00:00:00",
          "2023-12-04T00:00:00",
          "2023-12-05T00:00:00",
          "2023-12-06T00:00:00",
          "2023-12-07T00:00:00",
          "2023-12-08T00:00:00",
          "2023-12-11T00:00:00",
          "2023-12-12T00:00:00",
          "2023-12-13T00:00:00",
          "2023-12-14T00:00:00",
          "2023-12-15T00:00:00",
          "2023-12-18T00:00:00",
          "2023-12-19T00:00:00",
          "2023-12-20T00:00:00",
          "2023-12-21T00:00:00",
          "2023-12-22T00:00:00",
          "2023-12-26T00:00:00",
          "2023-12-27T00:00:00",
          "2023-12-28T00:00:00",
          "2023-12-29T00:00:00",
          "2024-01-01T00:00:00",
          "2024-01-02T00:00:00",
          "2024-01-03T00:00:00",
          "2024-01-04T00:00:00",
          "2024-01-05T00:00:00",
          "2024-01-08T00:00:00",
          "2024-01-09T00:00:00",
          "2024-01-10T00:00:00",
          "2024-01-11T00:00:00",
          "2024-01-12T00:00:00",
          "2024-01-15T00:00:00",
          "2024-01-16T00:00:00",
          "2024-01-17T00:00:00",
          "2024-01-18T00:00:00",
          "2024-01-19T00:00:00",
          "2024-01-23T00:00:00",
          "2024-01-24T00:00:00",
          "2024-01-25T00:00:00",
          "2024-01-29T00:00:00",
          "2024-01-30T00:00:00",
          "2024-01-31T00:00:00",
          "2024-02-01T00:00:00",
          "2024-02-02T00:00:00",
          "2024-02-05T00:00:00",
          "2024-02-06T00:00:00",
          "2024-02-07T00:00:00",
          "2024-02-08T00:00:00",
          "2024-02-09T00:00:00",
          "2024-02-12T00:00:00",
          "2024-02-13T00:00:00",
          "2024-02-14T00:00:00",
          "2024-02-15T00:00:00",
          "2024-02-16T00:00:00",
          "2024-02-19T00:00:00",
          "2024-02-20T00:00:00",
          "2024-02-21T00:00:00",
          "2024-02-22T00:00:00",
          "2024-02-23T00:00:00",
          "2024-02-26T00:00:00",
          "2024-02-27T00:00:00",
          "2024-02-28T00:00:00",
          "2024-02-29T00:00:00",
          "2024-03-01T00:00:00",
          "2024-03-04T00:00:00",
          "2024-03-05T00:00:00",
          "2024-03-06T00:00:00",
          "2024-03-07T00:00:00",
          "2024-03-11T00:00:00",
          "2024-03-12T00:00:00",
          "2024-03-13T00:00:00",
          "2024-03-14T00:00:00",
          "2024-03-15T00:00:00",
          "2024-03-18T00:00:00",
          "2024-03-19T00:00:00",
          "2024-03-20T00:00:00",
          "2024-03-21T00:00:00",
          "2024-03-22T00:00:00",
          "2024-03-26T00:00:00",
          "2024-03-27T00:00:00",
          "2024-03-28T00:00:00",
          "2024-04-01T00:00:00",
          "2024-04-02T00:00:00",
          "2024-04-03T00:00:00",
          "2024-04-04T00:00:00",
          "2024-04-05T00:00:00",
          "2024-04-08T00:00:00",
          "2024-04-09T00:00:00",
          "2024-04-10T00:00:00",
          "2024-04-12T00:00:00",
          "2024-04-15T00:00:00",
          "2024-04-16T00:00:00",
          "2024-04-18T00:00:00",
          "2024-04-19T00:00:00",
          "2024-04-22T00:00:00",
          "2024-04-23T00:00:00",
          "2024-04-24T00:00:00",
          "2024-04-25T00:00:00",
          "2024-04-26T00:00:00",
          "2024-04-29T00:00:00",
          "2024-04-30T00:00:00",
          "2024-05-02T00:00:00",
          "2024-05-03T00:00:00",
          "2024-05-06T00:00:00",
          "2024-05-07T00:00:00",
          "2024-05-08T00:00:00",
          "2024-05-09T00:00:00",
          "2024-05-10T00:00:00",
          "2024-05-13T00:00:00",
          "2024-05-14T00:00:00",
          "2024-05-15T00:00:00",
          "2024-05-16T00:00:00",
          "2024-05-17T00:00:00",
          "2024-05-21T00:00:00",
          "2024-05-22T00:00:00",
          "2024-05-23T00:00:00",
          "2024-05-24T00:00:00",
          "2024-05-27T00:00:00",
          "2024-05-28T00:00:00",
          "2024-05-29T00:00:00",
          "2024-05-30T00:00:00",
          "2024-05-31T00:00:00",
          "2024-06-03T00:00:00",
          "2024-06-04T00:00:00",
          "2024-06-05T00:00:00",
          "2024-06-06T00:00:00",
          "2024-06-07T00:00:00",
          "2024-06-10T00:00:00",
          "2024-06-11T00:00:00",
          "2024-06-12T00:00:00",
          "2024-06-13T00:00:00",
          "2024-06-14T00:00:00",
          "2024-06-18T00:00:00",
          "2024-06-19T00:00:00",
          "2024-06-20T00:00:00",
          "2024-06-21T00:00:00",
          "2024-06-24T00:00:00",
          "2024-06-25T00:00:00",
          "2024-06-26T00:00:00",
          "2024-06-27T00:00:00",
          "2024-06-28T00:00:00",
          "2024-07-01T00:00:00",
          "2024-07-02T00:00:00",
          "2024-07-03T00:00:00",
          "2024-07-04T00:00:00",
          "2024-07-05T00:00:00",
          "2024-07-08T00:00:00",
          "2024-07-09T00:00:00",
          "2024-07-10T00:00:00",
          "2024-07-11T00:00:00",
          "2024-07-12T00:00:00",
          "2024-07-15T00:00:00",
          "2024-07-16T00:00:00",
          "2024-07-18T00:00:00",
          "2024-07-19T00:00:00",
          "2024-07-22T00:00:00",
          "2024-07-23T00:00:00",
          "2024-07-24T00:00:00",
          "2024-07-25T00:00:00",
          "2024-07-26T00:00:00",
          "2024-07-29T00:00:00",
          "2024-07-30T00:00:00",
          "2024-07-31T00:00:00",
          "2024-08-01T00:00:00",
          "2024-08-02T00:00:00",
          "2024-08-05T00:00:00",
          "2024-08-06T00:00:00",
          "2024-08-07T00:00:00",
          "2024-08-08T00:00:00",
          "2024-08-09T00:00:00",
          "2024-08-12T00:00:00",
          "2024-08-13T00:00:00",
          "2024-08-14T00:00:00",
          "2024-08-16T00:00:00",
          "2024-08-19T00:00:00",
          "2024-08-20T00:00:00",
          "2024-08-21T00:00:00",
          "2024-08-22T00:00:00",
          "2024-08-23T00:00:00"
         ],
         "xaxis": "x",
         "y": [
          996.0381213178546,
          997.1727924886227,
          998.3778157806775,
          1003.8003279174217,
          1004.7186219954605,
          1007.2115256901885,
          1015.235176052077,
          1016.5413923279947,
          1005.6637320195927,
          1001.5216744066544,
          1005.7080673992516,
          1006.678747592021,
          1006.7471955699856,
          1009.640526284419,
          1004.4212020178513,
          1005.1596243930636,
          1002.173887183538,
          1003.9377705110859,
          1000.5033061094299,
          996.2150661503664,
          1001.1004605360379,
          1008.0856029027938,
          1010.6145899185461,
          1012.2032127552394,
          1006.0597773633822,
          1008.7305998601024,
          1013.0833487386357,
          1018.5310511873522,
          1019.4623784636294,
          1027.9282919121924,
          1035.8595969752319,
          1038.0634248647682,
          1037.954708580202,
          1042.3355049072065,
          1048.735394466482,
          1053.7085501606882,
          1038.2306442032334,
          1041.385725299681,
          1046.5759419845854,
          1049.6582362343916,
          1051.8344537072971,
          1049.9233901483137,
          1041.1559325776202,
          1038.7425973426084,
          1038.688607510307,
          1038.3401476078986,
          1038.8670376324658,
          1032.9453347686335,
          1039.5932451297306,
          1034.3192635967193,
          1023.412943866973,
          1025.4544352242578,
          1028.989146906416,
          1026.5037033938395,
          1035.9635872002532,
          1041.840811378331,
          1046.7909736005597,
          1044.7573891194713,
          1051.119848677602,
          1055.856052267098,
          1054.4677759174065,
          1053.6118414044254,
          1051.0487926069468,
          1036.9457079412966,
          1034.700431825495,
          1029.6411821204629,
          1036.0331958397287,
          1039.3514263730726,
          1039.9161598424473,
          1036.2711572253027,
          1045.0888008645493,
          1049.908576731989,
          1057.6175183378114,
          1055.9726157676353,
          1060.39664921967,
          1057.1623881346536,
          1061.0301331737855,
          1065.2250678191435,
          1079.1427465502052,
          1081.4432518676672,
          1085.0947425194445,
          1083.1418711784731,
          1087.5956254585612,
          1088.799652477466,
          1089.595930542863,
          1090.546816956164,
          1093.681713791406,
          1104.4392924863291,
          1108.4919965301847,
          1115.9469151253058,
          1132.0189377217196,
          1129.7429239959215,
          1131.5043300969298,
          1134.3983800463623,
          1133.2104328714952,
          1130.218564099848,
          1128.0577099498375,
          1132.9922218105712,
          1148.5450027143643,
          1155.8987707202305,
          1154.1900271901775,
          1156.3324130437318,
          1142.7237189860023,
          1150.4239208658594,
          1157.9586644917915,
          1164.9855829435407,
          1169.7535950236029,
          1177.5642472258992,
          1175.4419497191998,
          1179.9922639165961,
          1179.2726203174211,
          1174.3075305617995,
          1178.1183138975339,
          1176.8094511859076,
          1170.7158858039838,
          1176.50815828804,
          1175.8576429487557,
          1178.0168616993142,
          1182.946555144159,
          null,
          1188.0371905207348,
          1178.3544939739581,
          1174.466158870574,
          1187.5979565118776,
          1178.5696606358642,
          1190.707167202552,
          1190.978345823446,
          1204.835813823611,
          1203.89808675702,
          1210.5951773122288,
          1211.0130284364652,
          1223.4608298736916,
          1221.0080995967135,
          1225.9826901809927,
          1226.5261839178445,
          1229.8187050635238,
          1223.003720092668,
          1200.5266499127392,
          1204.7632616844455,
          1212.7823182362959,
          1228.1394360320676,
          1232.5301457747084,
          1236.8291332239692,
          1234.3755217368519,
          1224.419045015971,
          1235.5809823975744,
          1237.0084955079142,
          1236.900580127409,
          1238.1109459235688,
          1225.915301074658,
          1226.9456940461569,
          1241.3235370784057,
          1258.2657831078377,
          1261.9025878226525,
          1256.631981543248,
          1263.3815249098827,
          1258.8661722661288,
          1247.9538372803931,
          1215.5558792797233,
          1227.1789980832084,
          1219.2715866344113,
          1217.7623225378827,
          1209.6018478258134,
          1212.8999561667517,
          1237.129554113829,
          1239.5367399894346,
          1243.2539380042192,
          1243.5602414619873,
          1251.876088928051,
          1273.0759364577916,
          1278.3665279312627,
          1282.1742126681293,
          1286.2220863154357,
          1286.3004775659278,
          1297.772003004036,
          1297.615380026798,
          1305.2435807518705,
          1308.0998799939312,
          1295.485456571791,
          1295.574307061881,
          1287.1473082189384,
          1284.7142204889078,
          1288.6149846966782,
          1285.5593290187871,
          1295.2084981143762,
          1300.5365661368746,
          1309.606176454571,
          1312.9047644778518,
          1311.8154040140598,
          1314.2426380070815,
          1312.4734261114609,
          1308.3013670788596,
          1297.0841570862297,
          1302.3884327398775,
          1284.6572250546426,
          1299.6678805120928,
          1294.1416113605833,
          1302.3925099692076,
          1314.5524712573103,
          1323.6376492043287,
          1328.6477405248022,
          1347.3958702801913,
          1351.4749140592023,
          1352.2616006676071,
          1349.8275073922641,
          1350.3730398621112,
          1345.0547719031242,
          1342.8860339771022,
          1330.7462617160359,
          1338.9378050257249,
          1369.0670358098037,
          1317.9728804711958,
          1312.7857248760222,
          1339.2778603607335,
          1354.0463676880197,
          1352.5012218882491,
          1360.890393917954,
          1372.1398363867718,
          1384.08335515169,
          1386.537074051119,
          1394.9463108571401,
          1392.6794056276713,
          1399.0276442812967,
          1397.1255107592356,
          1392.497763305656,
          1392.7948435334836,
          1395.8353606324097,
          1397.223794284447,
          1404.1536985879911,
          1406.9184655054094,
          1410.4448423903873,
          1418.8603545481656,
          1426.2823726894376,
          1434.9391812614006,
          1439.8837406764608,
          1443.2053022401606,
          1441.3647861173129,
          1447.299717760727,
          1444.0657618511707,
          1454.0049340354335,
          1456.6177773315865,
          1453.0214659019964,
          1427.935774480232,
          1429.4194199249234,
          1417.4465323229556,
          1417.9987197681382,
          1409.7435536328005,
          1424.123963293976,
          1424.7181662306857,
          1426.2063929457797,
          1429.6620397871932,
          1435.7143528678637,
          1421.6894690945912,
          1379.0775066065319,
          1370.5243670028833,
          1390.9240559420566,
          1382.5516966670218,
          1400.0067253718134,
          1401.0359761798268,
          1396.3975139888641,
          1396.9168192590807,
          1417.1783356539208,
          1426.868940195375,
          1436.644670692547,
          1437.6561904330167,
          1441.9968310407796,
          1437.7341344358392
         ],
         "yaxis": "y"
        },
        {
         "hovertemplate": "variable=NIFTY50<br>index=%{x}<br>value=%{y}<extra></extra>",
         "legendgroup": "NIFTY50",
         "line": {
          "color": "#EF553B",
          "dash": "solid"
         },
         "marker": {
          "symbol": "circle"
         },
         "mode": "lines",
         "name": "NIFTY50",
         "orientation": "v",
         "showlegend": true,
         "type": "scatter",
         "x": [
          "2023-07-21T00:00:00",
          "2023-07-24T00:00:00",
          "2023-07-25T00:00:00",
          "2023-07-26T00:00:00",
          "2023-07-27T00:00:00",
          "2023-07-28T00:00:00",
          "2023-07-31T00:00:00",
          "2023-08-01T00:00:00",
          "2023-08-02T00:00:00",
          "2023-08-03T00:00:00",
          "2023-08-04T00:00:00",
          "2023-08-07T00:00:00",
          "2023-08-08T00:00:00",
          "2023-08-09T00:00:00",
          "2023-08-10T00:00:00",
          "2023-08-11T00:00:00",
          "2023-08-14T00:00:00",
          "2023-08-16T00:00:00",
          "2023-08-17T00:00:00",
          "2023-08-18T00:00:00",
          "2023-08-21T00:00:00",
          "2023-08-22T00:00:00",
          "2023-08-23T00:00:00",
          "2023-08-24T00:00:00",
          "2023-08-25T00:00:00",
          "2023-08-28T00:00:00",
          "2023-08-29T00:00:00",
          "2023-08-30T00:00:00",
          "2023-08-31T00:00:00",
          "2023-09-01T00:00:00",
          "2023-09-04T00:00:00",
          "2023-09-05T00:00:00",
          "2023-09-06T00:00:00",
          "2023-09-07T00:00:00",
          "2023-09-08T00:00:00",
          "2023-09-11T00:00:00",
          "2023-09-12T00:00:00",
          "2023-09-13T00:00:00",
          "2023-09-14T00:00:00",
          "2023-09-15T00:00:00",
          "2023-09-18T00:00:00",
          "2023-09-20T00:00:00",
          "2023-09-21T00:00:00",
          "2023-09-22T00:00:00",
          "2023-09-25T00:00:00",
          "2023-09-26T00:00:00",
          "2023-09-27T00:00:00",
          "2023-09-28T00:00:00",
          "2023-09-29T00:00:00",
          "2023-10-03T00:00:00",
          "2023-10-04T00:00:00",
          "2023-10-05T00:00:00",
          "2023-10-06T00:00:00",
          "2023-10-09T00:00:00",
          "2023-10-10T00:00:00",
          "2023-10-11T00:00:00",
          "2023-10-12T00:00:00",
          "2023-10-13T00:00:00",
          "2023-10-16T00:00:00",
          "2023-10-17T00:00:00",
          "2023-10-18T00:00:00",
          "2023-10-19T00:00:00",
          "2023-10-20T00:00:00",
          "2023-10-23T00:00:00",
          "2023-10-25T00:00:00",
          "2023-10-26T00:00:00",
          "2023-10-27T00:00:00",
          "2023-10-30T00:00:00",
          "2023-10-31T00:00:00",
          "2023-11-01T00:00:00",
          "2023-11-02T00:00:00",
          "2023-11-03T00:00:00",
          "2023-11-06T00:00:00",
          "2023-11-07T00:00:00",
          "2023-11-08T00:00:00",
          "2023-11-09T00:00:00",
          "2023-11-10T00:00:00",
          "2023-11-13T00:00:00",
          "2023-11-15T00:00:00",
          "2023-11-16T00:00:00",
          "2023-11-17T00:00:00",
          "2023-11-20T00:00:00",
          "2023-11-21T00:00:00",
          "2023-11-22T00:00:00",
          "2023-11-23T00:00:00",
          "2023-11-24T00:00:00",
          "2023-11-28T00:00:00",
          "2023-11-29T00:00:00",
          "2023-11-30T00:00:00",
          "2023-12-01T00:00:00",
          "2023-12-04T00:00:00",
          "2023-12-05T00:00:00",
          "2023-12-06T00:00:00",
          "2023-12-07T00:00:00",
          "2023-12-08T00:00:00",
          "2023-12-11T00:00:00",
          "2023-12-12T00:00:00",
          "2023-12-13T00:00:00",
          "2023-12-14T00:00:00",
          "2023-12-15T00:00:00",
          "2023-12-18T00:00:00",
          "2023-12-19T00:00:00",
          "2023-12-20T00:00:00",
          "2023-12-21T00:00:00",
          "2023-12-22T00:00:00",
          "2023-12-26T00:00:00",
          "2023-12-27T00:00:00",
          "2023-12-28T00:00:00",
          "2023-12-29T00:00:00",
          "2024-01-01T00:00:00",
          "2024-01-02T00:00:00",
          "2024-01-03T00:00:00",
          "2024-01-04T00:00:00",
          "2024-01-05T00:00:00",
          "2024-01-08T00:00:00",
          "2024-01-09T00:00:00",
          "2024-01-10T00:00:00",
          "2024-01-11T00:00:00",
          "2024-01-12T00:00:00",
          "2024-01-15T00:00:00",
          "2024-01-16T00:00:00",
          "2024-01-17T00:00:00",
          "2024-01-18T00:00:00",
          "2024-01-19T00:00:00",
          "2024-01-23T00:00:00",
          "2024-01-24T00:00:00",
          "2024-01-25T00:00:00",
          "2024-01-29T00:00:00",
          "2024-01-30T00:00:00",
          "2024-01-31T00:00:00",
          "2024-02-01T00:00:00",
          "2024-02-02T00:00:00",
          "2024-02-05T00:00:00",
          "2024-02-06T00:00:00",
          "2024-02-07T00:00:00",
          "2024-02-08T00:00:00",
          "2024-02-09T00:00:00",
          "2024-02-12T00:00:00",
          "2024-02-13T00:00:00",
          "2024-02-14T00:00:00",
          "2024-02-15T00:00:00",
          "2024-02-16T00:00:00",
          "2024-02-19T00:00:00",
          "2024-02-20T00:00:00",
          "2024-02-21T00:00:00",
          "2024-02-22T00:00:00",
          "2024-02-23T00:00:00",
          "2024-02-26T00:00:00",
          "2024-02-27T00:00:00",
          "2024-02-28T00:00:00",
          "2024-02-29T00:00:00",
          "2024-03-01T00:00:00",
          "2024-03-04T00:00:00",
          "2024-03-05T00:00:00",
          "2024-03-06T00:00:00",
          "2024-03-07T00:00:00",
          "2024-03-11T00:00:00",
          "2024-03-12T00:00:00",
          "2024-03-13T00:00:00",
          "2024-03-14T00:00:00",
          "2024-03-15T00:00:00",
          "2024-03-18T00:00:00",
          "2024-03-19T00:00:00",
          "2024-03-20T00:00:00",
          "2024-03-21T00:00:00",
          "2024-03-22T00:00:00",
          "2024-03-26T00:00:00",
          "2024-03-27T00:00:00",
          "2024-03-28T00:00:00",
          "2024-04-01T00:00:00",
          "2024-04-02T00:00:00",
          "2024-04-03T00:00:00",
          "2024-04-04T00:00:00",
          "2024-04-05T00:00:00",
          "2024-04-08T00:00:00",
          "2024-04-09T00:00:00",
          "2024-04-10T00:00:00",
          "2024-04-12T00:00:00",
          "2024-04-15T00:00:00",
          "2024-04-16T00:00:00",
          "2024-04-18T00:00:00",
          "2024-04-19T00:00:00",
          "2024-04-22T00:00:00",
          "2024-04-23T00:00:00",
          "2024-04-24T00:00:00",
          "2024-04-25T00:00:00",
          "2024-04-26T00:00:00",
          "2024-04-29T00:00:00",
          "2024-04-30T00:00:00",
          "2024-05-02T00:00:00",
          "2024-05-03T00:00:00",
          "2024-05-06T00:00:00",
          "2024-05-07T00:00:00",
          "2024-05-08T00:00:00",
          "2024-05-09T00:00:00",
          "2024-05-10T00:00:00",
          "2024-05-13T00:00:00",
          "2024-05-14T00:00:00",
          "2024-05-15T00:00:00",
          "2024-05-16T00:00:00",
          "2024-05-17T00:00:00",
          "2024-05-21T00:00:00",
          "2024-05-22T00:00:00",
          "2024-05-23T00:00:00",
          "2024-05-24T00:00:00",
          "2024-05-27T00:00:00",
          "2024-05-28T00:00:00",
          "2024-05-29T00:00:00",
          "2024-05-30T00:00:00",
          "2024-05-31T00:00:00",
          "2024-06-03T00:00:00",
          "2024-06-04T00:00:00",
          "2024-06-05T00:00:00",
          "2024-06-06T00:00:00",
          "2024-06-07T00:00:00",
          "2024-06-10T00:00:00",
          "2024-06-11T00:00:00",
          "2024-06-12T00:00:00",
          "2024-06-13T00:00:00",
          "2024-06-14T00:00:00",
          "2024-06-18T00:00:00",
          "2024-06-19T00:00:00",
          "2024-06-20T00:00:00",
          "2024-06-21T00:00:00",
          "2024-06-24T00:00:00",
          "2024-06-25T00:00:00",
          "2024-06-26T00:00:00",
          "2024-06-27T00:00:00",
          "2024-06-28T00:00:00",
          "2024-07-01T00:00:00",
          "2024-07-02T00:00:00",
          "2024-07-03T00:00:00",
          "2024-07-04T00:00:00",
          "2024-07-05T00:00:00",
          "2024-07-08T00:00:00",
          "2024-07-09T00:00:00",
          "2024-07-10T00:00:00",
          "2024-07-11T00:00:00",
          "2024-07-12T00:00:00",
          "2024-07-15T00:00:00",
          "2024-07-16T00:00:00",
          "2024-07-18T00:00:00",
          "2024-07-19T00:00:00",
          "2024-07-22T00:00:00",
          "2024-07-23T00:00:00",
          "2024-07-24T00:00:00",
          "2024-07-25T00:00:00",
          "2024-07-26T00:00:00",
          "2024-07-29T00:00:00",
          "2024-07-30T00:00:00",
          "2024-07-31T00:00:00",
          "2024-08-01T00:00:00",
          "2024-08-02T00:00:00",
          "2024-08-05T00:00:00",
          "2024-08-06T00:00:00",
          "2024-08-07T00:00:00",
          "2024-08-08T00:00:00",
          "2024-08-09T00:00:00",
          "2024-08-12T00:00:00",
          "2024-08-13T00:00:00",
          "2024-08-14T00:00:00",
          "2024-08-16T00:00:00",
          "2024-08-19T00:00:00",
          "2024-08-20T00:00:00",
          "2024-08-21T00:00:00",
          "2024-08-22T00:00:00",
          "2024-08-23T00:00:00"
         ],
         "xaxis": "x",
         "y": [
          988.280262871695,
          984.6439525579644,
          985.0568830299164,
          989.9470395162926,
          984.0208420399196,
          983.3276389204567,
          988.7207611450414,
          987.7072045320684,
          977.3464035994556,
          970.0938233949944,
          976.8683661922954,
          980.887595222559,
          979.5636564484952,
          982.6519345118083,
          978.1747084973841,
          972.4287770698461,
          972.7416031849611,
          null,
          969.2729481173003,
          966.5150926380776,
          970.6919078238304,
          970.8345369806907,
          973.2145571677509,
          970.3465282411111,
          964.2952980768529,
          966.3098982581944,
          968.1417884366763,
          968.3819802381882,
          963.694671935832,
          972.7791423187751,
          977.4590210008973,
          979.7664068743543,
          981.5758126758121,
          987.381865372349,
          992.0316345408912,
          1000.8608583655327,
          1000.7031744518824,
          1004.5472208576815,
          1006.203928411699,
          1010.6710853355429,
          1007.715562854832,
          996.1084431279683,
          988.1476050472542,
          984.7390712485919,
          984.754126005382,
          984.2610338414318,
          986.851234074585,
          977.1962470642006,
          982.9397345377142,
          977.456479288712,
          972.8191254066132,
          978.3073663218252,
          983.7004885464099,
          976.6356040110178,
          985.5198656802872,
          991.6012053581252,
          990.7328196141979,
          988.5831176543912,
          987.6170715076513,
          991.6087327365203,
          984.581387334942,
          982.2589467046951,
          978.1522241203604,
          965.0935912193626,
          957.105283095415,
          943.8464414807435,
          953.3563553802433,
          958.0437614407604,
          954.9755238004468,
          950.4483433657651,
          957.6608427242271,
          962.5334027416283,
          971.6003744137571,
          971.3475718094797,
          973.189531078542,
          970.7770551820386,
          972.2810644886155,
          973.1920727907273,
          984.79909475943,
          989.2912777724831,
          987.6196132198368,
          985.727601772356,
          990.202286074595,
          991.6262314473346,
          991.1332370415454,
          990.7678170358266,
          995.5227739855765,
          1005.8785892519795,
          1007.7080354764372,
          1014.4525665183193,
          1035.4194436094276,
          1043.843166582351,
          1047.97745696808,
          1046.1481085017833,
          1049.5641696788407,
          1050.9505759177666,
          1046.4108824384803,
          1047.4093842946634,
          1060.2402406805932,
          1073.9520936132158,
          1072.050110833316,
          1073.774369276566,
          1058.6111009279703,
          1063.8615939956946,
          1068.58399747784,
          1073.1862561801495,
          1083.8674106062724,
          1090.0713390179712,
          1087.7039296336766,
          1088.22947750707,
          1084.4205262810603,
          1076.9902217399494,
          1084.060091941551,
          1086.672874309889,
          1076.7725143154612,
          1078.3666566464556,
          1082.0629904710236,
          1083.4894775559485,
          1095.8699620942734,
          1106.025470888842,
          1102.7646496714108,
          1079.7230511299624,
          1074.2323662607262,
          1082.2482421860684,
          1063.048246096395,
          1073.8168940765888,
          1068.744125345514,
          1088.0142140366058,
          1077.2279695874363,
          1087.4185735617943,
          1086.004599521474,
          1093.8303358237224,
          1089.7209737690414,
          1097.6142609605229,
          1097.669298805151,
          1087.0306691790515,
          1090.2615763992246,
          1081.9304304047432,
          1088.2970283963018,
          1093.1421183704692,
          1096.6807682813871,
          1103.1850097635963,
          null,
          1111.0056626414741,
          1103.9033367304291,
          1112.0317322990516,
          1111.793984451564,
          1107.256832684463,
          1111.0757552428918,
          1098.7028958411229,
          1100.2870668396981,
          1118.1031006444703,
          1121.449069220109,
          1118.9815554789777,
          1124.8751994877466,
          1125.851216966906,
          1117.7978019077502,
          1117.9504023970296,
          1101.0327660916037,
          1108.488096721924,
          1102.3166240196686,
          1103.935792439872,
          1092.0108609316837,
          1093.0945101460748,
          1101.7460096340662,
          1105.9904734672125,
          1101.3831313405326,
          1107.3368966183002,
          1117.5100018818441,
          null,
          1123.8366167855645,
          1122.9031241064288,
          1126.9072983799022,
          1126.8596901555081,
          1134.4977307886877,
          1133.3189628836694,
          1138.8772964002994,
          1127.1450462273895,
          1114.7871438242496,
          1108.5506619449468,
          1100.9401891131615,
          1108.505595432738,
          1117.9854975768187,
          1119.5671268632084,
          1121.288941352434,
          1129.6951656145434,
          1122.1672984287807,
          1133.3515163512732,
          1131.4219657699787,
          1133.5917081527848,
          1124.9652347540025,
          1123.3059854877995,
          1116.2887091768014,
          1116.2887091768014,
          1099.0207076224467,
          1103.910766350662,
          1106.3558934729308,
          1112.0517727220501,
          1111.1859286903082,
          1121.3614779078762,
          1124.4772260144227,
          1127.6280693007589,
          1131.069156567025,
          1149.5809352034453,
          1149.0528456178663,
          1147.8190398682202,
          1145.6017870191808,
          1136.4196562334253,
          1125.6059417410222,
          1127.7105771886202,
          1164.4088930599019,
          1095.3668985979018,
          1132.1977745354634,
          1142.260804109751,
          1165.7227627433854,
          1164.1735891664387,
          1164.4564035261349,
          1167.364415540613,
          1171.1659371463886,
          1174.5043783436327,
          1179.124233514917,
          1177.027027687553,
          1179.5796887868923,
          1176.2812306774863,
          1178.1206482343632,
          1187.3027790201188,
          1194.6854753368355,
          1203.4796039816872,
          1201.7828155816708,
          null,
          null,
          null,
          1216.3755673028254,
          1217.4616604712407,
          1217.2965469373564,
          1222.9348466296626,
          1217.4916722266594,
          1217.066228710103,
          1226.386002986509,
          1230.6178560168898,
          1231.934267412559,
          1241.3365495768267,
          1227.8250031160387,
          1226.741353901648,
          1225.229817216676,
          1221.9488578180842,
          1221.5784521461558,
          1243.038323643053,
          1243.100888866076,
          1244.162053703443,
          1248.8594310963797,
          1251.8500487568801,
          1237.174691389703,
          1204.0351636104997,
          1200.879432416115,
          1216.1428051215478,
          1207.108386917023,
          1219.6464576108372,
          1218.6203879532595,
          1208.2095348422283,
          1208.4472826897156,
          1228.3380379448276,
          1229.9146815650079,
          1236.231227378148,
          1239.8024307566702,
          1241.8696248286153,
          1242.452752258822
         ],
         "yaxis": "y"
        }
       ],
       "layout": {
        "legend": {
         "title": {
          "text": "Portfolios"
         },
         "tracegroupgap": 0
        },
        "margin": {
         "t": 60
        },
        "template": {
         "data": {
          "bar": [
           {
            "error_x": {
             "color": "#2a3f5f"
            },
            "error_y": {
             "color": "#2a3f5f"
            },
            "marker": {
             "line": {
              "color": "#E5ECF6",
              "width": 0.5
             },
             "pattern": {
              "fillmode": "overlay",
              "size": 10,
              "solidity": 0.2
             }
            },
            "type": "bar"
           }
          ],
          "barpolar": [
           {
            "marker": {
             "line": {
              "color": "#E5ECF6",
              "width": 0.5
             },
             "pattern": {
              "fillmode": "overlay",
              "size": 10,
              "solidity": 0.2
             }
            },
            "type": "barpolar"
           }
          ],
          "carpet": [
           {
            "aaxis": {
             "endlinecolor": "#2a3f5f",
             "gridcolor": "white",
             "linecolor": "white",
             "minorgridcolor": "white",
             "startlinecolor": "#2a3f5f"
            },
            "baxis": {
             "endlinecolor": "#2a3f5f",
             "gridcolor": "white",
             "linecolor": "white",
             "minorgridcolor": "white",
             "startlinecolor": "#2a3f5f"
            },
            "type": "carpet"
           }
          ],
          "choropleth": [
           {
            "colorbar": {
             "outlinewidth": 0,
             "ticks": ""
            },
            "type": "choropleth"
           }
          ],
          "contour": [
           {
            "colorbar": {
             "outlinewidth": 0,
             "ticks": ""
            },
            "colorscale": [
             [
              0,
              "#0d0887"
             ],
             [
              0.1111111111111111,
              "#46039f"
             ],
             [
              0.2222222222222222,
              "#7201a8"
             ],
             [
              0.3333333333333333,
              "#9c179e"
             ],
             [
              0.4444444444444444,
              "#bd3786"
             ],
             [
              0.5555555555555556,
              "#d8576b"
             ],
             [
              0.6666666666666666,
              "#ed7953"
             ],
             [
              0.7777777777777778,
              "#fb9f3a"
             ],
             [
              0.8888888888888888,
              "#fdca26"
             ],
             [
              1,
              "#f0f921"
             ]
            ],
            "type": "contour"
           }
          ],
          "contourcarpet": [
           {
            "colorbar": {
             "outlinewidth": 0,
             "ticks": ""
            },
            "type": "contourcarpet"
           }
          ],
          "heatmap": [
           {
            "colorbar": {
             "outlinewidth": 0,
             "ticks": ""
            },
            "colorscale": [
             [
              0,
              "#0d0887"
             ],
             [
              0.1111111111111111,
              "#46039f"
             ],
             [
              0.2222222222222222,
              "#7201a8"
             ],
             [
              0.3333333333333333,
              "#9c179e"
             ],
             [
              0.4444444444444444,
              "#bd3786"
             ],
             [
              0.5555555555555556,
              "#d8576b"
             ],
             [
              0.6666666666666666,
              "#ed7953"
             ],
             [
              0.7777777777777778,
              "#fb9f3a"
             ],
             [
              0.8888888888888888,
              "#fdca26"
             ],
             [
              1,
              "#f0f921"
             ]
            ],
            "type": "heatmap"
           }
          ],
          "heatmapgl": [
           {
            "colorbar": {
             "outlinewidth": 0,
             "ticks": ""
            },
            "colorscale": [
             [
              0,
              "#0d0887"
             ],
             [
              0.1111111111111111,
              "#46039f"
             ],
             [
              0.2222222222222222,
              "#7201a8"
             ],
             [
              0.3333333333333333,
              "#9c179e"
             ],
             [
              0.4444444444444444,
              "#bd3786"
             ],
             [
              0.5555555555555556,
              "#d8576b"
             ],
             [
              0.6666666666666666,
              "#ed7953"
             ],
             [
              0.7777777777777778,
              "#fb9f3a"
             ],
             [
              0.8888888888888888,
              "#fdca26"
             ],
             [
              1,
              "#f0f921"
             ]
            ],
            "type": "heatmapgl"
           }
          ],
          "histogram": [
           {
            "marker": {
             "pattern": {
              "fillmode": "overlay",
              "size": 10,
              "solidity": 0.2
             }
            },
            "type": "histogram"
           }
          ],
          "histogram2d": [
           {
            "colorbar": {
             "outlinewidth": 0,
             "ticks": ""
            },
            "colorscale": [
             [
              0,
              "#0d0887"
             ],
             [
              0.1111111111111111,
              "#46039f"
             ],
             [
              0.2222222222222222,
              "#7201a8"
             ],
             [
              0.3333333333333333,
              "#9c179e"
             ],
             [
              0.4444444444444444,
              "#bd3786"
             ],
             [
              0.5555555555555556,
              "#d8576b"
             ],
             [
              0.6666666666666666,
              "#ed7953"
             ],
             [
              0.7777777777777778,
              "#fb9f3a"
             ],
             [
              0.8888888888888888,
              "#fdca26"
             ],
             [
              1,
              "#f0f921"
             ]
            ],
            "type": "histogram2d"
           }
          ],
          "histogram2dcontour": [
           {
            "colorbar": {
             "outlinewidth": 0,
             "ticks": ""
            },
            "colorscale": [
             [
              0,
              "#0d0887"
             ],
             [
              0.1111111111111111,
              "#46039f"
             ],
             [
              0.2222222222222222,
              "#7201a8"
             ],
             [
              0.3333333333333333,
              "#9c179e"
             ],
             [
              0.4444444444444444,
              "#bd3786"
             ],
             [
              0.5555555555555556,
              "#d8576b"
             ],
             [
              0.6666666666666666,
              "#ed7953"
             ],
             [
              0.7777777777777778,
              "#fb9f3a"
             ],
             [
              0.8888888888888888,
              "#fdca26"
             ],
             [
              1,
              "#f0f921"
             ]
            ],
            "type": "histogram2dcontour"
           }
          ],
          "mesh3d": [
           {
            "colorbar": {
             "outlinewidth": 0,
             "ticks": ""
            },
            "type": "mesh3d"
           }
          ],
          "parcoords": [
           {
            "line": {
             "colorbar": {
              "outlinewidth": 0,
              "ticks": ""
             }
            },
            "type": "parcoords"
           }
          ],
          "pie": [
           {
            "automargin": true,
            "type": "pie"
           }
          ],
          "scatter": [
           {
            "fillpattern": {
             "fillmode": "overlay",
             "size": 10,
             "solidity": 0.2
            },
            "type": "scatter"
           }
          ],
          "scatter3d": [
           {
            "line": {
             "colorbar": {
              "outlinewidth": 0,
              "ticks": ""
             }
            },
            "marker": {
             "colorbar": {
              "outlinewidth": 0,
              "ticks": ""
             }
            },
            "type": "scatter3d"
           }
          ],
          "scattercarpet": [
           {
            "marker": {
             "colorbar": {
              "outlinewidth": 0,
              "ticks": ""
             }
            },
            "type": "scattercarpet"
           }
          ],
          "scattergeo": [
           {
            "marker": {
             "colorbar": {
              "outlinewidth": 0,
              "ticks": ""
             }
            },
            "type": "scattergeo"
           }
          ],
          "scattergl": [
           {
            "marker": {
             "colorbar": {
              "outlinewidth": 0,
              "ticks": ""
             }
            },
            "type": "scattergl"
           }
          ],
          "scattermapbox": [
           {
            "marker": {
             "colorbar": {
              "outlinewidth": 0,
              "ticks": ""
             }
            },
            "type": "scattermapbox"
           }
          ],
          "scatterpolar": [
           {
            "marker": {
             "colorbar": {
              "outlinewidth": 0,
              "ticks": ""
             }
            },
            "type": "scatterpolar"
           }
          ],
          "scatterpolargl": [
           {
            "marker": {
             "colorbar": {
              "outlinewidth": 0,
              "ticks": ""
             }
            },
            "type": "scatterpolargl"
           }
          ],
          "scatterternary": [
           {
            "marker": {
             "colorbar": {
              "outlinewidth": 0,
              "ticks": ""
             }
            },
            "type": "scatterternary"
           }
          ],
          "surface": [
           {
            "colorbar": {
             "outlinewidth": 0,
             "ticks": ""
            },
            "colorscale": [
             [
              0,
              "#0d0887"
             ],
             [
              0.1111111111111111,
              "#46039f"
             ],
             [
              0.2222222222222222,
              "#7201a8"
             ],
             [
              0.3333333333333333,
              "#9c179e"
             ],
             [
              0.4444444444444444,
              "#bd3786"
             ],
             [
              0.5555555555555556,
              "#d8576b"
             ],
             [
              0.6666666666666666,
              "#ed7953"
             ],
             [
              0.7777777777777778,
              "#fb9f3a"
             ],
             [
              0.8888888888888888,
              "#fdca26"
             ],
             [
              1,
              "#f0f921"
             ]
            ],
            "type": "surface"
           }
          ],
          "table": [
           {
            "cells": {
             "fill": {
              "color": "#EBF0F8"
             },
             "line": {
              "color": "white"
             }
            },
            "header": {
             "fill": {
              "color": "#C8D4E3"
             },
             "line": {
              "color": "white"
             }
            },
            "type": "table"
           }
          ]
         },
         "layout": {
          "annotationdefaults": {
           "arrowcolor": "#2a3f5f",
           "arrowhead": 0,
           "arrowwidth": 1
          },
          "autotypenumbers": "strict",
          "coloraxis": {
           "colorbar": {
            "outlinewidth": 0,
            "ticks": ""
           }
          },
          "colorscale": {
           "diverging": [
            [
             0,
             "#8e0152"
            ],
            [
             0.1,
             "#c51b7d"
            ],
            [
             0.2,
             "#de77ae"
            ],
            [
             0.3,
             "#f1b6da"
            ],
            [
             0.4,
             "#fde0ef"
            ],
            [
             0.5,
             "#f7f7f7"
            ],
            [
             0.6,
             "#e6f5d0"
            ],
            [
             0.7,
             "#b8e186"
            ],
            [
             0.8,
             "#7fbc41"
            ],
            [
             0.9,
             "#4d9221"
            ],
            [
             1,
             "#276419"
            ]
           ],
           "sequential": [
            [
             0,
             "#0d0887"
            ],
            [
             0.1111111111111111,
             "#46039f"
            ],
            [
             0.2222222222222222,
             "#7201a8"
            ],
            [
             0.3333333333333333,
             "#9c179e"
            ],
            [
             0.4444444444444444,
             "#bd3786"
            ],
            [
             0.5555555555555556,
             "#d8576b"
            ],
            [
             0.6666666666666666,
             "#ed7953"
            ],
            [
             0.7777777777777778,
             "#fb9f3a"
            ],
            [
             0.8888888888888888,
             "#fdca26"
            ],
            [
             1,
             "#f0f921"
            ]
           ],
           "sequentialminus": [
            [
             0,
             "#0d0887"
            ],
            [
             0.1111111111111111,
             "#46039f"
            ],
            [
             0.2222222222222222,
             "#7201a8"
            ],
            [
             0.3333333333333333,
             "#9c179e"
            ],
            [
             0.4444444444444444,
             "#bd3786"
            ],
            [
             0.5555555555555556,
             "#d8576b"
            ],
            [
             0.6666666666666666,
             "#ed7953"
            ],
            [
             0.7777777777777778,
             "#fb9f3a"
            ],
            [
             0.8888888888888888,
             "#fdca26"
            ],
            [
             1,
             "#f0f921"
            ]
           ]
          },
          "colorway": [
           "#636efa",
           "#EF553B",
           "#00cc96",
           "#ab63fa",
           "#FFA15A",
           "#19d3f3",
           "#FF6692",
           "#B6E880",
           "#FF97FF",
           "#FECB52"
          ],
          "font": {
           "color": "#2a3f5f"
          },
          "geo": {
           "bgcolor": "white",
           "lakecolor": "white",
           "landcolor": "#E5ECF6",
           "showlakes": true,
           "showland": true,
           "subunitcolor": "white"
          },
          "hoverlabel": {
           "align": "left"
          },
          "hovermode": "closest",
          "mapbox": {
           "style": "light"
          },
          "paper_bgcolor": "white",
          "plot_bgcolor": "#E5ECF6",
          "polar": {
           "angularaxis": {
            "gridcolor": "white",
            "linecolor": "white",
            "ticks": ""
           },
           "bgcolor": "#E5ECF6",
           "radialaxis": {
            "gridcolor": "white",
            "linecolor": "white",
            "ticks": ""
           }
          },
          "scene": {
           "xaxis": {
            "backgroundcolor": "#E5ECF6",
            "gridcolor": "white",
            "gridwidth": 2,
            "linecolor": "white",
            "showbackground": true,
            "ticks": "",
            "zerolinecolor": "white"
           },
           "yaxis": {
            "backgroundcolor": "#E5ECF6",
            "gridcolor": "white",
            "gridwidth": 2,
            "linecolor": "white",
            "showbackground": true,
            "ticks": "",
            "zerolinecolor": "white"
           },
           "zaxis": {
            "backgroundcolor": "#E5ECF6",
            "gridcolor": "white",
            "gridwidth": 2,
            "linecolor": "white",
            "showbackground": true,
            "ticks": "",
            "zerolinecolor": "white"
           }
          },
          "shapedefaults": {
           "line": {
            "color": "#2a3f5f"
           }
          },
          "ternary": {
           "aaxis": {
            "gridcolor": "white",
            "linecolor": "white",
            "ticks": ""
           },
           "baxis": {
            "gridcolor": "white",
            "linecolor": "white",
            "ticks": ""
           },
           "bgcolor": "#E5ECF6",
           "caxis": {
            "gridcolor": "white",
            "linecolor": "white",
            "ticks": ""
           }
          },
          "title": {
           "x": 0.05
          },
          "xaxis": {
           "automargin": true,
           "gridcolor": "white",
           "linecolor": "white",
           "ticks": "",
           "title": {
            "standoff": 15
           },
           "zerolinecolor": "white",
           "zerolinewidth": 2
          },
          "yaxis": {
           "automargin": true,
           "gridcolor": "white",
           "linecolor": "white",
           "ticks": "",
           "title": {
            "standoff": 15
           },
           "zerolinecolor": "white",
           "zerolinewidth": 2
          }
         }
        },
        "title": {
         "text": "Cumulative Returns (compounded & log scaled)"
        },
        "xaxis": {
         "anchor": "y",
         "domain": [
          0,
          1
         ],
         "title": {
          "text": "Observations"
         }
        },
        "yaxis": {
         "anchor": "x",
         "domain": [
          0,
          1
         ],
         "tickformat": ".0f",
         "title": {
          "text": "Cumulative Returns (rebased at 1000)"
         },
         "type": "log"
        }
       }
      }
     },
     "metadata": {},
     "output_type": "display_data"
    }
   ],
   "source": [
    "tmp = df_nse.loc[mp.returns_df.index[0].strftime('%Y-%m-%d'):]\n",
    "pop = Population([\n",
    "    mp, \n",
    "    BasePortfolio(returns=tmp, observations=tmp.index, name='NIFTY50')\n",
    "    ])\n",
    "pop.set_portfolio_params(compounded=True)\n",
    "pop.plot_cumulative_returns(log_scale=True)"
   ]
  },
  {
   "cell_type": "code",
   "execution_count": 42,
   "metadata": {},
   "outputs": [
    {
     "data": {
      "text/html": [
       "<div>\n",
       "<style scoped>\n",
       "    .dataframe tbody tr th:only-of-type {\n",
       "        vertical-align: middle;\n",
       "    }\n",
       "\n",
       "    .dataframe tbody tr th {\n",
       "        vertical-align: top;\n",
       "    }\n",
       "\n",
       "    .dataframe thead th {\n",
       "        text-align: right;\n",
       "    }\n",
       "</style>\n",
       "<table border=\"1\" class=\"dataframe\">\n",
       "  <thead>\n",
       "    <tr style=\"text-align: right;\">\n",
       "      <th></th>\n",
       "      <th>WalkForward</th>\n",
       "      <th>NIFTY50</th>\n",
       "    </tr>\n",
       "  </thead>\n",
       "  <tbody>\n",
       "    <tr>\n",
       "      <th>Mean</th>\n",
       "      <td>0.14%</td>\n",
       "      <td>0.087%</td>\n",
       "    </tr>\n",
       "    <tr>\n",
       "      <th>Annualized Mean</th>\n",
       "      <td>35.04%</td>\n",
       "      <td>21.84%</td>\n",
       "    </tr>\n",
       "    <tr>\n",
       "      <th>Variance</th>\n",
       "      <td>0.0049%</td>\n",
       "      <td>0.0069%</td>\n",
       "    </tr>\n",
       "    <tr>\n",
       "      <th>Annualized Variance</th>\n",
       "      <td>1.24%</td>\n",
       "      <td>1.74%</td>\n",
       "    </tr>\n",
       "    <tr>\n",
       "      <th>Semi-Variance</th>\n",
       "      <td>0.0029%</td>\n",
       "      <td>0.0039%</td>\n",
       "    </tr>\n",
       "    <tr>\n",
       "      <th>Annualized Semi-Variance</th>\n",
       "      <td>0.74%</td>\n",
       "      <td>0.99%</td>\n",
       "    </tr>\n",
       "    <tr>\n",
       "      <th>Standard Deviation</th>\n",
       "      <td>0.70%</td>\n",
       "      <td>0.83%</td>\n",
       "    </tr>\n",
       "    <tr>\n",
       "      <th>Annualized Standard Deviation</th>\n",
       "      <td>11.15%</td>\n",
       "      <td>13.19%</td>\n",
       "    </tr>\n",
       "    <tr>\n",
       "      <th>Semi-Deviation</th>\n",
       "      <td>0.54%</td>\n",
       "      <td>0.63%</td>\n",
       "    </tr>\n",
       "    <tr>\n",
       "      <th>Annualized Semi-Deviation</th>\n",
       "      <td>8.59%</td>\n",
       "      <td>9.97%</td>\n",
       "    </tr>\n",
       "    <tr>\n",
       "      <th>Mean Absolute Deviation</th>\n",
       "      <td>0.49%</td>\n",
       "      <td>0.56%</td>\n",
       "    </tr>\n",
       "    <tr>\n",
       "      <th>CVaR at 95%</th>\n",
       "      <td>1.70%</td>\n",
       "      <td>1.86%</td>\n",
       "    </tr>\n",
       "    <tr>\n",
       "      <th>EVaR at 95%</th>\n",
       "      <td>2.63%</td>\n",
       "      <td>3.95%</td>\n",
       "    </tr>\n",
       "    <tr>\n",
       "      <th>Worst Realization</th>\n",
       "      <td>3.73%</td>\n",
       "      <td>5.93%</td>\n",
       "    </tr>\n",
       "    <tr>\n",
       "      <th>CDaR at 95%</th>\n",
       "      <td>4.34%</td>\n",
       "      <td>5.12%</td>\n",
       "    </tr>\n",
       "    <tr>\n",
       "      <th>MAX Drawdown</th>\n",
       "      <td>5.91%</td>\n",
       "      <td>6.61%</td>\n",
       "    </tr>\n",
       "    <tr>\n",
       "      <th>Average Drawdown</th>\n",
       "      <td>0.86%</td>\n",
       "      <td>1.44%</td>\n",
       "    </tr>\n",
       "    <tr>\n",
       "      <th>EDaR at 95%</th>\n",
       "      <td>4.83%</td>\n",
       "      <td>5.65%</td>\n",
       "    </tr>\n",
       "    <tr>\n",
       "      <th>First Lower Partial Moment</th>\n",
       "      <td>0.25%</td>\n",
       "      <td>0.28%</td>\n",
       "    </tr>\n",
       "    <tr>\n",
       "      <th>Ulcer Index</th>\n",
       "      <td>0.014</td>\n",
       "      <td>0.020</td>\n",
       "    </tr>\n",
       "    <tr>\n",
       "      <th>Gini Mean Difference</th>\n",
       "      <td>0.73%</td>\n",
       "      <td>0.84%</td>\n",
       "    </tr>\n",
       "    <tr>\n",
       "      <th>Value at Risk at 95%</th>\n",
       "      <td>0.96%</td>\n",
       "      <td>1.10%</td>\n",
       "    </tr>\n",
       "    <tr>\n",
       "      <th>Drawdown at Risk at 95%</th>\n",
       "      <td>3.61%</td>\n",
       "      <td>3.89%</td>\n",
       "    </tr>\n",
       "    <tr>\n",
       "      <th>Entropic Risk Measure at 95%</th>\n",
       "      <td>2.99</td>\n",
       "      <td>2.99</td>\n",
       "    </tr>\n",
       "    <tr>\n",
       "      <th>Fourth Central Moment</th>\n",
       "      <td>0.000002%</td>\n",
       "      <td>0.000007%</td>\n",
       "    </tr>\n",
       "    <tr>\n",
       "      <th>Fourth Lower Partial Moment</th>\n",
       "      <td>0.000002%</td>\n",
       "      <td>0.000006%</td>\n",
       "    </tr>\n",
       "    <tr>\n",
       "      <th>Skew</th>\n",
       "      <td>-1.08</td>\n",
       "      <td>-1.19</td>\n",
       "    </tr>\n",
       "    <tr>\n",
       "      <th>Kurtosis</th>\n",
       "      <td>8.18</td>\n",
       "      <td>14.22</td>\n",
       "    </tr>\n",
       "    <tr>\n",
       "      <th>Sharpe Ratio</th>\n",
       "      <td>0.20</td>\n",
       "      <td>0.10</td>\n",
       "    </tr>\n",
       "    <tr>\n",
       "      <th>Annualized Sharpe Ratio</th>\n",
       "      <td>3.14</td>\n",
       "      <td>1.66</td>\n",
       "    </tr>\n",
       "    <tr>\n",
       "      <th>Sortino Ratio</th>\n",
       "      <td>0.26</td>\n",
       "      <td>0.14</td>\n",
       "    </tr>\n",
       "    <tr>\n",
       "      <th>Annualized Sortino Ratio</th>\n",
       "      <td>4.08</td>\n",
       "      <td>2.19</td>\n",
       "    </tr>\n",
       "    <tr>\n",
       "      <th>Mean Absolute Deviation Ratio</th>\n",
       "      <td>0.28</td>\n",
       "      <td>0.15</td>\n",
       "    </tr>\n",
       "    <tr>\n",
       "      <th>First Lower Partial Moment Ratio</th>\n",
       "      <td>0.57</td>\n",
       "      <td>0.31</td>\n",
       "    </tr>\n",
       "    <tr>\n",
       "      <th>Value at Risk Ratio at 95%</th>\n",
       "      <td>0.14</td>\n",
       "      <td>0.079</td>\n",
       "    </tr>\n",
       "    <tr>\n",
       "      <th>CVaR Ratio at 95%</th>\n",
       "      <td>0.082</td>\n",
       "      <td>0.046</td>\n",
       "    </tr>\n",
       "    <tr>\n",
       "      <th>Entropic Risk Measure Ratio at 95%</th>\n",
       "      <td>0.00046</td>\n",
       "      <td>0.00029</td>\n",
       "    </tr>\n",
       "    <tr>\n",
       "      <th>EVaR Ratio at 95%</th>\n",
       "      <td>0.053</td>\n",
       "      <td>0.022</td>\n",
       "    </tr>\n",
       "    <tr>\n",
       "      <th>Worst Realization Ratio</th>\n",
       "      <td>0.037</td>\n",
       "      <td>0.015</td>\n",
       "    </tr>\n",
       "    <tr>\n",
       "      <th>Drawdown at Risk Ratio at 95%</th>\n",
       "      <td>0.039</td>\n",
       "      <td>0.022</td>\n",
       "    </tr>\n",
       "    <tr>\n",
       "      <th>CDaR Ratio at 95%</th>\n",
       "      <td>0.032</td>\n",
       "      <td>0.017</td>\n",
       "    </tr>\n",
       "    <tr>\n",
       "      <th>Calmar Ratio</th>\n",
       "      <td>0.024</td>\n",
       "      <td>0.013</td>\n",
       "    </tr>\n",
       "    <tr>\n",
       "      <th>Average Drawdown Ratio</th>\n",
       "      <td>0.16</td>\n",
       "      <td>0.060</td>\n",
       "    </tr>\n",
       "    <tr>\n",
       "      <th>EDaR Ratio at 95%</th>\n",
       "      <td>0.029</td>\n",
       "      <td>0.015</td>\n",
       "    </tr>\n",
       "    <tr>\n",
       "      <th>Ulcer Index Ratio</th>\n",
       "      <td>0.097</td>\n",
       "      <td>0.043</td>\n",
       "    </tr>\n",
       "    <tr>\n",
       "      <th>Gini Mean Difference Ratio</th>\n",
       "      <td>0.19</td>\n",
       "      <td>0.10</td>\n",
       "    </tr>\n",
       "    <tr>\n",
       "      <th>Portfolios Number</th>\n",
       "      <td>38</td>\n",
       "      <td>NaN</td>\n",
       "    </tr>\n",
       "    <tr>\n",
       "      <th>Avg nb of Assets per Portfolio</th>\n",
       "      <td>7.0</td>\n",
       "      <td>NaN</td>\n",
       "    </tr>\n",
       "  </tbody>\n",
       "</table>\n",
       "</div>"
      ],
      "text/plain": [
       "                                   WalkForward    NIFTY50\n",
       "Mean                                     0.14%     0.087%\n",
       "Annualized Mean                         35.04%     21.84%\n",
       "Variance                               0.0049%    0.0069%\n",
       "Annualized Variance                      1.24%      1.74%\n",
       "Semi-Variance                          0.0029%    0.0039%\n",
       "Annualized Semi-Variance                 0.74%      0.99%\n",
       "Standard Deviation                       0.70%      0.83%\n",
       "Annualized Standard Deviation           11.15%     13.19%\n",
       "Semi-Deviation                           0.54%      0.63%\n",
       "Annualized Semi-Deviation                8.59%      9.97%\n",
       "Mean Absolute Deviation                  0.49%      0.56%\n",
       "CVaR at 95%                              1.70%      1.86%\n",
       "EVaR at 95%                              2.63%      3.95%\n",
       "Worst Realization                        3.73%      5.93%\n",
       "CDaR at 95%                              4.34%      5.12%\n",
       "MAX Drawdown                             5.91%      6.61%\n",
       "Average Drawdown                         0.86%      1.44%\n",
       "EDaR at 95%                              4.83%      5.65%\n",
       "First Lower Partial Moment               0.25%      0.28%\n",
       "Ulcer Index                              0.014      0.020\n",
       "Gini Mean Difference                     0.73%      0.84%\n",
       "Value at Risk at 95%                     0.96%      1.10%\n",
       "Drawdown at Risk at 95%                  3.61%      3.89%\n",
       "Entropic Risk Measure at 95%              2.99       2.99\n",
       "Fourth Central Moment                0.000002%  0.000007%\n",
       "Fourth Lower Partial Moment          0.000002%  0.000006%\n",
       "Skew                                     -1.08      -1.19\n",
       "Kurtosis                                  8.18      14.22\n",
       "Sharpe Ratio                              0.20       0.10\n",
       "Annualized Sharpe Ratio                   3.14       1.66\n",
       "Sortino Ratio                             0.26       0.14\n",
       "Annualized Sortino Ratio                  4.08       2.19\n",
       "Mean Absolute Deviation Ratio             0.28       0.15\n",
       "First Lower Partial Moment Ratio          0.57       0.31\n",
       "Value at Risk Ratio at 95%                0.14      0.079\n",
       "CVaR Ratio at 95%                        0.082      0.046\n",
       "Entropic Risk Measure Ratio at 95%     0.00046    0.00029\n",
       "EVaR Ratio at 95%                        0.053      0.022\n",
       "Worst Realization Ratio                  0.037      0.015\n",
       "Drawdown at Risk Ratio at 95%            0.039      0.022\n",
       "CDaR Ratio at 95%                        0.032      0.017\n",
       "Calmar Ratio                             0.024      0.013\n",
       "Average Drawdown Ratio                    0.16      0.060\n",
       "EDaR Ratio at 95%                        0.029      0.015\n",
       "Ulcer Index Ratio                        0.097      0.043\n",
       "Gini Mean Difference Ratio                0.19       0.10\n",
       "Portfolios Number                           38        NaN\n",
       "Avg nb of Assets per Portfolio             7.0        NaN"
      ]
     },
     "execution_count": 42,
     "metadata": {},
     "output_type": "execute_result"
    }
   ],
   "source": [
    "pop.summary()"
   ]
  },
  {
   "cell_type": "code",
   "execution_count": null,
   "metadata": {},
   "outputs": [],
   "source": []
  }
 ],
 "metadata": {
  "kernelspec": {
   "display_name": ".venv",
   "language": "python",
   "name": "python3"
  },
  "language_info": {
   "codemirror_mode": {
    "name": "ipython",
    "version": 3
   },
   "file_extension": ".py",
   "mimetype": "text/x-python",
   "name": "python",
   "nbconvert_exporter": "python",
   "pygments_lexer": "ipython3",
   "version": "3.12.4"
  }
 },
 "nbformat": 4,
 "nbformat_minor": 2
}
